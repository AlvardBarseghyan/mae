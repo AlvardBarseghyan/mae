{
 "cells": [
  {
   "cell_type": "code",
   "execution_count": 1,
   "id": "9121ac53",
   "metadata": {},
   "outputs": [],
   "source": [
    "import pandas as pd \n",
    "import wandb\n",
    "from tqdm.notebook import tqdm\n",
    "\n",
    "\n",
    "api = wandb.Api()\n",
    "entity, project = \"balasani\", \"Few-shot segmentation\"\n",
    "runs = api.runs(entity + \"/\" + project) "
   ]
  },
  {
   "cell_type": "code",
   "execution_count": 2,
   "id": "f32f9c83",
   "metadata": {},
   "outputs": [
    {
     "data": {
      "application/vnd.jupyter.widget-view+json": {
       "model_id": "fcc73ab8bdcf4ca486e370c39bc7a008",
       "version_major": 2,
       "version_minor": 0
      },
      "text/plain": [
       "  0%|          | 0/115 [00:00<?, ?it/s]"
      ]
     },
     "metadata": {},
     "output_type": "display_data"
    }
   ],
   "source": [
    "best_checkpoints = {}\n",
    "for run in tqdm(runs): \n",
    "    val_auc = None\n",
    "    val_loss = None\n",
    "    best_checkpoint = {'val_auc':0, \"val_loss\":0}        \n",
    "\n",
    "    for h in run.scan_history():\n",
    "        if 'val_auc' in h:\n",
    "            if h['val_auc'] != None:\n",
    "                if val_auc == None:\n",
    "                    val_auc = h['val_auc']\n",
    "                    best_checkpoint['val_auc'] = h['epoch']\n",
    "\n",
    "                elif h['val_auc'] >= val_auc:\n",
    "                    val_auc = h['val_auc']\n",
    "                    best_checkpoint['val_auc'] = h['epoch']\n",
    "                \n",
    "        if 'val_loss' in h:\n",
    "            if h['val_loss'] != None:\n",
    "                if val_loss == None:\n",
    "                    val_loss = h['val_loss']\n",
    "                    best_checkpoint['val_loss'] = h['epoch']\n",
    "\n",
    "                elif h['val_loss'] <= val_loss:\n",
    "                    val_loss = h['val_loss']\n",
    "                    best_checkpoint['val_loss'] = h['epoch']\n",
    "                    \n",
    "    best_checkpoints[run.name] = best_checkpoint\n",
    "\n",
    "                "
   ]
  },
  {
   "cell_type": "code",
   "execution_count": 3,
   "id": "c0c125f3",
   "metadata": {},
   "outputs": [],
   "source": [
    "import json\n",
    "with open('best_checkpoints_new.json', 'w') as best_file:\n",
    "    json.dump(best_checkpoints, best_file)"
   ]
  },
  {
   "cell_type": "code",
   "execution_count": 7,
   "id": "51365ff8",
   "metadata": {},
   "outputs": [
    {
     "data": {
      "text/plain": [
       "{'val_auc': 161, 'val_loss': 161}"
      ]
     },
     "execution_count": 7,
     "metadata": {},
     "output_type": "execute_result"
    }
   ],
   "source": [
    "best_checkpoints['cs4pc_256_dino_2_linear']"
   ]
  },
  {
   "cell_type": "code",
   "execution_count": null,
   "id": "c09bbeeb",
   "metadata": {},
   "outputs": [],
   "source": []
  }
 ],
 "metadata": {
  "kernelspec": {
   "display_name": "mae",
   "language": "python",
   "name": "mae"
  },
  "language_info": {
   "codemirror_mode": {
    "name": "ipython",
    "version": 3
   },
   "file_extension": ".py",
   "mimetype": "text/x-python",
   "name": "python",
   "nbconvert_exporter": "python",
   "pygments_lexer": "ipython3",
   "version": "3.10.9"
  }
 },
 "nbformat": 4,
 "nbformat_minor": 5
}
