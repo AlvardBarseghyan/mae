{
 "cells": [
  {
   "cell_type": "code",
   "execution_count": 6,
   "id": "7f2fbf15",
   "metadata": {},
   "outputs": [],
   "source": [
    "import sys\n",
    "sys.path.append('..')\n",
    "\n",
    "from modeling import Segmenter\n",
    "import json\n",
    "import torch"
   ]
  },
  {
   "cell_type": "code",
   "execution_count": 11,
   "id": "bb4337c1",
   "metadata": {},
   "outputs": [],
   "source": [
    "def load_model_from_checkpoint(config_path, checkpoint_path):\n",
    "    with open(config_path) as config:\n",
    "        hparams= json.load(config)\n",
    "    backbone_name = hparams['backbone_name']\n",
    "    num_classes = hparams['num_classes']\n",
    "    classifier = hparams['decoder_head']\n",
    "    backbone_freeze = hparams['backbone_freeze']\n",
    "    read_embeds = hparams['read_embeds']\n",
    "    \n",
    "    model = Segmenter(backbone_name=backbone_name, num_classes=num_classes, backbone_freeze=backbone_freeze, classifier_name=classifier, read_embeds=read_embeds)\n",
    "    \n",
    "#     print('model initial state', model.state_dict())\n",
    "    \n",
    "    checkpoint = torch.load(checkpoint_path)\n",
    "#     print('checkpoint state dict', checkpoint['state_dict'])\n",
    "    model.load_state_dict(checkpoint['state_dict'])\n",
    "#     print('model_state_dict', model.state_dict())\n",
    "    \n",
    "    return model"
   ]
  },
  {
   "cell_type": "code",
   "execution_count": 16,
   "id": "7f8ea146",
   "metadata": {},
   "outputs": [],
   "source": [
    "checkpoint_path = '/home/hkhachatrian/mae/checkpoints/cs4pcs_256_dino_layer_12_linear/epoch=99.ckpt'"
   ]
  },
  {
   "cell_type": "code",
   "execution_count": 17,
   "id": "4a179f52",
   "metadata": {},
   "outputs": [
    {
     "name": "stdout",
     "output_type": "stream",
     "text": [
      " config.json\t 'epoch=39.ckpt'  'epoch=64.ckpt'  'epoch=94.ckpt'\r\n",
      "'epoch=14.ckpt'  'epoch=44.ckpt'  'epoch=69.ckpt'  'epoch=99.ckpt'\r\n",
      "'epoch=19.ckpt'  'epoch=49.ckpt'  'epoch=74.ckpt'  'epoch=9.ckpt'\r\n",
      "'epoch=24.ckpt'  'epoch=4.ckpt'   'epoch=79.ckpt'   last.ckpt\r\n",
      "'epoch=29.ckpt'  'epoch=54.ckpt'  'epoch=84.ckpt'\r\n",
      "'epoch=34.ckpt'  'epoch=59.ckpt'  'epoch=89.ckpt'\r\n"
     ]
    }
   ],
   "source": [
    "!ls /home/hkhachatrian/mae/checkpoints/cs4pcs_256_dino_layer_12_linear/"
   ]
  },
  {
   "cell_type": "code",
   "execution_count": 18,
   "id": "d0919363",
   "metadata": {},
   "outputs": [],
   "source": [
    "config_path = '/home/hkhachatrian/mae/checkpoints/cs4pcs_256_dino_layer_12_linear/config.json'"
   ]
  },
  {
   "cell_type": "code",
   "execution_count": 19,
   "id": "715d4e19",
   "metadata": {},
   "outputs": [],
   "source": [
    "model = load_model_from_checkpoint(config_path, checkpoint_path)"
   ]
  },
  {
   "cell_type": "code",
   "execution_count": null,
   "id": "8c6ec661",
   "metadata": {},
   "outputs": [],
   "source": [
    "model"
   ]
  },
  {
   "cell_type": "code",
   "execution_count": 21,
   "id": "141f7cd9",
   "metadata": {},
   "outputs": [],
   "source": [
    "import numpy as np"
   ]
  },
  {
   "cell_type": "code",
   "execution_count": 23,
   "id": "5afb8ff2",
   "metadata": {},
   "outputs": [],
   "source": [
    "linear = np.load('../predictions/cropped/eval_dino_cs_patches_256_linear_noise_4_layer_12.npy', allow_pickle=True).item()"
   ]
  },
  {
   "cell_type": "code",
   "execution_count": 24,
   "id": "a8d09844",
   "metadata": {},
   "outputs": [],
   "source": [
    "knn = np.load('../predictions/cropped/eval_dino_cs_patches_256_knn_train_72_val_30_noise_4_layer_12.npy', allow_pickle=True).item()"
   ]
  },
  {
   "cell_type": "code",
   "execution_count": 25,
   "id": "2a777031",
   "metadata": {},
   "outputs": [
    {
     "data": {
      "text/plain": [
       "{'file_name': '/mnt/lwll/lwll-coral/hrant/vision/images/cs/cs4pc_256_val_noise_4/noise_4_munster_000097_000019_leftImg8bit.256_0_0.png',\n",
       " 'height': 256,\n",
       " 'width': 256,\n",
       " 'id': 0,\n",
       " 'black_image': array([[ 3,  3,  3, ...,  3,  3,  3],\n",
       "        [ 3,  3,  3, ...,  3,  3,  3],\n",
       "        [ 3,  3,  3, ...,  3,  3,  3],\n",
       "        ...,\n",
       "        [ 3,  3,  3, ..., 17, 17, 17],\n",
       "        [ 3,  3,  3, ..., 17, 17, 17],\n",
       "        [ 3,  3,  3, ..., 17, 17, 17]], dtype=uint8),\n",
       " 'patch_labels': array([27, 23,  5, 22, 11, 29, 29, 21, 17, 21,  9, 22, 25, 29, 22, 23, 21,\n",
       "        22, 29, 23, 27, 14, 21, 21, 21, 21, 29, 22, 23,  9, 21, 21, 29, 22,\n",
       "        10, 22, 15, 14, 29, 29, 22, 29, 22, 11, 29, 14, 21, 14, 23, 29, 22,\n",
       "         5, 23, 29, 22, 23,  9, 15, 23, 14, 15, 14, 23, 15, 31, 21, 22, 22,\n",
       "        22, 23,  9,  9, 21, 18, 29,  9, 14, 29, 22, 23, 23, 29, 23,  9,  5,\n",
       "        29, 24, 29,  5, 22, 22, 25, 23,  9, 22, 21, 22, 23, 14, 23, 23, 29,\n",
       "        23, 14, 18, 23, 23, 23, 23, 23, 22, 14, 14,  9, 23,  9, 23,  9, 29,\n",
       "        23, 23, 23, 23, 23,  9, 27, 29, 28,  5, 24, 29, 27, 25, 23, 23, 11,\n",
       "         9, 23, 23, 29,  9, 29, 29, 29, 29,  9, 17, 21, 23, 29, 23, 23, 29,\n",
       "        23, 23, 28, 29, 29, 29,  9, 29, 15, 29, 23, 23, 23, 29, 29, 25, 23,\n",
       "        14, 15, 14, 14, 29, 29, 23, 23, 29,  9, 29, 29, 23, 27, 29, 29, 29,\n",
       "        29, 18, 22, 29, 14, 29, 29, 22, 33]),\n",
       " 'patch_labels_gt': array([21, 21, 21, 21, 21, 21, 21, 21, 21, 21, 21, 21, 21, 21, 21, 21, 21,\n",
       "        21, 21, 21, 21, 21, 21, 21, 21, 21, 21, 21, 21, 21, 21, 21, 21, 21,\n",
       "        21, 21, 21, 21, 21, 21, 21, 21, 21, 21, 21, 21, 21, 21, 21, 21, 21,\n",
       "        21, 21, 21, 21, 21, 11, 21, 21, 21, 21, 21, 21, 21, 21, 21, 21, 21,\n",
       "        21, 11, 11, 21, 21, 11, 11, 21, 21, 21, 21, 21, 21, 21, 11, 11, 11,\n",
       "        11, 21, 21, 11, 11, 11, 11, 11, 11, 21, 21, 21, 11, 11, 11, 21, 11,\n",
       "        11, 11, 11, 11, 11, 11, 11, 11, 21, 11, 11, 11, 21, 11, 11, 11, 11,\n",
       "        11, 11, 11, 11, 11, 11, 11, 11, 11, 21, 11, 11, 11, 11, 11, 11, 11,\n",
       "        11, 11, 11, 11, 11, 11, 21, 21, 11, 11, 11, 11, 11, 11, 11, 11, 11,\n",
       "        11, 11, 11, 21, 11, 11, 11, 11, 11, 11, 11, 11, 11, 11, 11, 11, 11,\n",
       "        21, 11, 11, 11, 11, 11, 11, 11, 11, 11, 11, 11, 11, 11, 21, 11, 11,\n",
       "        11, 11, 11, 11, 11, 11, 11, 11, 20], dtype=uint8)}"
      ]
     },
     "execution_count": 25,
     "metadata": {},
     "output_type": "execute_result"
    }
   ],
   "source": [
    "linear['images'][0]"
   ]
  },
  {
   "cell_type": "code",
   "execution_count": 26,
   "id": "32b0a6c6",
   "metadata": {},
   "outputs": [
    {
     "data": {
      "text/plain": [
       "{'file_name': '/mnt/lwll/lwll-coral/hrant/vision/images/cs/cs4pc_256/val/munster_000097_000019_leftImg8bit.256_0_0.png',\n",
       " 'height': 256,\n",
       " 'width': 256,\n",
       " 'id': 0,\n",
       " 'black_image': array([[ 3,  3,  3, ...,  3,  3,  3],\n",
       "        [ 3,  3,  3, ...,  3,  3,  3],\n",
       "        [ 3,  3,  3, ...,  3,  3,  3],\n",
       "        ...,\n",
       "        [ 3,  3,  3, ..., 17, 17, 17],\n",
       "        [ 3,  3,  3, ..., 17, 17, 17],\n",
       "        [ 3,  3,  3, ..., 17, 17, 17]], dtype=uint8),\n",
       " 'patch_labels': array([ 7,  7,  7,  7,  7,  7,  7,  7,  7,  7,  7,  7,  7,  7,  7,  7,  7,\n",
       "         7,  7,  7,  7,  7,  7,  7,  7,  7,  7,  7,  7,  7,  7,  7,  7,  8,\n",
       "         7,  7,  7,  7,  7,  7,  7,  7,  7,  7,  7,  8,  7,  7,  7,  7,  7,\n",
       "         7,  7,  7,  7,  7,  7,  7, 21,  7,  7,  7,  7,  7,  7,  7,  7,  7,\n",
       "         7,  7, 21,  7,  7,  7,  7,  7,  7,  7, 21,  7,  7,  7,  7,  7,  7,\n",
       "         7,  7,  7,  7,  7,  7,  7,  7,  7,  7,  7,  7,  7,  7,  7,  7, 21,\n",
       "         7,  7,  7,  7,  7,  7,  7,  7,  7,  7,  7,  7, 11,  7,  7,  7,  7,\n",
       "         7,  7,  7,  7,  7,  7,  7,  7,  7,  7,  7,  7,  7,  7,  7,  7,  7,\n",
       "         7,  7,  7,  7,  7, 21,  7,  7,  7,  7,  7,  7,  7,  7,  7,  7,  7,\n",
       "         7,  7,  7,  7,  7,  7,  7,  7,  7,  7,  7,  7,  7,  7,  7,  7,  7,\n",
       "        21, 21, 21, 11,  7,  7,  7, 21,  7,  7,  7,  7,  1,  1,  7, 21,  7,\n",
       "         7,  7, 21,  7, 21,  7,  7,  7,  7]),\n",
       " 'patch_labels_gt': array([21, 21, 21, 21, 21, 21, 21, 21, 21, 21, 21, 21, 21, 21, 21, 21, 21,\n",
       "        21, 21, 21, 21, 21, 21, 21, 21, 21, 21, 21, 21, 21, 21, 21, 21, 21,\n",
       "        21, 21, 21, 21, 21, 21, 21, 21, 21, 21, 21, 21, 21, 21, 21, 21, 21,\n",
       "        21, 21, 21, 21, 21, 11, 21, 21, 21, 21, 21, 21, 21, 21, 21, 21, 21,\n",
       "        21, 11, 11, 21, 21, 11, 11, 21, 21, 21, 21, 21, 21, 21, 11, 11, 11,\n",
       "        11, 21, 21, 11, 11, 11, 11, 11, 11, 21, 21, 21, 11, 11, 11, 21, 11,\n",
       "        11, 11, 11, 11, 11, 11, 11, 11, 21, 11, 11, 11, 21, 11, 11, 11, 11,\n",
       "        11, 11, 11, 11, 11, 11, 11, 11, 11, 21, 11, 11, 11, 11, 11, 11, 11,\n",
       "        11, 11, 11, 11, 11, 11, 21, 21, 11, 11, 11, 11, 11, 11, 11, 11, 11,\n",
       "        11, 11, 11, 21, 11, 11, 11, 11, 11, 11, 11, 11, 11, 11, 11, 11, 11,\n",
       "        21, 11, 11, 11, 11, 11, 11, 11, 11, 11, 11, 11, 11, 11, 21, 11, 11,\n",
       "        11, 11, 11, 11, 11, 11, 11, 11, 20], dtype=uint8)}"
      ]
     },
     "execution_count": 26,
     "metadata": {},
     "output_type": "execute_result"
    }
   ],
   "source": [
    "knn['images'][0]"
   ]
  },
  {
   "cell_type": "code",
   "execution_count": null,
   "id": "de735f4c",
   "metadata": {},
   "outputs": [],
   "source": []
  }
 ],
 "metadata": {
  "kernelspec": {
   "display_name": "mae",
   "language": "python",
   "name": "mae"
  },
  "language_info": {
   "codemirror_mode": {
    "name": "ipython",
    "version": 3
   },
   "file_extension": ".py",
   "mimetype": "text/x-python",
   "name": "python",
   "nbconvert_exporter": "python",
   "pygments_lexer": "ipython3",
   "version": "3.10.9"
  }
 },
 "nbformat": 4,
 "nbformat_minor": 5
}
