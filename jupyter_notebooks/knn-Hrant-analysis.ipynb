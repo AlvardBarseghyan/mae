{
 "cells": [
  {
   "cell_type": "code",
   "execution_count": null,
   "id": "a050e4e5",
   "metadata": {},
   "outputs": [],
   "source": [
    "import torch\n",
    "import os\n",
    "import numpy as np\n",
    "from tqdm.notebook import tqdm\n",
    "from sklearn import metrics\n",
    "from matplotlib import pyplot as plt\n",
    "import h5py\n",
    "\n",
    "np.random.seed(32635)"
   ]
  },
  {
   "cell_type": "code",
   "execution_count": null,
   "id": "a9e8f7c7",
   "metadata": {},
   "outputs": [],
   "source": [
    "with open('../preprocessing/labels.txt') as f:\n",
    "    labels = {\n",
    "        int(line[22:25].strip()):\n",
    "        (line[:22].strip().replace(\"'\", \"\"), \n",
    "         int(line[25:].strip()))\n",
    "        for line in f.readlines()\n",
    "    }\n",
    "\n",
    "eval_labels = [i for i in labels if 0 <= labels[i][1] < 255]\n",
    "\n",
    "eval_label_names = [labels[i][0] for i in labels if 0 <= labels[i][1] < 255]"
   ]
  },
  {
   "cell_type": "code",
   "execution_count": null,
   "id": "be41eef2",
   "metadata": {},
   "outputs": [],
   "source": [
    "eval_labels"
   ]
  },
  {
   "cell_type": "code",
   "execution_count": null,
   "id": "bf627d1d",
   "metadata": {},
   "outputs": [],
   "source": [
    "eval_label_names"
   ]
  },
  {
   "cell_type": "code",
   "execution_count": null,
   "id": "48758f7e",
   "metadata": {},
   "outputs": [],
   "source": [
    "path = '/mnt/lwll/lwll-coral/hrant/cs_patches_256/predictions_knn/'"
   ]
  },
  {
   "cell_type": "code",
   "execution_count": null,
   "id": "8fbbce02",
   "metadata": {},
   "outputs": [],
   "source": [
    "path_to_knn='/mnt/lwll/lwll-coral/hrant/cs_patches_256/predictions_knn/sup_vit_train_72_val_2000'"
   ]
  },
  {
   "cell_type": "code",
   "execution_count": null,
   "id": "557ceb18",
   "metadata": {},
   "outputs": [],
   "source": [
    "device = 'cpu'\n",
    "model = 'sup_vit'\n",
    "path_to_read = '/mnt/lwll/lwll-coral/hrant/cs_patches_256/'\n",
    "dino_labels_train = torch.from_numpy(np.load(path_to_read + f'{model}_labels_train_72.npy')).to(device=device, dtype=torch.int64)\n",
    "dino_labels_val = torch.from_numpy(np.load(path_to_read + f'{model}_labels_val_2000.npy')).to(device=device, dtype=torch.int64)"
   ]
  },
  {
   "cell_type": "code",
   "execution_count": null,
   "id": "46c721b5",
   "metadata": {},
   "outputs": [],
   "source": [
    "dino_labels_val.shape"
   ]
  },
  {
   "cell_type": "code",
   "execution_count": null,
   "id": "0593a74b",
   "metadata": {},
   "outputs": [],
   "source": [
    "hf_path = os.path.join(path, f'{model}train_72_test_all_10x186_NN.h5')"
   ]
  },
  {
   "cell_type": "code",
   "execution_count": null,
   "id": "698143a3",
   "metadata": {},
   "outputs": [],
   "source": [
    "file = h5py.File(hf_path, 'r')"
   ]
  },
  {
   "cell_type": "markdown",
   "id": "9c416741",
   "metadata": {},
   "source": [
    "# DINO"
   ]
  },
  {
   "cell_type": "code",
   "execution_count": null,
   "id": "697644fe",
   "metadata": {},
   "outputs": [],
   "source": [
    "dino_dict = np.load(os.path.join(path, 'dino_val38k_10x186_NN.npy'), allow_pickle=True).item()"
   ]
  },
  {
   "cell_type": "code",
   "execution_count": null,
   "id": "7ee79ded",
   "metadata": {},
   "outputs": [],
   "source": [
    "good_indices = dino_dict['good_indices']\n",
    "good_values = dino_dict['good_values']"
   ]
  },
  {
   "cell_type": "code",
   "execution_count": null,
   "id": "4386af90",
   "metadata": {},
   "outputs": [],
   "source": [
    "def topk_class(train_labels, values, indices, k=3):\n",
    "    topk_indices = values.topk(k=k, largest=True).indices\n",
    "#     print(topk_indices.shape)\n",
    "    j = 0\n",
    "    topk_labels = torch.zeros_like(indices) #create by chunk size\n",
    "    for topk_ind, good_ind in zip(topk_indices, indices): # for 38000 validation set\n",
    "        topk_indices = [good_ind[i] for i in topk_ind]\n",
    "        tmp_labels = torch.tensor([train_labels[i] for i in topk_indices])\n",
    "        topk_labels[j] = tmp_labels[torch.unique(tmp_labels, return_counts=True)[1].argmax()]\n",
    "        j += 1\n",
    "    return topk_labels"
   ]
  },
  {
   "cell_type": "code",
   "execution_count": null,
   "id": "f0a910cd",
   "metadata": {
    "scrolled": true
   },
   "outputs": [],
   "source": [
    "k=1\n",
    "top_k_classes = []\n",
    "\n",
    "for chunk in tqdm(file.keys()):\n",
    "    chunk_good_values = torch.tensor(file[chunk]['good_values'])\n",
    "    chunk_good_indices = torch.tensor(file[chunk]['good_indices'])\n",
    "    topk_indices = chunk_good_values.topk(k=k, largest=True).indices\n",
    "    topk_labels = torch.zeros_like(topk_indices)\n",
    "    j=0\n",
    "    for ind, good_index in zip(topk_indices, chunk_good_indices):\n",
    "        real_index = good_index[ind]\n",
    "        topk_labels[j] = torch.tensor(dino_labels_train[real_index])\n",
    "        j+=1\n",
    "    \n",
    "    top_k_classes.append(topk_labels)\n",
    "#     top_k_classes.append(topk_class(train_labels=dino_labels_train, values=chunk_good_values,\n",
    "#                                    indices=chunk_good_indices, k=k))\n",
    "top_k_classes = torch.cat(top_k_classes)"
   ]
  },
  {
   "cell_type": "code",
   "execution_count": null,
   "id": "8e81febf",
   "metadata": {},
   "outputs": [],
   "source": [
    "name_to_chunk = {}\n",
    "for chunk_file in os.listdir(path_to_knn):\n",
    "    chunk = int(chunk_file.split('_')[-1].split('.')[0])\n",
    "    name_to_chunk[chunk] = chunk_file"
   ]
  },
  {
   "cell_type": "code",
   "execution_count": null,
   "id": "5f1ed866",
   "metadata": {},
   "outputs": [],
   "source": [
    "name_to_chunk"
   ]
  },
  {
   "cell_type": "code",
   "execution_count": null,
   "id": "084f32ad",
   "metadata": {},
   "outputs": [],
   "source": [
    "k=1\n",
    "top_k_classes = []\n",
    "\n",
    "for _, knn_file in sorted(name_to_chunk.items()):\n",
    "    knn = np.load(os.path.join(path_to_knn, knn_file), allow_pickle=True).item()\n",
    "    chunk_good_values = torch.tensor(knn['good_values'])\n",
    "    chunk_good_indices = torch.tensor(knn['good_indices'])\n",
    "    topk_indices = chunk_good_values.topk(k=k, largest=True).indices\n",
    "    topk_labels = torch.zeros_like(topk_indices)\n",
    "    j=0\n",
    "    for ind, good_index in zip(topk_indices, chunk_good_indices):\n",
    "        real_index = good_index[ind]\n",
    "        topk_labels[j] = torch.tensor(dino_labels_train[real_index])\n",
    "        j+=1\n",
    "    \n",
    "    top_k_classes.append(topk_labels)\n",
    "#     top_k_classes.append(topk_class(train_labels=dino_labels_train, values=chunk_good_values,\n",
    "#                                    indices=chunk_good_indices, k=k))\n",
    "top_k_classes = torch.cat(top_k_classes)\n"
   ]
  },
  {
   "cell_type": "code",
   "execution_count": null,
   "id": "05051930",
   "metadata": {},
   "outputs": [],
   "source": [
    "top_k_classes.shape"
   ]
  },
  {
   "cell_type": "code",
   "execution_count": null,
   "id": "c5fc6186",
   "metadata": {},
   "outputs": [],
   "source": [
    "dino_acc_score_test = metrics.accuracy_score(dino_labels_val, top_k_classes)"
   ]
  },
  {
   "cell_type": "code",
   "execution_count": null,
   "id": "57181969",
   "metadata": {},
   "outputs": [],
   "source": [
    "dino_acc_score_test"
   ]
  },
  {
   "cell_type": "code",
   "execution_count": null,
   "id": "37dd112a",
   "metadata": {},
   "outputs": [],
   "source": [
    "dino_cm_test = metrics.confusion_matrix(dino_labels_val, top_k_classes, labels=eval_labels)"
   ]
  },
  {
   "cell_type": "code",
   "execution_count": null,
   "id": "8769f345",
   "metadata": {},
   "outputs": [],
   "source": [
    "dino_dct = {f'y_pred_{k}': topk_class(dino_labels_train, k=k) for k in [1, 3, 5, 10]}"
   ]
  },
  {
   "cell_type": "code",
   "execution_count": null,
   "id": "4baf639a",
   "metadata": {},
   "outputs": [],
   "source": [
    "k = 5\n",
    "dino_acc_score = metrics.accuracy_score(dino_labels_val, dino_dct[f'y_pred_{k}'])\n",
    "dino_cm = metrics.confusion_matrix(dino_labels_val, dino_dct[f'y_pred_{k}'], labels=eval_labels)"
   ]
  },
  {
   "cell_type": "code",
   "execution_count": null,
   "id": "358de6ee",
   "metadata": {},
   "outputs": [],
   "source": [
    "plt.figure()\n",
    "plt.imshow(dino_cm_test)\n",
    "plt.yticks(range(len(eval_labels)), eval_label_names)\n",
    "plt.xticks(range(len(eval_labels)), eval_label_names, rotation=90)\n",
    "plt.title(f\"SUP_VIT: {k}-NN classification: {dino_acc_score_test*100:.1f}% accuracy\\n( train: 72 images\\nvalidation: 38K patches)\")\n",
    "plt.colorbar();"
   ]
  },
  {
   "cell_type": "code",
   "execution_count": null,
   "id": "ad9339c2",
   "metadata": {},
   "outputs": [],
   "source": [
    "top1_value_indices = good_values.argmax(-1)\n",
    "top1_indices = good_indices[np.arange(good_indices.shape[0]), top1_value_indices]\n",
    "top1_indices.shape"
   ]
  },
  {
   "cell_type": "code",
   "execution_count": null,
   "id": "15e34205",
   "metadata": {},
   "outputs": [],
   "source": [
    "y_pred_top1 = dino_labels_train[top1_indices]"
   ]
  },
  {
   "cell_type": "code",
   "execution_count": null,
   "id": "b3713875",
   "metadata": {},
   "outputs": [],
   "source": [
    "dino_acc = []\n",
    "for cls, name in zip(eval_labels, eval_label_names):\n",
    "    acc = metrics.accuracy_score(dino_labels_val == cls, y_pred_top1 == cls)\n",
    "    dino_acc.append(acc)\n",
    "#     print(f\"{name:>15} = {100*acc:.1f}% acc\")"
   ]
  },
  {
   "cell_type": "code",
   "execution_count": null,
   "id": "cb85b670",
   "metadata": {},
   "outputs": [],
   "source": [
    "dino_acc_score = metrics.accuracy_score(dino_labels_val, y_pred_top1)"
   ]
  },
  {
   "cell_type": "code",
   "execution_count": null,
   "id": "31343a3d",
   "metadata": {},
   "outputs": [],
   "source": [
    "dino_cm = metrics.confusion_matrix(dino_labels_val, y_pred_top1, labels=eval_labels)"
   ]
  },
  {
   "cell_type": "code",
   "execution_count": null,
   "id": "1fb7d516",
   "metadata": {
    "scrolled": false
   },
   "outputs": [],
   "source": [
    "plt.figure()\n",
    "plt.imshow(dino_cm)\n",
    "plt.yticks(range(len(eval_labels)), eval_label_names)\n",
    "plt.xticks(range(len(eval_labels)), eval_label_names, rotation=90)\n",
    "plt.title(f\"DINO: 1-NN classification: {dino_acc_score*100:.1f}% accuracy\\n(validation: 38K patches)\")\n",
    "plt.colorbar();"
   ]
  },
  {
   "cell_type": "markdown",
   "id": "95cfb791",
   "metadata": {},
   "source": [
    "### MAE"
   ]
  },
  {
   "cell_type": "code",
   "execution_count": null,
   "id": "4a9b53d9",
   "metadata": {},
   "outputs": [],
   "source": [
    "mae_dict = np.load(os.path.join(path, 'mae_val38k_10x186_NN.npy'), allow_pickle=True).item()"
   ]
  },
  {
   "cell_type": "code",
   "execution_count": null,
   "id": "a32969d3",
   "metadata": {},
   "outputs": [],
   "source": [
    "good_indices = mae_dict['good_indices']\n",
    "good_values = mae_dict['good_values']"
   ]
  },
  {
   "cell_type": "code",
   "execution_count": null,
   "id": "088cbf4d",
   "metadata": {},
   "outputs": [],
   "source": [
    "mae_dct = {f'y_pred_{k}': topk_class(dino_labels_train, values=good_values, indices=good_indices, k=k) for k in [1, 3, 5, 10]}"
   ]
  },
  {
   "cell_type": "code",
   "execution_count": null,
   "id": "dcc6745e",
   "metadata": {},
   "outputs": [],
   "source": [
    "k = 10\n",
    "mae_acc_score = metrics.accuracy_score(dino_labels_val, mae_dct[f'y_pred_{k}'])\n",
    "mae_cm = metrics.confusion_matrix(dino_labels_val, mae_dct[f'y_pred_{k}'], labels=eval_labels)"
   ]
  },
  {
   "cell_type": "code",
   "execution_count": null,
   "id": "764293ec",
   "metadata": {},
   "outputs": [],
   "source": [
    "plt.figure()\n",
    "plt.imshow(mae_cm)\n",
    "plt.yticks(range(len(eval_labels)), eval_label_names)\n",
    "plt.xticks(range(len(eval_labels)), eval_label_names, rotation=90)\n",
    "plt.title(f\"MAE: {k}-NN classification: {mae_acc_score*100:.1f}% accuracy\\n(validation: 38K patches)\")\n",
    "plt.colorbar();"
   ]
  },
  {
   "cell_type": "code",
   "execution_count": null,
   "id": "39bc707c",
   "metadata": {},
   "outputs": [],
   "source": [
    "top1_value_indices = good_values.argmax(-1)"
   ]
  },
  {
   "cell_type": "code",
   "execution_count": null,
   "id": "ec2d454f",
   "metadata": {},
   "outputs": [],
   "source": [
    "top1_indices = good_indices[np.arange(good_indices.shape[0]), top1_value_indices]"
   ]
  },
  {
   "cell_type": "code",
   "execution_count": null,
   "id": "91177442",
   "metadata": {},
   "outputs": [],
   "source": [
    "y_pred_top1 = dino_labels_train[top1_indices]"
   ]
  },
  {
   "cell_type": "code",
   "execution_count": null,
   "id": "533d02d1",
   "metadata": {},
   "outputs": [],
   "source": [
    "mae_acc = []\n",
    "for cls, name in zip(eval_labels, eval_label_names):\n",
    "    acc = metrics.accuracy_score(dino_labels_val == cls, y_pred_top1 == cls)\n",
    "    mae_acc.append(acc)\n",
    "#     print(f\"{name:>15} = {100*acc:.1f}% acc\")"
   ]
  },
  {
   "cell_type": "code",
   "execution_count": null,
   "id": "6724ba26",
   "metadata": {},
   "outputs": [],
   "source": [
    "mae_acc_score = metrics.accuracy_score(dino_labels_val, y_pred_top1)"
   ]
  },
  {
   "cell_type": "code",
   "execution_count": null,
   "id": "59f0bd29",
   "metadata": {},
   "outputs": [],
   "source": [
    "mae_cm = metrics.confusion_matrix(dino_labels_val, y_pred_top1, labels=eval_labels)"
   ]
  },
  {
   "cell_type": "code",
   "execution_count": null,
   "id": "3c9432f0",
   "metadata": {
    "scrolled": false
   },
   "outputs": [],
   "source": [
    "plt.figure()\n",
    "plt.imshow(mae_cm)\n",
    "plt.yticks(range(len(eval_labels)), eval_label_names)\n",
    "plt.xticks(range(len(eval_labels)), eval_label_names, rotation=90)\n",
    "plt.title(f\"MAE: 1-NN classification: {mae_acc_score*100:.1f}% accuracy\\n(validation: 38K patches)\")\n",
    "plt.colorbar();"
   ]
  },
  {
   "cell_type": "markdown",
   "id": "34609dc7",
   "metadata": {},
   "source": [
    "### Both"
   ]
  },
  {
   "cell_type": "code",
   "execution_count": null,
   "id": "3f928de2",
   "metadata": {},
   "outputs": [],
   "source": [
    "k = 5\n",
    "dino_acc = []\n",
    "for cls, name in zip(eval_labels, eval_label_names):\n",
    "    acc = metrics.accuracy_score(dino_labels_val == cls, dino_dct[f'y_pred_{k}'] == cls)\n",
    "    dino_acc.append(acc)\n",
    "\n",
    "\n",
    "mae_acc = []\n",
    "for cls, name in zip(eval_labels, eval_label_names):\n",
    "    acc = metrics.accuracy_score(dino_labels_val == cls, mae_dct[f'y_pred_{k}'] == cls)\n",
    "    mae_acc.append(acc)\n",
    "\n",
    "plt.figure()\n",
    "plt.barh(eval_label_names, dino_acc, label='DINO', alpha=0.5);\n",
    "plt.barh(eval_label_names, mae_acc, label='MAE', alpha=0.5);\n",
    "plt.title(f\"Per-class accuracy using {k}-NN classifier\")\n",
    "plt.legend()\n",
    "plt.xlim(0.6,1.05)"
   ]
  },
  {
   "cell_type": "code",
   "execution_count": null,
   "id": "d0d74ed9",
   "metadata": {},
   "outputs": [],
   "source": [
    "k = 10\n",
    "dino_10 = []\n",
    "for cls, name in zip(eval_labels, eval_label_names):\n",
    "    acc = metrics.accuracy_score(dino_labels_val == cls, dino_dct[f'y_pred_{k}'] == cls)\n",
    "    dino_10.append(acc)\n",
    "\n",
    "k = 1\n",
    "dino_1 = []\n",
    "for cls, name in zip(eval_labels, eval_label_names):\n",
    "    acc = metrics.accuracy_score(dino_labels_val == cls, dino_dct[f'y_pred_{k}'] == cls)\n",
    "    dino_1.append(acc)\n",
    "\n",
    "plt.figure()\n",
    "plt.barh(eval_label_names, dino_1, label='DINO k=1', alpha=0.5);\n",
    "plt.barh(eval_label_names, dino_10, label='DINO k=10', alpha=0.5);\n",
    "plt.title(f\"Per-class accuracy using for DINO\")\n",
    "plt.legend(bbox_to_anchor=(1, 0.5));\n",
    "# plt.xlim(0.6,1.15)"
   ]
  },
  {
   "cell_type": "code",
   "execution_count": null,
   "id": "5994ab70",
   "metadata": {},
   "outputs": [],
   "source": [
    "k = 10\n",
    "mae_10 = []\n",
    "for cls, name in zip(eval_labels, eval_label_names):\n",
    "    acc = metrics.accuracy_score(dino_labels_val == cls, mae_dct[f'y_pred_{k}'] == cls)\n",
    "    mae_10.append(acc)\n",
    "\n",
    "k = 1\n",
    "mae_1 = []\n",
    "for cls, name in zip(eval_labels, eval_label_names):\n",
    "    acc = metrics.accuracy_score(dino_labels_val == cls, mae_dct[f'y_pred_{k}'] == cls)\n",
    "    mae_1.append(acc)\n",
    "\n",
    "plt.figure()\n",
    "plt.barh(eval_label_names, mae_1, label='MAE k=1', alpha=0.5);\n",
    "plt.barh(eval_label_names, mae_10, label='MAE k=10', alpha=0.5);\n",
    "plt.title(f\"Per-class accuracy using M\")\n",
    "plt.legend(bbox_to_anchor=(1, 0.5));\n",
    "# plt.xlim(0.6,1.05)"
   ]
  },
  {
   "cell_type": "code",
   "execution_count": null,
   "id": "a0424a44",
   "metadata": {},
   "outputs": [],
   "source": [
    "plt.figure()\n",
    "plt.barh(eval_label_names, dino_acc, label='DINO', alpha=0.5);\n",
    "plt.barh(eval_label_names, mae_acc, label='MAE', alpha=0.5);\n",
    "plt.title(\"Per-class accuracy using 1-NN classifier\")\n",
    "plt.legend()\n",
    "plt.xlim(0.6,1.05)"
   ]
  },
  {
   "cell_type": "code",
   "execution_count": null,
   "id": "e67f9d35",
   "metadata": {},
   "outputs": [],
   "source": [
    "np.array(mae_acc) - np.array(dino_acc)"
   ]
  },
  {
   "cell_type": "code",
   "execution_count": null,
   "id": "5543e1b9",
   "metadata": {},
   "outputs": [],
   "source": [
    "plt.figure()\n",
    "plt.barh(eval_label_names, np.array(mae_acc) - np.array(dino_acc));\n",
    "# plt.barh(eval_label_names, mae_acc, label='MAE', alpha=0.5);\n",
    "plt.title(\"Per-class accuracy using 1-NN classifier\")"
   ]
  },
  {
   "cell_type": "code",
   "execution_count": null,
   "id": "62be4ab5",
   "metadata": {},
   "outputs": [],
   "source": [
    "from PIL import Image\n",
    "labelids = Image.open('/mnt/lwll/lwll-coral/hrant/gtFine/test/bonn/bonn_000045_000019_gtFine_labelIds.png')"
   ]
  },
  {
   "cell_type": "code",
   "execution_count": null,
   "id": "1c5ec320",
   "metadata": {},
   "outputs": [],
   "source": [
    "np.array(labelids)"
   ]
  },
  {
   "cell_type": "code",
   "execution_count": null,
   "id": "3135ef70",
   "metadata": {},
   "outputs": [],
   "source": []
  }
 ],
 "metadata": {
  "kernelspec": {
   "display_name": "mae",
   "language": "python",
   "name": "mae"
  },
  "language_info": {
   "codemirror_mode": {
    "name": "ipython",
    "version": 3
   },
   "file_extension": ".py",
   "mimetype": "text/x-python",
   "name": "python",
   "nbconvert_exporter": "python",
   "pygments_lexer": "ipython3",
   "version": "3.10.9"
  }
 },
 "nbformat": 4,
 "nbformat_minor": 5
}
