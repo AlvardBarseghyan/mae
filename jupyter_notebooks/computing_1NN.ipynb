{
 "cells": [
  {
   "cell_type": "code",
   "execution_count": 24,
   "id": "4c4081cd",
   "metadata": {},
   "outputs": [],
   "source": [
    "import torch\n",
    "import os\n",
    "import numpy as np\n",
    "from tqdm.notebook import tqdm\n",
    "from sklearn import metrics\n",
    "from matplotlib import pyplot as plt\n",
    "import cv2\n",
    "np.random.seed(32635)"
   ]
  },
  {
   "cell_type": "code",
   "execution_count": 25,
   "id": "0ad37f95",
   "metadata": {},
   "outputs": [
    {
     "ename": "FileNotFoundError",
     "evalue": "[Errno 2] No such file or directory: './pre_process/labels.txt'",
     "output_type": "error",
     "traceback": [
      "\u001b[0;31m---------------------------------------------------------------------------\u001b[0m",
      "\u001b[0;31mFileNotFoundError\u001b[0m                         Traceback (most recent call last)",
      "Cell \u001b[0;32mIn[25], line 1\u001b[0m\n\u001b[0;32m----> 1\u001b[0m eval_labels, eval_label_names \u001b[38;5;241m=\u001b[39m \u001b[43mget_eval_classes\u001b[49m\u001b[43m(\u001b[49m\u001b[38;5;124;43m'\u001b[39;49m\u001b[38;5;124;43mcs\u001b[39;49m\u001b[38;5;124;43m'\u001b[39;49m\u001b[43m)\u001b[49m\n",
      "File \u001b[0;32m~/mae/jupyter_notebooks/../get_eval_classes.py:4\u001b[0m, in \u001b[0;36mget_eval_classes\u001b[0;34m(dataset_name)\u001b[0m\n\u001b[1;32m      2\u001b[0m \u001b[38;5;28;01mif\u001b[39;00m dataset_name \u001b[38;5;241m==\u001b[39m \u001b[38;5;124m'\u001b[39m\u001b[38;5;124mcs\u001b[39m\u001b[38;5;124m'\u001b[39m:\n\u001b[1;32m      3\u001b[0m     file_path \u001b[38;5;241m=\u001b[39m \u001b[38;5;124m'\u001b[39m\u001b[38;5;124m./pre_process/labels.txt\u001b[39m\u001b[38;5;124m'\u001b[39m\n\u001b[0;32m----> 4\u001b[0m     \u001b[38;5;28;01mwith\u001b[39;00m \u001b[38;5;28;43mopen\u001b[39;49m\u001b[43m(\u001b[49m\u001b[43mfile_path\u001b[49m\u001b[43m)\u001b[49m \u001b[38;5;28;01mas\u001b[39;00m f:\n\u001b[1;32m      5\u001b[0m         labels \u001b[38;5;241m=\u001b[39m {\n\u001b[1;32m      6\u001b[0m             \u001b[38;5;28mint\u001b[39m(line[\u001b[38;5;241m22\u001b[39m:\u001b[38;5;241m25\u001b[39m]\u001b[38;5;241m.\u001b[39mstrip()):\n\u001b[1;32m      7\u001b[0m             (line[:\u001b[38;5;241m22\u001b[39m]\u001b[38;5;241m.\u001b[39mstrip()\u001b[38;5;241m.\u001b[39mreplace(\u001b[38;5;124m\"\u001b[39m\u001b[38;5;124m'\u001b[39m\u001b[38;5;124m\"\u001b[39m, \u001b[38;5;124m\"\u001b[39m\u001b[38;5;124m\"\u001b[39m), \n\u001b[1;32m      8\u001b[0m             \u001b[38;5;28mint\u001b[39m(line[\u001b[38;5;241m25\u001b[39m:]\u001b[38;5;241m.\u001b[39mstrip()))\n\u001b[1;32m      9\u001b[0m             \u001b[38;5;28;01mfor\u001b[39;00m line \u001b[38;5;129;01min\u001b[39;00m f\u001b[38;5;241m.\u001b[39mreadlines()\n\u001b[1;32m     10\u001b[0m         }\n\u001b[1;32m     12\u001b[0m     eval_labels \u001b[38;5;241m=\u001b[39m [i \u001b[38;5;28;01mfor\u001b[39;00m i \u001b[38;5;129;01min\u001b[39;00m labels \u001b[38;5;28;01mif\u001b[39;00m \u001b[38;5;241m0\u001b[39m \u001b[38;5;241m<\u001b[39m\u001b[38;5;241m=\u001b[39m labels[i][\u001b[38;5;241m1\u001b[39m] \u001b[38;5;241m<\u001b[39m \u001b[38;5;241m255\u001b[39m]\n",
      "\u001b[0;31mFileNotFoundError\u001b[0m: [Errno 2] No such file or directory: './pre_process/labels.txt'"
     ]
    }
   ],
   "source": []
  },
  {
   "cell_type": "code",
   "execution_count": 2,
   "id": "dc763cfc",
   "metadata": {},
   "outputs": [],
   "source": [
    "device = 'cpu'\n",
    "path_to_read = '../embeddings/cs_patches_256/' #fair1m"
   ]
  },
  {
   "cell_type": "code",
   "execution_count": 3,
   "id": "d0e2a3bc",
   "metadata": {},
   "outputs": [],
   "source": [
    "def get_eval_classes(file_path):\n",
    "    with open(file_path) as f:\n",
    "        labels = {\n",
    "            int(line[22:25].strip()):\n",
    "            (line[:22].strip().replace(\"'\", \"\"), \n",
    "             int(line[25:].strip()))\n",
    "            for line in f.readlines()\n",
    "        }\n",
    "\n",
    "    eval_labels = [i for i in labels if 0 <= labels[i][1] < 255]\n",
    "    eval_label_names = [labels[i][0] for i in labels if 0 <= labels[i][1] < 255]\n",
    "    \n",
    "    return eval_labels, eval_label_names"
   ]
  },
  {
   "cell_type": "code",
   "execution_count": 4,
   "id": "ac8e3aba",
   "metadata": {},
   "outputs": [],
   "source": []
  },
  {
   "cell_type": "code",
   "execution_count": null,
   "id": "592a73fa",
   "metadata": {},
   "outputs": [],
   "source": [
    "eval_labels_cs"
   ]
  },
  {
   "cell_type": "code",
   "execution_count": null,
   "id": "94d3ade5",
   "metadata": {
    "scrolled": true
   },
   "outputs": [],
   "source": [
    "eval_label_names_cs"
   ]
  },
  {
   "cell_type": "code",
   "execution_count": null,
   "id": "6739ae1c",
   "metadata": {},
   "outputs": [],
   "source": [
    "eval_labels_f1 = [0, 1, 2, 3, 4, 5]"
   ]
  },
  {
   "cell_type": "code",
   "execution_count": null,
   "id": "89494909",
   "metadata": {},
   "outputs": [],
   "source": [
    "eval_label_names_f1 = ['background','airplane', 'ship', 'vehicle', 'court', 'roundabout']"
   ]
  },
  {
   "cell_type": "code",
   "execution_count": 5,
   "id": "80489d3f",
   "metadata": {},
   "outputs": [],
   "source": [
    "def compute_1NN(path_to_knn, train_labels):\n",
    "    k=1\n",
    "    top_k_classes = []\n",
    "    \n",
    "    name_to_chunk = {}\n",
    "    for chunk_file in os.listdir(path_to_knn):\n",
    "        chunk = int(chunk_file.split('_')[-1].split('.')[0])\n",
    "        name_to_chunk[chunk] = chunk_file\n",
    "    \n",
    "    for _, knn_file in sorted(name_to_chunk.items()):\n",
    "        knn = np.load(os.path.join(path_to_knn, knn_file), allow_pickle=True).item()\n",
    "#         knn = np.load(path_to_knn, allow_pickle=True).item()\n",
    "        chunk_good_values = torch.tensor(knn['good_values'])\n",
    "        chunk_good_indices = torch.tensor(knn['good_indices'])\n",
    "        \n",
    "        topk_indices = chunk_good_values.topk(k=k, largest=True).indices\n",
    "        topk_labels = torch.zeros_like(topk_indices)\n",
    "        \n",
    "        j=0\n",
    "        for ind, good_index in zip(topk_indices, chunk_good_indices):\n",
    "            real_index = good_index[ind]\n",
    "            topk_labels[j] = train_labels[real_index]\n",
    "            j+=1\n",
    "    \n",
    "        top_k_classes.append(topk_labels)\n",
    "    top_k_classes = torch.cat(top_k_classes)\n",
    "    \n",
    "    return top_k_classes"
   ]
  },
  {
   "cell_type": "code",
   "execution_count": 14,
   "id": "b58b98d3",
   "metadata": {},
   "outputs": [
    {
     "name": "stdout",
     "output_type": "stream",
     "text": [
      "the acc score is 0.7188775510204082\n"
     ]
    }
   ],
   "source": [
    "model='sup_vit'\n",
    "suffix = '4_prime'\n",
    "path_to_knn = f'{path_to_read}predictions_knn/{model}_train_{suffix}_val_30/'\n",
    "labels_train = torch.from_numpy(np.load(path_to_read + f'{model}_cs4pc_256_train_{suffix}_labels.npy')).to(device=device, dtype=torch.int64)\n",
    "labels_val = torch.from_numpy(np.load(path_to_read + f'mae_cs4pc_256_val_labels.npy')).to(device=device, dtype=torch.int64)\n",
    "'./embeddings/cs_patches_256/dino_cs4pc_256_train_{suffix}_labels.npy'\n",
    "top_k = compute_1NN(path_to_knn, labels_train)\n",
    "acc_score = metrics.accuracy_score(labels_val, top_k)\n",
    "print(f\"the acc score is {acc_score}\")\n",
    "\n",
    "predictions_val_mae = top_k.reshape(960, -1)\n",
    "annots = np.load('/home/hkhachatrian/mae/annotations/cs/cs4pc_256_val.npy', allow_pickle=True).item()\n",
    "for i, preds in enumerate(predictions_val_mae):\n",
    "    annots['images'][i]['patch_labels_gt'] = annots['images'][i]['patch_labels']\n",
    "    annots['images'][i]['patch_labels'] = preds.detach().numpy()\n",
    "\n",
    "np.save(f'../annotations/eval_cs4pc_256_{model}_knn_train_{suffix}_val_30.npy', annots)"
   ]
  },
  {
   "cell_type": "code",
   "execution_count": 15,
   "id": "c543ef4f",
   "metadata": {},
   "outputs": [
    {
     "data": {
      "text/plain": [
       "'../annotations/eval_cs4pc_256_sup_vit_knn_train_4_prime_val_30.npy'"
      ]
     },
     "execution_count": 15,
     "metadata": {},
     "output_type": "execute_result"
    }
   ],
   "source": [
    "f'../annotations/eval_cs4pc_256_{model}_knn_train_{suffix}_val_30.npy'"
   ]
  },
  {
   "cell_type": "code",
   "execution_count": 60,
   "id": "ebd95064",
   "metadata": {},
   "outputs": [
    {
     "name": "stdout",
     "output_type": "stream",
     "text": [
      "for layer 1 the acc score is 0.2663212159863946\n",
      "for layer 2 the acc score is 0.28459289965986395\n",
      "for layer 3 the acc score is 0.29069940476190476\n",
      "for layer 4 the acc score is 0.3410980017006803\n",
      "for layer 5 the acc score is 0.33476828231292516\n",
      "for layer 6 the acc score is 0.3332801870748299\n",
      "for layer 7 the acc score is 0.3753188775510204\n",
      "for layer 8 the acc score is 0.4383078231292517\n",
      "for layer 9 the acc score is 0.48055378401360543\n",
      "for layer 10 the acc score is 0.4830729166666667\n",
      "for layer 11 the acc score is 0.467453231292517\n",
      "for layer 12 the acc score is 0.4715720663265306\n"
     ]
    }
   ],
   "source": [
    "model='mae'\n",
    "for l in range(1, 13):\n",
    "    path_to_knn = f'{path_to_read}predictions_knn/mae_train_72_val_30_layer_{l}' #'/{model}_cs4pc_256_train_72_val_300_188160.npy'\n",
    "    labels_train = torch.from_numpy(np.load(path_to_read + f'{model}_cs4pc_256_train_labels.npy')).to(device=device, dtype=torch.int64)\n",
    "    labels_val = torch.from_numpy(np.load(path_to_read + f'{model}_cs4pc_256_val_labels.npy')).to(device=device, dtype=torch.int64)\n",
    "    \n",
    "    top_k = compute_1NN(path_to_knn, labels_train)  \n",
    "    acc_score = metrics.accuracy_score(labels_val, top_k)\n",
    "    print(f\"for layer {l} the acc score is {acc_score}\")\n",
    "    \n",
    "    predictions_val_mae = top_k.reshape(960, -1)\n",
    "    annots = np.load('/home/hkhachatrian/mae/annotations/cs/cs4pc_256_val.npy', allow_pickle=True).item()\n",
    "    for i, preds in enumerate(predictions_val_mae):\n",
    "        annots['images'][i]['patch_labels_gt'] = annots['images'][i]['patch_labels']\n",
    "        annots['images'][i]['patch_labels'] = preds.detach().numpy()\n",
    "        \n",
    "    np.save(f'../annotations/cs_val_{model}_knn_72_train_30_val_layer_{l}.npy', annots)"
   ]
  },
  {
   "cell_type": "code",
   "execution_count": 67,
   "id": "8a399b55",
   "metadata": {},
   "outputs": [
    {
     "name": "stdout",
     "output_type": "stream",
     "text": [
      "for layer 1 the acc score is 0.15161539713541666\n",
      "for layer 2 the acc score is 0.3750813802083333\n",
      "for layer 3 the acc score is 0.4360432942708333\n",
      "for layer 4 the acc score is 0.44998372395833336\n",
      "for layer 5 the acc score is 0.5137939453125\n",
      "for layer 6 the acc score is 0.5924967447916667\n",
      "for layer 7 the acc score is 0.18811848958333333\n",
      "for layer 8 the acc score is 0.6260213216145833\n",
      "for layer 9 the acc score is 0.6752278645833333\n",
      "for layer 10 the acc score is 0.7229532877604167\n",
      "for layer 11 the acc score is 0.7469523111979167\n",
      "for layer 12 the acc score is 0.7794270833333333\n"
     ]
    }
   ],
   "source": [
    "model='dinov2'\n",
    "for l in range(1, 13):\n",
    "    path_to_knn = f'{path_to_read}predictions_knn/{model}_train_72_val_30_layer_{l}' #'/{model}_cs4pc_256_train_72_val_300_188160.npy'\n",
    "    labels_train = torch.from_numpy(np.load(path_to_read + f'{model}_cs4pc_256_train_labels.npy')).to(device=device, dtype=torch.int64)\n",
    "    labels_val = torch.from_numpy(np.load(path_to_read + f'{model}_cs4pc_256_val_labels.npy')).to(device=device, dtype=torch.int64)\n",
    "    \n",
    "    top_k = compute_1NN(path_to_knn, labels_train)  \n",
    "    acc_score = metrics.accuracy_score(labels_val, top_k)\n",
    "    print(f\"for layer {l} the acc score is {acc_score}\")\n",
    "    \n",
    "    predictions_val_mae = top_k.reshape(960, -1)\n",
    "    annots = np.load('/home/hkhachatrian/mae/annotations/cs/cs4pc_256_val.npy', allow_pickle=True).item()\n",
    "    for i, preds in enumerate(predictions_val_mae):\n",
    "        annots['images'][i]['patch_labels_gt'] = annots['images'][i]['patch_labels']\n",
    "        annots['images'][i]['patch_labels'] = preds.detach().numpy()\n",
    "        \n",
    "    np.save(f'../annotations/cs_val_{model}_knn_72_train_30_val_layer_{l}.npy', annots)"
   ]
  },
  {
   "cell_type": "code",
   "execution_count": 7,
   "id": "3492dc43",
   "metadata": {},
   "outputs": [
    {
     "name": "stdout",
     "output_type": "stream",
     "text": [
      "for layer 1 the acc score is 0.48435374149659866\n",
      "for layer 2 the acc score is 0.5467580782312925\n",
      "for layer 3 the acc score is 0.6053305697278911\n",
      "for layer 4 the acc score is 0.6663849914965987\n",
      "for layer 5 the acc score is 0.7077327806122449\n",
      "for layer 6 the acc score is 0.7349755527210884\n",
      "for layer 7 the acc score is 0.7547778486394557\n",
      "for layer 8 the acc score is 0.766703869047619\n",
      "for layer 9 the acc score is 0.7663105867346939\n",
      "for layer 10 the acc score is 0.7626381802721088\n",
      "for layer 11 the acc score is 0.7589551445578231\n",
      "for layer 12 the acc score is 0.7583811649659864\n"
     ]
    }
   ],
   "source": [
    "model='dino'\n",
    "for l in range(1, 13):\n",
    "    path_to_knn = f'{path_to_read}predictions_knn/{model}_train_72_val_30_layer_{l}' #'/{model}_cs4pc_256_train_72_val_300_188160.npy'\n",
    "    labels_train = torch.from_numpy(np.load(path_to_read + f'{model}_cs4pc_256_train_labels.npy')).to(device=device, dtype=torch.int64)\n",
    "    labels_val = torch.from_numpy(np.load(path_to_read + f'{model}_cs4pc_256_val_labels.npy')).to(device=device, dtype=torch.int64)\n",
    "#     './embeddings/cs_patches_256/dino_cs4pc_256_val_labels.npy'\n",
    "    top_k = compute_1NN(path_to_knn, labels_train)\n",
    "    acc_score = metrics.accuracy_score(labels_val, top_k)\n",
    "    print(f\"for layer {l} the acc score is {acc_score}\")\n",
    "    \n",
    "    predictions_val_mae = top_k.reshape(960, -1)\n",
    "    annots = np.load('/home/hkhachatrian/mae/annotations/cs/cs4pc_256_val.npy', allow_pickle=True).item()\n",
    "    for i, preds in enumerate(predictions_val_mae):\n",
    "        annots['images'][i]['patch_labels_gt'] = annots['images'][i]['patch_labels']\n",
    "        annots['images'][i]['patch_labels'] = preds.detach().numpy()\n",
    "        \n",
    "    np.save(f'../annotations/cs_val_{model}_knn_72_train_30_val_layer_{l}.npy', annots)"
   ]
  },
  {
   "cell_type": "code",
   "execution_count": 66,
   "id": "58f06c27",
   "metadata": {},
   "outputs": [
    {
     "data": {
      "text/plain": [
       "196.0"
      ]
     },
     "execution_count": 66,
     "metadata": {},
     "output_type": "execute_result"
    }
   ],
   "source": [
    "188160 / 960"
   ]
  },
  {
   "cell_type": "code",
   "execution_count": 54,
   "id": "a65bebc1",
   "metadata": {},
   "outputs": [
    {
     "data": {
      "text/plain": [
       "array({'good_indices': array([[  7839,   1197,   6832, ..., 451436, 450016, 451499],\n",
       "       [  1197,   1198,   1191, ..., 451453, 451485, 451468],\n",
       "       [  7947,   1388,   7933, ..., 451406, 451484, 451469],\n",
       "       ...,\n",
       "       [  7935,   7949,   7936, ..., 451406, 451454, 451453],\n",
       "       [  7839,   7936,   7825, ..., 451406, 451421, 451422],\n",
       "       [  7839,   7825,   7811, ..., 451499, 451437, 451422]]), 'good_values': array([[1461.55763637, 1461.4359572 , 1459.76205873, ..., 1247.05486664,\n",
       "        1233.97506029, 1231.36140499],\n",
       "       [1557.52702048, 1554.71048378, 1546.74780112, ..., 1272.79198821,\n",
       "        1264.61654305, 1264.02861656],\n",
       "       [1585.13381105, 1580.73131617, 1580.5316485 , ..., 1274.48698655,\n",
       "        1273.82695251, 1272.23730787],\n",
       "       ...,\n",
       "       [1471.94722853, 1469.3154716 , 1464.1326636 , ..., 1235.23536619,\n",
       "        1233.69760058, 1227.15592063],\n",
       "       [1471.42402097, 1470.08388291, 1466.12965843, ..., 1237.59016313,\n",
       "        1237.43056727, 1230.20784289],\n",
       "       [1474.9944005 , 1468.97127012, 1462.11792502, ..., 1230.92083164,\n",
       "        1228.89087406, 1227.66647328]])}, dtype=object)"
      ]
     },
     "execution_count": 54,
     "metadata": {},
     "output_type": "execute_result"
    }
   ],
   "source": [
    "np.load('../embeddings/cs_patches_256/predictions_knn/mae_train_72_val_30_layer_1/mae_cs4pc_256_train_72_val_300_188160.npy', allow_pickle=True)"
   ]
  },
  {
   "cell_type": "code",
   "execution_count": 49,
   "id": "20b326f2",
   "metadata": {},
   "outputs": [
    {
     "name": "stdout",
     "output_type": "stream",
     "text": [
      "-rw-rw-r--  1 hkhachatrian hkhachatrian 1.3G May  3 12:57 mae_cs4pc_256_train_72_val_300_188160.npy\r\n"
     ]
    }
   ],
   "source": [
    "!ls -lah ../embeddings/cs_patches_256/predictions_knn/mae_train_72_val_30_layer_2 | grep mae"
   ]
  },
  {
   "cell_type": "code",
   "execution_count": null,
   "id": "3be68375",
   "metadata": {},
   "outputs": [],
   "source": [
    "./embeddings/cs_patches_256/mae_cs4pc_256_train_1_embeds.npy"
   ]
  },
  {
   "cell_type": "code",
   "execution_count": 30,
   "id": "a4e5537b",
   "metadata": {},
   "outputs": [],
   "source": [
    "model='dinov2'\n",
    "path_to_knn = f'{path_to_read}predictions_knn/{model}_train_72_val_30_layer_7'\n",
    "labels_train = torch.from_numpy(np.load(path_to_read + f'{model}_7_labels_train_72.npy')).to(device=device, dtype=torch.int64)\n",
    "labels_val = torch.from_numpy(np.load(path_to_read + f'{model}_7_labels_val_30.npy')).to(device=device, dtype=torch.int64)"
   ]
  },
  {
   "cell_type": "code",
   "execution_count": null,
   "id": "9f8b7b31",
   "metadata": {},
   "outputs": [],
   "source": [
    "labels_train.shape"
   ]
  },
  {
   "cell_type": "code",
   "execution_count": null,
   "id": "c0b7d7b8",
   "metadata": {},
   "outputs": [],
   "source": [
    "labels_val.shape"
   ]
  },
  {
   "cell_type": "code",
   "execution_count": null,
   "id": "929923f9",
   "metadata": {},
   "outputs": [],
   "source": [
    "np.load(path_to_read + f'{model}_cs_val_embeds.npy', allow_pickle=True).shape"
   ]
  },
  {
   "cell_type": "code",
   "execution_count": 31,
   "id": "bda7bdc3",
   "metadata": {},
   "outputs": [],
   "source": [
    "top_k = compute_1NN(path_to_knn, labels_train)"
   ]
  },
  {
   "cell_type": "code",
   "execution_count": 32,
   "id": "2601c1d7",
   "metadata": {},
   "outputs": [
    {
     "data": {
      "text/plain": [
       "torch.Size([245760, 1])"
      ]
     },
     "execution_count": 32,
     "metadata": {},
     "output_type": "execute_result"
    }
   ],
   "source": [
    "top_k.shape"
   ]
  },
  {
   "cell_type": "code",
   "execution_count": 33,
   "id": "f9efd50f",
   "metadata": {},
   "outputs": [
    {
     "ename": "RuntimeError",
     "evalue": "shape '[960, 196]' is invalid for input of size 245760",
     "output_type": "error",
     "traceback": [
      "\u001b[0;31m---------------------------------------------------------------------------\u001b[0m",
      "\u001b[0;31mRuntimeError\u001b[0m                              Traceback (most recent call last)",
      "Cell \u001b[0;32mIn[33], line 1\u001b[0m\n\u001b[0;32m----> 1\u001b[0m \u001b[43mtop_k\u001b[49m\u001b[38;5;241;43m.\u001b[39;49m\u001b[43mreshape\u001b[49m\u001b[43m(\u001b[49m\u001b[38;5;241;43m960\u001b[39;49m\u001b[43m,\u001b[49m\u001b[43m \u001b[49m\u001b[38;5;241;43m196\u001b[39;49m\u001b[43m)\u001b[49m\u001b[38;5;241m.\u001b[39mshape\n",
      "\u001b[0;31mRuntimeError\u001b[0m: shape '[960, 196]' is invalid for input of size 245760"
     ]
    }
   ],
   "source": [
    "top_k.reshape(960, -1).shape #196"
   ]
  },
  {
   "cell_type": "code",
   "execution_count": 34,
   "id": "634d119f",
   "metadata": {},
   "outputs": [],
   "source": [
    "acc_score = metrics.accuracy_score(labels_val, top_k)"
   ]
  },
  {
   "cell_type": "code",
   "execution_count": 35,
   "id": "ce8a0d62",
   "metadata": {},
   "outputs": [
    {
     "data": {
      "text/plain": [
       "0.5619059244791667"
      ]
     },
     "execution_count": 35,
     "metadata": {},
     "output_type": "execute_result"
    }
   ],
   "source": [
    "acc_score"
   ]
  },
  {
   "cell_type": "code",
   "execution_count": 52,
   "id": "c33448b4",
   "metadata": {},
   "outputs": [],
   "source": [
    "cm = metrics.confusion_matrix(labels_val, top_k, labels=eval_labels_cs)"
   ]
  },
  {
   "cell_type": "code",
   "execution_count": 31,
   "id": "506c3922",
   "metadata": {},
   "outputs": [
    {
     "data": {
      "text/plain": [
       "True"
      ]
     },
     "execution_count": 31,
     "metadata": {},
     "output_type": "execute_result"
    }
   ],
   "source": [
    "cv2.imwrite('knn_pred.png', cm)"
   ]
  },
  {
   "cell_type": "code",
   "execution_count": 98,
   "id": "c3a0eb98",
   "metadata": {},
   "outputs": [
    {
     "data": {
      "text/plain": [
       "72"
      ]
     },
     "execution_count": 98,
     "metadata": {},
     "output_type": "execute_result"
    }
   ],
   "source": []
  },
  {
   "cell_type": "code",
   "execution_count": 93,
   "id": "02f6e944",
   "metadata": {
    "scrolled": true
   },
   "outputs": [
    {
     "data": {
      "image/png": "[encoded data removed]",
      "text/plain": [
       "<Figure size 640x480 with 2 Axes>"
      ]
     },
     "metadata": {},
     "output_type": "display_data"
    }
   ],
   "source": [
    "plt.figure()\n",
    "plt.yticks(range(len(eval_labels_cs)), eval_label_names_cs)\n",
    "plt.xticks(range(len(eval_labels_cs)), eval_label_names_cs, rotation=90)\n",
    "plt.imshow(cm)\n",
    "plt.title(f\"{model.upper()}: 1-NN classification: {acc_score*100:.1f}% accuracy\\n( train: {len(labels_train)//196//32} images \\nvalidation: {len(labels_val)//196//32} images)\")\n",
    "plt.colorbar()\n",
    "plt.savefig('knn_cm_.png')\n"
   ]
  },
  {
   "cell_type": "code",
   "execution_count": 90,
   "id": "8c34da79",
   "metadata": {},
   "outputs": [
    {
     "data": {
      "text/plain": [
       "'SUP_VIT : 71.9'"
      ]
     },
     "execution_count": 90,
     "metadata": {},
     "output_type": "execute_result"
    }
   ],
   "source": [
    "f\"{model.upper()} : {acc_score*100:.1f}\""
   ]
  },
  {
   "cell_type": "code",
   "execution_count": null,
   "id": "e596aaaf",
   "metadata": {},
   "outputs": [],
   "source": [
    "predictions_val_mae = top_k.reshape(30, 64*128)"
   ]
  },
  {
   "cell_type": "code",
   "execution_count": 36,
   "id": "46929c9c",
   "metadata": {},
   "outputs": [],
   "source": [
    "predictions_val_mae = top_k.reshape(960,256)"
   ]
  },
  {
   "cell_type": "code",
   "execution_count": null,
   "id": "a8b039a8",
   "metadata": {},
   "outputs": [],
   "source": [
    "predictions_val_mae.shape"
   ]
  },
  {
   "cell_type": "code",
   "execution_count": null,
   "id": "5196c200",
   "metadata": {},
   "outputs": [],
   "source": [
    "cv2.resize(predictions_val_mae[0].reshape(64, 128).to(float).detach().numpy(), (2048, 1024))"
   ]
  },
  {
   "cell_type": "code",
   "execution_count": null,
   "id": "de21f66b",
   "metadata": {},
   "outputs": [],
   "source": [
    "predictions_val_mae[0].reshape(73, 146)"
   ]
  },
  {
   "cell_type": "code",
   "execution_count": null,
   "id": "cd2d9b28",
   "metadata": {},
   "outputs": [],
   "source": [
    "plt.imshow(predictions_val_mae[15].reshape(64, 128))#cv2.resize(preds, (2044, 1022), interpolation=cv2.INTER_NEAREST_EXACT))"
   ]
  },
  {
   "cell_type": "code",
   "execution_count": null,
   "id": "3d438a44",
   "metadata": {},
   "outputs": [],
   "source": [
    "a = predictions_val_mae[0].reshape(64, 128).detach().numpy()"
   ]
  },
  {
   "cell_type": "code",
   "execution_count": 37,
   "id": "ea7d3490",
   "metadata": {},
   "outputs": [],
   "source": [
    "annots = np.load('/home/hkhachatrian/mae/annotations/cs/cs4pc_256_val.npy', allow_pickle=True).item()\n",
    "for i, preds in enumerate(predictions_val_mae):\n",
    "#     preds = preds.reshape(64, 128).detach().numpy()\n",
    "#     preds = cv2.resize(preds, (2048, 1024), interpolation=cv2.INTER_NEAREST_EXACT)\n",
    "    annots['images'][i]['black_image_gt'] = annots['images'][i]['black_image']\n",
    "    annots['images'][i]['patch_labels'] = preds.detach().numpy()\n",
    "    "
   ]
  },
  {
   "cell_type": "code",
   "execution_count": null,
   "id": "0edd4ca2",
   "metadata": {},
   "outputs": [],
   "source": [
    "annots = np.load('/home/hkhachatrian/mae/annotations/cs/cs_val.npy', allow_pickle=True).item()\n",
    "for i, preds in enumerate(predictions_val_mae):\n",
    "    preds = preds.reshape(64, 128).detach().numpy()\n",
    "    preds = cv2.resize(preds, (2048, 1024), interpolation=cv2.INTER_NEAREST_EXACT)\n",
    "    annots['images'][i]['black_image_gt'] = annots['images'][i]['black_image']\n",
    "    annots['images'][i]['patch_labels'] = preds\n",
    "    "
   ]
  },
  {
   "cell_type": "code",
   "execution_count": 38,
   "id": "0b6b9065",
   "metadata": {},
   "outputs": [],
   "source": [
    "np.save(f'../annotations/cs_val_{model}_knn_72_train_30_val_layer_7.npy', annots)"
   ]
  },
  {
   "cell_type": "code",
   "execution_count": null,
   "id": "cb36b99c",
   "metadata": {},
   "outputs": [],
   "source": [
    "model='mae'\n",
    "path_to_knn = f'{path_to_read}predictions_knn/{model}_train_8_val_8'\n",
    "labels_train = torch.from_numpy(np.load(path_to_read + f'f1m_{model}_8shot_labels_train.npy' )).to(device=device, dtype=torch.int64)\n",
    "labels_val = torch.from_numpy(np.load(path_to_read + f'f1m_{model}_8shot_labels_val.npy')).to(device=device, dtype=torch.int64)"
   ]
  },
  {
   "cell_type": "code",
   "execution_count": null,
   "id": "89ba68a9",
   "metadata": {},
   "outputs": [],
   "source": [
    "labels_val.shape"
   ]
  },
  {
   "cell_type": "code",
   "execution_count": null,
   "id": "f330ccb0",
   "metadata": {},
   "outputs": [],
   "source": [
    "top_k = compute_1NN(path_to_knn, labels_train)"
   ]
  },
  {
   "cell_type": "code",
   "execution_count": null,
   "id": "d273877c",
   "metadata": {},
   "outputs": [],
   "source": [
    "top_k"
   ]
  },
  {
   "cell_type": "code",
   "execution_count": null,
   "id": "29ccc5ca",
   "metadata": {},
   "outputs": [],
   "source": [
    "acc_score = metrics.accuracy_score(labels_val, top_k)"
   ]
  },
  {
   "cell_type": "code",
   "execution_count": null,
   "id": "9e18b501",
   "metadata": {},
   "outputs": [],
   "source": [
    "acc_score"
   ]
  },
  {
   "cell_type": "code",
   "execution_count": 51,
   "id": "2ce2774f",
   "metadata": {},
   "outputs": [
    {
     "ename": "NameError",
     "evalue": "name 'eval_labels_f1' is not defined",
     "output_type": "error",
     "traceback": [
      "\u001b[0;31m---------------------------------------------------------------------------\u001b[0m",
      "\u001b[0;31mNameError\u001b[0m                                 Traceback (most recent call last)",
      "Cell \u001b[0;32mIn[51], line 1\u001b[0m\n\u001b[0;32m----> 1\u001b[0m cm \u001b[38;5;241m=\u001b[39m metrics\u001b[38;5;241m.\u001b[39mconfusion_matrix(labels_val, top_k, labels\u001b[38;5;241m=\u001b[39m\u001b[43meval_labels_f1\u001b[49m)\n",
      "\u001b[0;31mNameError\u001b[0m: name 'eval_labels_f1' is not defined"
     ]
    }
   ],
   "source": [
    "cm = metrics.confusion_matrix(labels_val, top_k, labels=eval_labels_f1)"
   ]
  },
  {
   "cell_type": "code",
   "execution_count": null,
   "id": "17a32e13",
   "metadata": {},
   "outputs": [],
   "source": [
    "plt.figure()\n",
    "plt.imshow(cm, vmax=5000)\n",
    "plt.yticks(range(len(eval_labels_f1)), eval_label_names_f1)\n",
    "plt.xticks(range(len(eval_labels_f1)), eval_label_names_f1, rotation=90)\n",
    "plt.title(f\"{model.upper()}: 1-NN classification: {acc_score*100:.1f}% accuracy\\n( train: 8 images per class \\nvalidation: 32 images per class)\")\n",
    "plt.colorbar();"
   ]
  },
  {
   "cell_type": "code",
   "execution_count": null,
   "id": "b03572b8",
   "metadata": {},
   "outputs": [],
   "source": [
    "preds_dino = top_k.reshape(40, 196)\n",
    "preds_dino.shape"
   ]
  },
  {
   "cell_type": "code",
   "execution_count": null,
   "id": "f0388565",
   "metadata": {},
   "outputs": [],
   "source": []
  },
  {
   "cell_type": "code",
   "execution_count": null,
   "id": "e1dc36b3",
   "metadata": {},
   "outputs": [],
   "source": [
    "annots = np.load('/mnt/lwll/lwll-coral/FAIR1M/fair1m_1000/250_8shot/val/val.npy', allow_pickle=True).item()\n",
    "for i, preds in enumerate(preds_dino):\n",
    "    annots['images'][i]['patch_labels_gt'] = annots['images'][i]['patch_labels']\n",
    "    annots['images'][i]['patch_labels'] = preds.detach().numpy()\n",
    "np.save('/mnt/lwll/lwll-coral/FAIR1M/fair1m_1000/250_8shot/val/mae_val_pred_1nn.npy', annots)"
   ]
  },
  {
   "cell_type": "code",
   "execution_count": null,
   "id": "d91de9d5",
   "metadata": {},
   "outputs": [],
   "source": [
    "np.load('/mnt/lwll/lwll-coral/FAIR1M/fair1m_1000/250_8shot/val/dino_val_pred_1nn.npy', allow_pickle=True)"
   ]
  },
  {
   "cell_type": "code",
   "execution_count": null,
   "id": "1b262c72",
   "metadata": {},
   "outputs": [],
   "source": [
    "449280//196"
   ]
  },
  {
   "cell_type": "code",
   "execution_count": null,
   "id": "537ae3c2",
   "metadata": {},
   "outputs": [],
   "source": [
    "val_labels_ = np.load(f'/home/hkhachatrian/mae/embeddings/cs_patches_256/mae_labels_val_30.npy', allow_pickle=True)"
   ]
  },
  {
   "cell_type": "code",
   "execution_count": null,
   "id": "7189f8b9",
   "metadata": {},
   "outputs": [],
   "source": [
    "val_labels_.shape"
   ]
  },
  {
   "cell_type": "code",
   "execution_count": null,
   "id": "7dece062",
   "metadata": {},
   "outputs": [],
   "source": [
    "test = np.load('../annotations/cs_256_dino_knn_72_train_30_val.npy', allow_pickle=True)"
   ]
  },
  {
   "cell_type": "code",
   "execution_count": null,
   "id": "408460c9",
   "metadata": {},
   "outputs": [],
   "source": [
    "test"
   ]
  },
  {
   "cell_type": "code",
   "execution_count": null,
   "id": "9d43338e",
   "metadata": {},
   "outputs": [],
   "source": [
    "None and 'asdadaf'"
   ]
  },
  {
   "cell_type": "code",
   "execution_count": null,
   "id": "2cb3515c",
   "metadata": {},
   "outputs": [],
   "source": [
    "True and 'asdadaf'"
   ]
  },
  {
   "cell_type": "code",
   "execution_count": null,
   "id": "79b0ba81",
   "metadata": {},
   "outputs": [],
   "source": [
    "# annotation_train = '/mnt/lwll/lwll-coral/FAIR1M/fair1m_1000/250_8shot/train/train.npy'\n",
    "annotation_val = '/mnt/lwll/lwll-coral/FAIR1M/fair1m_1000/250_8shot/val/val.npy'"
   ]
  },
  {
   "cell_type": "code",
   "execution_count": null,
   "id": "8542fbcb",
   "metadata": {},
   "outputs": [],
   "source": [
    "f1_val = np.load(annotation_val, allow_pickle=True)"
   ]
  },
  {
   "cell_type": "code",
   "execution_count": null,
   "id": "69b2960e",
   "metadata": {},
   "outputs": [],
   "source": [
    "len(f1_val.item()['images'])"
   ]
  },
  {
   "cell_type": "code",
   "execution_count": null,
   "id": "0cd079f1",
   "metadata": {},
   "outputs": [],
   "source": [
    "test = np.load('/mnt/lwll/lwll-coral/hrant/embeddings/fair1m/f1m_mae_8shot_embeds_val.npy', allow_pickle=True)"
   ]
  },
  {
   "cell_type": "code",
   "execution_count": null,
   "id": "1f5d8abd",
   "metadata": {},
   "outputs": [],
   "source": [
    "test.shape"
   ]
  },
  {
   "cell_type": "code",
   "execution_count": null,
   "id": "702479c3",
   "metadata": {},
   "outputs": [],
   "source": [
    "x = torch.tensor([1, 2])"
   ]
  },
  {
   "cell_type": "code",
   "execution_count": null,
   "id": "e154fbee",
   "metadata": {},
   "outputs": [],
   "source": [
    "x.shape"
   ]
  },
  {
   "cell_type": "code",
   "execution_count": null,
   "id": "684ba390",
   "metadata": {},
   "outputs": [],
   "source": [
    "x = x.unsqueeze(dim=0)"
   ]
  },
  {
   "cell_type": "code",
   "execution_count": null,
   "id": "c9c41ef6",
   "metadata": {
    "scrolled": false
   },
   "outputs": [],
   "source": [
    "x.shape"
   ]
  },
  {
   "cell_type": "code",
   "execution_count": null,
   "id": "ede92de8",
   "metadata": {},
   "outputs": [],
   "source": [
    "# 'background', 'airplane', 'ship', 'vehicle', 'court', 'roundabout'\n",
    "names = {\n",
    "    0: 'background',\n",
    "    1: 'airplane',\n",
    "    2: 'ship',\n",
    "    3: 'vehicle',\n",
    "    4: 'court',\n",
    "    5: 'roundabout'\n",
    "}"
   ]
  },
  {
   "cell_type": "code",
   "execution_count": null,
   "id": "45c85733",
   "metadata": {},
   "outputs": [],
   "source": [
    "path = '/mnt/lwll/lwll-coral/FAIR1M/fair1m_1000/250_8shot/val'\n",
    "# dino = np.load(path + '/dino_val_pred_1nn.npy', allow_pickle=True).item()['images']\n",
    "# dino = np.load(path + '/dino_val_pred_gmm.npy', allow_pickle=True).item()['images']\n",
    "# mae = np.load(path + '/mae_val_pred_1nn.npy', allow_pickle=True).item()['images']\n",
    "# mae = np.load(path + '/mae_val_pred_gmm.npy', allow_pickle=True).item()['images']\n",
    "# vit = np.load(path + '/sup_vit_val_pred_1nn.npy', allow_pickle=True).item()['images']\n",
    "vit = np.load(path + '/sup_vit_val_pred_gmm.npy', allow_pickle=True).item()['images']"
   ]
  },
  {
   "cell_type": "code",
   "execution_count": null,
   "id": "86d5ace0",
   "metadata": {},
   "outputs": [],
   "source": []
  },
  {
   "cell_type": "code",
   "execution_count": null,
   "id": "cb8166c4",
   "metadata": {},
   "outputs": [],
   "source": [
    "dino[0]['patch_labels'], dino[0]['patch_labels_gt']"
   ]
  },
  {
   "cell_type": "code",
   "execution_count": null,
   "id": "cbbea394",
   "metadata": {},
   "outputs": [],
   "source": [
    "dino[0]['black_image'].shape"
   ]
  },
  {
   "cell_type": "code",
   "execution_count": null,
   "id": "1bc72781",
   "metadata": {},
   "outputs": [],
   "source": [
    "def iou(labels, labels_gt, class_number):\n",
    "    ind = torch.where(labels != class_number)[0]\n",
    "    labels[ind] = 0\n",
    "    \n",
    "    intersection = torch.logical_and(labels, labels_gt)\n",
    "    union = torch.logical_or(labels, labels_gt)\n",
    "    iou_score = torch.sum(intersection) / torch.sum(union)\n",
    "    return iou_score\n",
    "\n",
    "def count_mIoU(dataset, dataset_name):\n",
    "    miou = []\n",
    "    for class_number in range(1, 6):\n",
    "        ious = []\n",
    "        print('class:', dataset_name, class_number, names[class_number])\n",
    "        for data in dataset:\n",
    "            labels = cv2.resize(data['patch_labels'].reshape(14, 14), (250, 250), interpolation=cv2.INTER_NEAREST_EXACT)\n",
    "            labels = torch.tensor(labels).flatten()\n",
    "            labels_gt = torch.tensor(data['black_image'].flatten())\n",
    "            ious.append(iou(labels, labels_gt, class_number))\n",
    "        ious = torch.tensor(ious)\n",
    "        print('{}'.format(ious[ious>0].mean().item()))\n",
    "        miou.append(ious[ious>0].mean().item())\n",
    "    print('mean:', torch.tensor(miou).mean().item())\n",
    "    print()"
   ]
  },
  {
   "cell_type": "code",
   "execution_count": null,
   "id": "cd7f4db7",
   "metadata": {},
   "outputs": [],
   "source": [
    "count_mIoU(vit, 'vit')"
   ]
  },
  {
   "cell_type": "code",
   "execution_count": null,
   "id": "e1af4d88",
   "metadata": {},
   "outputs": [],
   "source": [
    "for data, name in zip([dino, mae, vit], ['dino', 'mae', 'vit']):\n",
    "    count_mIoU(data, name)"
   ]
  },
  {
   "cell_type": "code",
   "execution_count": null,
   "id": "bb1332d6",
   "metadata": {},
   "outputs": [],
   "source": [
    "ious"
   ]
  },
  {
   "cell_type": "code",
   "execution_count": null,
   "id": "c0fe6817",
   "metadata": {},
   "outputs": [],
   "source": [
    "ind = torch.where(labels != 1)[0]\n",
    "labels[ind] = 0"
   ]
  },
  {
   "cell_type": "code",
   "execution_count": null,
   "id": "7341bd9f",
   "metadata": {},
   "outputs": [],
   "source": [
    "ind.shape"
   ]
  },
  {
   "cell_type": "code",
   "execution_count": null,
   "id": "ddc0d099",
   "metadata": {},
   "outputs": [],
   "source": [
    "torch.where(labels == 1)[0].shape"
   ]
  },
  {
   "cell_type": "code",
   "execution_count": null,
   "id": "6ec4bfd5",
   "metadata": {},
   "outputs": [],
   "source": [
    "dino[0]['patch_labels_gt'].shape"
   ]
  },
  {
   "cell_type": "code",
   "execution_count": null,
   "id": "09b3e81b",
   "metadata": {},
   "outputs": [],
   "source": [
    "labels = labels[labels==class_number]"
   ]
  },
  {
   "cell_type": "code",
   "execution_count": null,
   "id": "d7ea581c",
   "metadata": {},
   "outputs": [],
   "source": [
    "labels.shape"
   ]
  },
  {
   "cell_type": "code",
   "execution_count": null,
   "id": "76c4e034",
   "metadata": {},
   "outputs": [],
   "source": [
    "x = cv2.resize(dino[0]['patch_labels'].reshape(14, 14), (250, 250), interpolation=cv2.INTER_NEAREST_EXACT)\n",
    "plt.imshow(x);"
   ]
  },
  {
   "cell_type": "code",
   "execution_count": 23,
   "id": "257da3df",
   "metadata": {},
   "outputs": [],
   "source": []
  },
  {
   "cell_type": "code",
   "execution_count": 24,
   "id": "9c55317e",
   "metadata": {},
   "outputs": [
    {
     "data": {
      "text/plain": [
       "(7840, 768)"
      ]
     },
     "execution_count": 24,
     "metadata": {},
     "output_type": "execute_result"
    }
   ],
   "source": [
    "train_embeds.shape"
   ]
  },
  {
   "cell_type": "code",
   "execution_count": 25,
   "id": "ebb9247e",
   "metadata": {},
   "outputs": [],
   "source": []
  },
  {
   "cell_type": "code",
   "execution_count": 28,
   "id": "b7b18fe0",
   "metadata": {},
   "outputs": [
    {
     "data": {
      "text/plain": [
       "(196, 768)"
      ]
     },
     "execution_count": 28,
     "metadata": {},
     "output_type": "execute_result"
    }
   ],
   "source": []
  },
  {
   "cell_type": "code",
   "execution_count": 63,
   "id": "5b8a11f4",
   "metadata": {},
   "outputs": [
    {
     "ename": "ValueError",
     "evalue": "x and y must have same first dimension, but have shapes (1,) and (19, 19)",
     "output_type": "error",
     "traceback": [
      "\u001b[0;31m---------------------------------------------------------------------------\u001b[0m",
      "\u001b[0;31mValueError\u001b[0m                                Traceback (most recent call last)",
      "Cell \u001b[0;32mIn[63], line 4\u001b[0m\n\u001b[1;32m      1\u001b[0m x \u001b[38;5;241m=\u001b[39m [\u001b[38;5;241m0\u001b[39m, \u001b[38;5;241m1\u001b[39m, \u001b[38;5;241m2\u001b[39m, \u001b[38;5;241m3\u001b[39m, \u001b[38;5;241m4\u001b[39m, \u001b[38;5;241m5\u001b[39m, \u001b[38;5;241m6\u001b[39m, \u001b[38;5;241m7\u001b[39m, \u001b[38;5;241m8\u001b[39m, \u001b[38;5;241m9\u001b[39m, \u001b[38;5;241m10\u001b[39m, \u001b[38;5;241m11\u001b[39m]\n\u001b[1;32m      2\u001b[0m y \u001b[38;5;241m=\u001b[39m [\u001b[38;5;241m5\u001b[39m, \u001b[38;5;241m7\u001b[39m, \u001b[38;5;241m8\u001b[39m, \u001b[38;5;241m1\u001b[39m, \u001b[38;5;241m4\u001b[39m, \u001b[38;5;241m9\u001b[39m, \u001b[38;5;241m6\u001b[39m, \u001b[38;5;241m3\u001b[39m, \u001b[38;5;241m5\u001b[39m, \u001b[38;5;241m2\u001b[39m, \u001b[38;5;241m1\u001b[39m, \u001b[38;5;241m8\u001b[39m]\n\u001b[0;32m----> 4\u001b[0m \u001b[43mplt\u001b[49m\u001b[38;5;241;43m.\u001b[39;49m\u001b[43mplot\u001b[49m\u001b[43m(\u001b[49m\u001b[38;5;241;43m19\u001b[39;49m\u001b[43m,\u001b[49m\u001b[43m \u001b[49m\u001b[43mcm\u001b[49m\u001b[43m)\u001b[49m\n\u001b[1;32m      6\u001b[0m plt\u001b[38;5;241m.\u001b[39mxlabel(\u001b[38;5;124m'\u001b[39m\u001b[38;5;124mx-axis label\u001b[39m\u001b[38;5;124m'\u001b[39m)\n\u001b[1;32m      7\u001b[0m plt\u001b[38;5;241m.\u001b[39mylabel(\u001b[38;5;124m'\u001b[39m\u001b[38;5;124my-axis label\u001b[39m\u001b[38;5;124m'\u001b[39m)\n",
      "File \u001b[0;32m~/mae/.venv/lib/python3.10/site-packages/matplotlib/pyplot.py:2748\u001b[0m, in \u001b[0;36mplot\u001b[0;34m(scalex, scaley, data, *args, **kwargs)\u001b[0m\n\u001b[1;32m   2746\u001b[0m \u001b[38;5;129m@_copy_docstring_and_deprecators\u001b[39m(Axes\u001b[38;5;241m.\u001b[39mplot)\n\u001b[1;32m   2747\u001b[0m \u001b[38;5;28;01mdef\u001b[39;00m \u001b[38;5;21mplot\u001b[39m(\u001b[38;5;241m*\u001b[39margs, scalex\u001b[38;5;241m=\u001b[39m\u001b[38;5;28;01mTrue\u001b[39;00m, scaley\u001b[38;5;241m=\u001b[39m\u001b[38;5;28;01mTrue\u001b[39;00m, data\u001b[38;5;241m=\u001b[39m\u001b[38;5;28;01mNone\u001b[39;00m, \u001b[38;5;241m*\u001b[39m\u001b[38;5;241m*\u001b[39mkwargs):\n\u001b[0;32m-> 2748\u001b[0m     \u001b[38;5;28;01mreturn\u001b[39;00m \u001b[43mgca\u001b[49m\u001b[43m(\u001b[49m\u001b[43m)\u001b[49m\u001b[38;5;241;43m.\u001b[39;49m\u001b[43mplot\u001b[49m\u001b[43m(\u001b[49m\n\u001b[1;32m   2749\u001b[0m \u001b[43m        \u001b[49m\u001b[38;5;241;43m*\u001b[39;49m\u001b[43margs\u001b[49m\u001b[43m,\u001b[49m\u001b[43m \u001b[49m\u001b[43mscalex\u001b[49m\u001b[38;5;241;43m=\u001b[39;49m\u001b[43mscalex\u001b[49m\u001b[43m,\u001b[49m\u001b[43m \u001b[49m\u001b[43mscaley\u001b[49m\u001b[38;5;241;43m=\u001b[39;49m\u001b[43mscaley\u001b[49m\u001b[43m,\u001b[49m\n\u001b[1;32m   2750\u001b[0m \u001b[43m        \u001b[49m\u001b[38;5;241;43m*\u001b[39;49m\u001b[38;5;241;43m*\u001b[39;49m\u001b[43m(\u001b[49m\u001b[43m{\u001b[49m\u001b[38;5;124;43m\"\u001b[39;49m\u001b[38;5;124;43mdata\u001b[39;49m\u001b[38;5;124;43m\"\u001b[39;49m\u001b[43m:\u001b[49m\u001b[43m \u001b[49m\u001b[43mdata\u001b[49m\u001b[43m}\u001b[49m\u001b[43m \u001b[49m\u001b[38;5;28;43;01mif\u001b[39;49;00m\u001b[43m \u001b[49m\u001b[43mdata\u001b[49m\u001b[43m \u001b[49m\u001b[38;5;129;43;01mis\u001b[39;49;00m\u001b[43m \u001b[49m\u001b[38;5;129;43;01mnot\u001b[39;49;00m\u001b[43m \u001b[49m\u001b[38;5;28;43;01mNone\u001b[39;49;00m\u001b[43m \u001b[49m\u001b[38;5;28;43;01melse\u001b[39;49;00m\u001b[43m \u001b[49m\u001b[43m{\u001b[49m\u001b[43m}\u001b[49m\u001b[43m)\u001b[49m\u001b[43m,\u001b[49m\u001b[43m \u001b[49m\u001b[38;5;241;43m*\u001b[39;49m\u001b[38;5;241;43m*\u001b[39;49m\u001b[43mkwargs\u001b[49m\u001b[43m)\u001b[49m\n",
      "File \u001b[0;32m~/mae/.venv/lib/python3.10/site-packages/matplotlib/axes/_axes.py:1668\u001b[0m, in \u001b[0;36mAxes.plot\u001b[0;34m(self, scalex, scaley, data, *args, **kwargs)\u001b[0m\n\u001b[1;32m   1425\u001b[0m \u001b[38;5;250m\u001b[39m\u001b[38;5;124;03m\"\"\"\u001b[39;00m\n\u001b[1;32m   1426\u001b[0m \u001b[38;5;124;03mPlot y versus x as lines and/or markers.\u001b[39;00m\n\u001b[1;32m   1427\u001b[0m \n\u001b[0;32m   (...)\u001b[0m\n\u001b[1;32m   1665\u001b[0m \u001b[38;5;124;03m(``'green'``) or hex strings (``'#008000'``).\u001b[39;00m\n\u001b[1;32m   1666\u001b[0m \u001b[38;5;124;03m\"\"\"\u001b[39;00m\n\u001b[1;32m   1667\u001b[0m kwargs \u001b[38;5;241m=\u001b[39m cbook\u001b[38;5;241m.\u001b[39mnormalize_kwargs(kwargs, mlines\u001b[38;5;241m.\u001b[39mLine2D)\n\u001b[0;32m-> 1668\u001b[0m lines \u001b[38;5;241m=\u001b[39m [\u001b[38;5;241m*\u001b[39m\u001b[38;5;28mself\u001b[39m\u001b[38;5;241m.\u001b[39m_get_lines(\u001b[38;5;241m*\u001b[39margs, data\u001b[38;5;241m=\u001b[39mdata, \u001b[38;5;241m*\u001b[39m\u001b[38;5;241m*\u001b[39mkwargs)]\n\u001b[1;32m   1669\u001b[0m \u001b[38;5;28;01mfor\u001b[39;00m line \u001b[38;5;129;01min\u001b[39;00m lines:\n\u001b[1;32m   1670\u001b[0m     \u001b[38;5;28mself\u001b[39m\u001b[38;5;241m.\u001b[39madd_line(line)\n",
      "File \u001b[0;32m~/mae/.venv/lib/python3.10/site-packages/matplotlib/axes/_base.py:311\u001b[0m, in \u001b[0;36m_process_plot_var_args.__call__\u001b[0;34m(self, data, *args, **kwargs)\u001b[0m\n\u001b[1;32m    309\u001b[0m     this \u001b[38;5;241m+\u001b[39m\u001b[38;5;241m=\u001b[39m args[\u001b[38;5;241m0\u001b[39m],\n\u001b[1;32m    310\u001b[0m     args \u001b[38;5;241m=\u001b[39m args[\u001b[38;5;241m1\u001b[39m:]\n\u001b[0;32m--> 311\u001b[0m \u001b[38;5;28;01myield from\u001b[39;00m \u001b[38;5;28;43mself\u001b[39;49m\u001b[38;5;241;43m.\u001b[39;49m\u001b[43m_plot_args\u001b[49m\u001b[43m(\u001b[49m\n\u001b[1;32m    312\u001b[0m \u001b[43m    \u001b[49m\u001b[43mthis\u001b[49m\u001b[43m,\u001b[49m\u001b[43m \u001b[49m\u001b[43mkwargs\u001b[49m\u001b[43m,\u001b[49m\u001b[43m \u001b[49m\u001b[43mambiguous_fmt_datakey\u001b[49m\u001b[38;5;241;43m=\u001b[39;49m\u001b[43mambiguous_fmt_datakey\u001b[49m\u001b[43m)\u001b[49m\n",
      "File \u001b[0;32m~/mae/.venv/lib/python3.10/site-packages/matplotlib/axes/_base.py:504\u001b[0m, in \u001b[0;36m_process_plot_var_args._plot_args\u001b[0;34m(self, tup, kwargs, return_kwargs, ambiguous_fmt_datakey)\u001b[0m\n\u001b[1;32m    501\u001b[0m     \u001b[38;5;28mself\u001b[39m\u001b[38;5;241m.\u001b[39maxes\u001b[38;5;241m.\u001b[39myaxis\u001b[38;5;241m.\u001b[39mupdate_units(y)\n\u001b[1;32m    503\u001b[0m \u001b[38;5;28;01mif\u001b[39;00m x\u001b[38;5;241m.\u001b[39mshape[\u001b[38;5;241m0\u001b[39m] \u001b[38;5;241m!=\u001b[39m y\u001b[38;5;241m.\u001b[39mshape[\u001b[38;5;241m0\u001b[39m]:\n\u001b[0;32m--> 504\u001b[0m     \u001b[38;5;28;01mraise\u001b[39;00m \u001b[38;5;167;01mValueError\u001b[39;00m(\u001b[38;5;124mf\u001b[39m\u001b[38;5;124m\"\u001b[39m\u001b[38;5;124mx and y must have same first dimension, but \u001b[39m\u001b[38;5;124m\"\u001b[39m\n\u001b[1;32m    505\u001b[0m                      \u001b[38;5;124mf\u001b[39m\u001b[38;5;124m\"\u001b[39m\u001b[38;5;124mhave shapes \u001b[39m\u001b[38;5;132;01m{\u001b[39;00mx\u001b[38;5;241m.\u001b[39mshape\u001b[38;5;132;01m}\u001b[39;00m\u001b[38;5;124m and \u001b[39m\u001b[38;5;132;01m{\u001b[39;00my\u001b[38;5;241m.\u001b[39mshape\u001b[38;5;132;01m}\u001b[39;00m\u001b[38;5;124m\"\u001b[39m)\n\u001b[1;32m    506\u001b[0m \u001b[38;5;28;01mif\u001b[39;00m x\u001b[38;5;241m.\u001b[39mndim \u001b[38;5;241m>\u001b[39m \u001b[38;5;241m2\u001b[39m \u001b[38;5;129;01mor\u001b[39;00m y\u001b[38;5;241m.\u001b[39mndim \u001b[38;5;241m>\u001b[39m \u001b[38;5;241m2\u001b[39m:\n\u001b[1;32m    507\u001b[0m     \u001b[38;5;28;01mraise\u001b[39;00m \u001b[38;5;167;01mValueError\u001b[39;00m(\u001b[38;5;124mf\u001b[39m\u001b[38;5;124m\"\u001b[39m\u001b[38;5;124mx and y can be no greater than 2D, but have \u001b[39m\u001b[38;5;124m\"\u001b[39m\n\u001b[1;32m    508\u001b[0m                      \u001b[38;5;124mf\u001b[39m\u001b[38;5;124m\"\u001b[39m\u001b[38;5;124mshapes \u001b[39m\u001b[38;5;132;01m{\u001b[39;00mx\u001b[38;5;241m.\u001b[39mshape\u001b[38;5;132;01m}\u001b[39;00m\u001b[38;5;124m and \u001b[39m\u001b[38;5;132;01m{\u001b[39;00my\u001b[38;5;241m.\u001b[39mshape\u001b[38;5;132;01m}\u001b[39;00m\u001b[38;5;124m\"\u001b[39m)\n",
      "\u001b[0;31mValueError\u001b[0m: x and y must have same first dimension, but have shapes (1,) and (19, 19)"
     ]
    },
    {
     "data": {
      "image/png": "[encoded data removed]",
      "text/plain": [
       "<Figure size 640x480 with 1 Axes>"
      ]
     },
     "metadata": {},
     "output_type": "display_data"
    }
   ],
   "source": [
    "x = [0, 1, 2, 3, 4, 5, 6, 7, 8, 9, 10, 11]\n",
    "y = [5, 7, 8, 1, 4, 9, 6, 3, 5, 2, 1, 8]\n",
    " \n",
    "plt.plot(19, cm)\n",
    " \n",
    "plt.xlabel('x-axis label')\n",
    "plt.ylabel('y-axis label')\n",
    "plt.title('Matplotlib Example')\n",
    " \n",
    "plt.savefig(\"output.jpg\")"
   ]
  },
  {
   "cell_type": "code",
   "execution_count": 73,
   "id": "88f4b264",
   "metadata": {},
   "outputs": [
    {
     "data": {
      "text/plain": [
       "'./knn_matrixes/model_name/aswdas.png'"
      ]
     },
     "execution_count": 73,
     "metadata": {},
     "output_type": "execute_result"
    }
   ],
   "source": [
    "os.path.join('./knn_matrixes/model_name', 'aswdas'+'.png')"
   ]
  },
  {
   "cell_type": "code",
   "execution_count": 71,
   "id": "95dbfa40",
   "metadata": {},
   "outputs": [
    {
     "name": "stdout",
     "output_type": "stream",
     "text": [
      "none\n"
     ]
    }
   ],
   "source": [
    "if True:\n",
    "    print('none')"
   ]
  },
  {
   "cell_type": "code",
   "execution_count": null,
   "id": "cb04d4eb",
   "metadata": {},
   "outputs": [],
   "source": [
    "import os.path\n",
    "os.path.isfile(fname) "
   ]
  },
  {
   "cell_type": "code",
   "execution_count": 75,
   "id": "8e3be480",
   "metadata": {},
   "outputs": [
    {
     "ename": "NameError",
     "evalue": "name 'CSVWriter' is not defined",
     "output_type": "error",
     "traceback": [
      "\u001b[0;31m---------------------------------------------------------------------------\u001b[0m",
      "\u001b[0;31mNameError\u001b[0m                                 Traceback (most recent call last)",
      "Cell \u001b[0;32mIn[75], line 1\u001b[0m\n\u001b[0;32m----> 1\u001b[0m mycsv \u001b[38;5;241m=\u001b[39m \u001b[43mCSVWriter\u001b[49m(\u001b[38;5;124m'\u001b[39m\u001b[38;5;124m./test.csv\u001b[39m\u001b[38;5;124m'\u001b[39m)\n\u001b[1;32m      2\u001b[0m mycsv\u001b[38;5;241m.\u001b[39mwrite(\u001b[38;5;241m12\u001b[39m,\u001b[38;5;124m'\u001b[39m\u001b[38;5;124mgreen\u001b[39m\u001b[38;5;124m'\u001b[39m,\u001b[38;5;124m'\u001b[39m\u001b[38;5;124mapples\u001b[39m\u001b[38;5;124m'\u001b[39m)\n\u001b[1;32m      3\u001b[0m \u001b[38;5;66;03m# with open('knn_accuray.csv','a') as fd:\u001b[39;00m\n\u001b[1;32m      4\u001b[0m \u001b[38;5;66;03m#     fd.write(12,'green','apples')\u001b[39;00m\n",
      "\u001b[0;31mNameError\u001b[0m: name 'CSVWriter' is not defined"
     ]
    }
   ],
   "source": [
    "mycsv = CSVWriter('./test.csv')\n",
    "mycsv.write(12,'green','apples')\n",
    "# with open('knn_accuray.csv','a') as fd:\n",
    "#     fd.write(12,'green','apples')"
   ]
  },
  {
   "cell_type": "code",
   "execution_count": 77,
   "id": "3098b1f7",
   "metadata": {},
   "outputs": [],
   "source": [
    "np.save('knn_test.npy', {'acc': 5})"
   ]
  },
  {
   "cell_type": "code",
   "execution_count": 81,
   "id": "e074bffd",
   "metadata": {},
   "outputs": [],
   "source": [
    "data = {'acc': 5}"
   ]
  },
  {
   "cell_type": "code",
   "execution_count": 79,
   "id": "6e7efe83",
   "metadata": {},
   "outputs": [
    {
     "data": {
      "text/plain": [
       "array({'acc': 5}, dtype=object)"
      ]
     },
     "execution_count": 79,
     "metadata": {},
     "output_type": "execute_result"
    }
   ],
   "source": [
    "np.load('knn_test.npy', allow_pickle=True)"
   ]
  },
  {
   "cell_type": "code",
   "execution_count": 91,
   "id": "29cb299f",
   "metadata": {},
   "outputs": [],
   "source": [
    "with open(\"test.txt\", \"a\") as myfile:\n",
    "    \n",
    "    myfile.write(f\"{model.upper()} : {acc_score*100:.1f}\\n\")"
   ]
  },
  {
   "cell_type": "code",
   "execution_count": 103,
   "id": "11256136",
   "metadata": {},
   "outputs": [
    {
     "data": {
      "text/plain": [
       "72"
      ]
     },
     "execution_count": 103,
     "metadata": {},
     "output_type": "execute_result"
    }
   ],
   "source": [
    "len(np.load('/home/hkhachatrian/mae/annotations/cs/cs_train.npy', allow_pickle=True).item()['images'])"
   ]
  },
  {
   "cell_type": "code",
   "execution_count": 104,
   "id": "511c960f",
   "metadata": {},
   "outputs": [],
   "source": [
    "train = np.load('/home/hkhachatrian/mae/annotations/cs/cs4pc_256_train.npy', allow_pickle=True)"
   ]
  },
  {
   "cell_type": "code",
   "execution_count": 106,
   "id": "3af11672",
   "metadata": {},
   "outputs": [
    {
     "data": {
      "text/plain": [
       "2304"
      ]
     },
     "execution_count": 106,
     "metadata": {},
     "output_type": "execute_result"
    }
   ],
   "source": [
    "len(train.item()['images'])"
   ]
  },
  {
   "cell_type": "code",
   "execution_count": 107,
   "id": "5db5b83c",
   "metadata": {},
   "outputs": [
    {
     "data": {
      "text/plain": [
       "196"
      ]
     },
     "execution_count": 107,
     "metadata": {},
     "output_type": "execute_result"
    }
   ],
   "source": [
    "len(labels_train)//len(train.item()['images'])"
   ]
  },
  {
   "cell_type": "code",
   "execution_count": 110,
   "id": "ff1ff6de",
   "metadata": {},
   "outputs": [
    {
     "data": {
      "text/plain": [
       "196"
      ]
     },
     "execution_count": 110,
     "metadata": {},
     "output_type": "execute_result"
    }
   ],
   "source": [
    "labels_train.reshape(len(train.item()['images']), -1).shape[-1]"
   ]
  },
  {
   "cell_type": "code",
   "execution_count": 111,
   "id": "a27dfae1",
   "metadata": {},
   "outputs": [
    {
     "data": {
      "text/plain": [
       "'/home/hkhachatrian/mae/embeddings/cs_patches_256/layers'"
      ]
     },
     "execution_count": 111,
     "metadata": {},
     "output_type": "execute_result"
    }
   ],
   "source": [
    "os.path.dirname('/home/hkhachatrian/mae/embeddings/cs_patches_256/layers/dino_cs4pc_256_train_1_embeds.npy')"
   ]
  },
  {
   "cell_type": "code",
   "execution_count": 117,
   "id": "89318a7b",
   "metadata": {},
   "outputs": [],
   "source": [
    "a = ''"
   ]
  },
  {
   "cell_type": "code",
   "execution_count": 118,
   "id": "3ccb5992",
   "metadata": {},
   "outputs": [
    {
     "data": {
      "text/plain": [
       "'jajndjanf'"
      ]
     },
     "execution_count": 118,
     "metadata": {},
     "output_type": "execute_result"
    }
   ],
   "source": [
    "f'jajndjanf{a}'"
   ]
  },
  {
   "cell_type": "code",
   "execution_count": 122,
   "id": "74d065da",
   "metadata": {},
   "outputs": [
    {
     "data": {
      "text/plain": [
       "72"
      ]
     },
     "execution_count": 122,
     "metadata": {},
     "output_type": "execute_result"
    }
   ],
   "source": [
    "labels_train.reshape(-1, 196).shape[0]//32"
   ]
  },
  {
   "cell_type": "code",
   "execution_count": 123,
   "id": "e044420a",
   "metadata": {},
   "outputs": [],
   "source": [
    "patch_count = labels_val.reshape(960, -1).shape[-1]"
   ]
  },
  {
   "cell_type": "code",
   "execution_count": 124,
   "id": "58e88512",
   "metadata": {},
   "outputs": [
    {
     "data": {
      "text/plain": [
       "960"
      ]
     },
     "execution_count": 124,
     "metadata": {},
     "output_type": "execute_result"
    }
   ],
   "source": [
    "188160//196"
   ]
  },
  {
   "cell_type": "code",
   "execution_count": 130,
   "id": "a5a7dea3",
   "metadata": {},
   "outputs": [
    {
     "data": {
      "text/plain": [
       "(451584,)"
      ]
     },
     "execution_count": 130,
     "metadata": {},
     "output_type": "execute_result"
    }
   ],
   "source": [
    "np.load('/home/hkhachatrian/mae/embeddings/cs_patches_256/dino_labels_train_72.npy', allow_pickle=True).shape"
   ]
  },
  {
   "cell_type": "code",
   "execution_count": 128,
   "id": "bd5e2733",
   "metadata": {},
   "outputs": [
    {
     "data": {
      "text/plain": [
       "500.0"
      ]
     },
     "execution_count": 128,
     "metadata": {},
     "output_type": "execute_result"
    }
   ],
   "source": [
    "3136000//196/32"
   ]
  },
  {
   "cell_type": "code",
   "execution_count": 131,
   "id": "32336c8a",
   "metadata": {},
   "outputs": [
    {
     "data": {
      "text/plain": [
       "72"
      ]
     },
     "execution_count": 131,
     "metadata": {},
     "output_type": "execute_result"
    }
   ],
   "source": [
    "451584//196//32"
   ]
  },
  {
   "cell_type": "code",
   "execution_count": 132,
   "id": "2c9deace",
   "metadata": {},
   "outputs": [
    {
     "data": {
      "text/plain": [
       "30"
      ]
     },
     "execution_count": 132,
     "metadata": {},
     "output_type": "execute_result"
    }
   ],
   "source": [
    "245760//256//32"
   ]
  },
  {
   "cell_type": "code",
   "execution_count": null,
   "id": "27a90f74",
   "metadata": {},
   "outputs": [],
   "source": []
  }
 ],
 "metadata": {
  "kernelspec": {
   "display_name": "mae",
   "language": "python",
   "name": "mae"
  },
  "language_info": {
   "codemirror_mode": {
    "name": "ipython",
    "version": 3
   },
   "file_extension": ".py",
   "mimetype": "text/x-python",
   "name": "python",
   "nbconvert_exporter": "python",
   "pygments_lexer": "ipython3",
   "version": "3.10.9"
  }
 },
 "nbformat": 4,
 "nbformat_minor": 5
}
