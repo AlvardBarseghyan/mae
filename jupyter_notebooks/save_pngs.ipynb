{
 "cells": [
  {
   "cell_type": "code",
   "execution_count": 1,
   "id": "5b07e961",
   "metadata": {},
   "outputs": [],
   "source": [
    "import torch\n",
    "from PIL import Image"
   ]
  },
  {
   "cell_type": "code",
   "execution_count": 2,
   "id": "3069e110",
   "metadata": {},
   "outputs": [],
   "source": [
    "import numpy as np\n",
    "# %matplotlib notebook\n",
    "import matplotlib.pyplot as plt"
   ]
  },
  {
   "cell_type": "code",
   "execution_count": 74,
   "id": "e3595ef3",
   "metadata": {},
   "outputs": [
    {
     "name": "stdout",
     "output_type": "stream",
     "text": [
      "CPU times: user 139 ms, sys: 413 ms, total: 552 ms\n",
      "Wall time: 551 ms\n"
     ]
    }
   ],
   "source": [
    "%%time\n",
    "file = np.load('./annotations/eval_cs4pc_upsampled_512_val_weighted.npy', allow_pickle=True)#.item()['images']"
   ]
  },
  {
   "cell_type": "code",
   "execution_count": null,
   "id": "41a1a290",
   "metadata": {},
   "outputs": [],
   "source": []
  },
  {
   "cell_type": "code",
   "execution_count": 71,
   "id": "7a90ee20",
   "metadata": {},
   "outputs": [
    {
     "name": "stdout",
     "output_type": "stream",
     "text": [
      "total 46G\r\n",
      "drwxrwxr-x  2 hkhachatrian hkhachatrian   42 Feb 23 10:10  .\r\n",
      "drwxrwxr-x 26 hkhachatrian hkhachatrian   39 Feb 22 05:49  ..\r\n",
      "-rw-rw-r--  1 hkhachatrian hkhachatrian 139K Feb 10 09:53  annotations_nightowls_coco.json\r\n",
      "-rw-rw-r--  1 hkhachatrian hkhachatrian 1.5G Feb 20 12:12  cs4pc_14_val_for_eval.npy\r\n",
      "-rw-rw-r--  1 hkhachatrian hkhachatrian 184M Feb 21 10:50  cs4pc_200_train.npy\r\n",
      "-rw-rw-r--  1 hkhachatrian hkhachatrian  77M Feb 21 10:52  cs4pc_200_val.npy\r\n",
      "-rw-rw-r--  1 hkhachatrian hkhachatrian 145M Feb 22 05:46  cs4pc_256_train.npy\r\n",
      "-rw-rw-r--  1 hkhachatrian hkhachatrian  61M Feb 22 05:47  cs4pc_256_val.npy\r\n",
      "-rw-rw-r--  1 hkhachatrian hkhachatrian 199M Feb 21 10:51  cs4pc_400_train.npy\r\n",
      "-rw-rw-r--  1 hkhachatrian hkhachatrian  83M Feb 21 10:52  cs4pc_400_val.npy\r\n",
      "-rw-rw-r--  1 hkhachatrian hkhachatrian 145M Feb 22 05:49  cs4pc_512_train.npy\r\n",
      "-rw-rw-r--  1 hkhachatrian hkhachatrian  61M Feb 22 05:50  cs4pc_512_val.npy\r\n",
      "-rw-rw-r--  1 hkhachatrian hkhachatrian 1.5G Feb 20 12:00  cs4pc_upsampled_19_val_for_eval.npy\r\n",
      "-rw-rw-r--  1 hkhachatrian hkhachatrian 601M Feb 23 09:42  cs4pc_upsampled_256_val.npy\r\n",
      "-rw-rw-r--  1 hkhachatrian hkhachatrian 1.5G Feb 21 11:38  cs4pc_upsampled_400_train.npy\r\n",
      "-rw-rw-r--  1 hkhachatrian hkhachatrian 601M Feb 21 11:40  cs4pc_upsampled_400_val.npy\r\n",
      "-rw-rw-r--  1 hkhachatrian hkhachatrian 601M Feb 23 09:15  cs4pc_upsampled_400_val_weighted.npy\r\n",
      "-rw-rw-r--  1 hkhachatrian hkhachatrian 601M Feb 23 09:43  cs4pc_upsampled_512_val.npy\r\n",
      "-rw-rw-r--  1 hkhachatrian hkhachatrian 601M Feb 23 08:03  cs4pc_upsampled_512_val_weighted.npy\r\n",
      "-rw-rw-r--  1 hkhachatrian hkhachatrian 1.5G Feb 20 11:31  cs4pc_upsampled_val_for_eval.npy\r\n",
      "-rw-rw-r--  1 hkhachatrian hkhachatrian 145M Feb 21 10:43  cs_train.npy\r\n",
      "-rw-rw-r--  1 hkhachatrian hkhachatrian  61M Feb 21 10:44  cs_val.npy\r\n",
      "-rw-rw-r--  1 hkhachatrian hkhachatrian 1.9G Feb 22 10:45 'eval_cs_256_epoch=59.npy'\r\n",
      "-rw-rw-r--  1 hkhachatrian hkhachatrian 1.1G Feb 21 12:02 'eval_cs_400_epoch=19.npy'\r\n",
      "-rw-rw-r--  1 hkhachatrian hkhachatrian 1.1G Feb 23 09:15 'eval_cs_400_epoch=19_weighted.npy'\r\n",
      "-rw-rw-r--  1 hkhachatrian hkhachatrian 601M Feb 21 12:03  eval_cs4pc_upsampled_400_val.npy\r\n",
      "-rw-rw-r--  1 hkhachatrian hkhachatrian 601M Feb 23 10:10  eval_cs4pc_upsampled_512_val_weighted.npy\r\n",
      "-rw-rw-r--  1 hkhachatrian hkhachatrian 468M Feb 23 10:10 'eval_cs_512_epoch=19_weighted.npy'\r\n",
      "-rw-rw-r--  1 hkhachatrian hkhachatrian 468M Feb 22 10:53 'eval_cs_512_epoch=64.npy'\r\n",
      "-rw-rw-r--  1 hkhachatrian hkhachatrian 3.8G Feb 20 12:04 'eval_cs_epoch=14.npy'\r\n",
      "-rw-rw-r--  1 hkhachatrian hkhachatrian 1.1G Feb 21 11:54 'eval_cs_epoch=19.npy'\r\n",
      "-rw-rw-r--  1 hkhachatrian hkhachatrian 3.8G Feb 20 11:29 'eval_cs_epoch=24.npy'\r\n",
      "-rw-rw-r--  1 hkhachatrian hkhachatrian 139K Feb 10 09:53  few_shot_8_fair1m.json\r\n",
      "-rw-rw-r--  1 hkhachatrian hkhachatrian 184K Feb 13 06:44  few_shot_visdrone.json\r\n",
      "-rw-rw-r--  1 hkhachatrian hkhachatrian 932K Feb 15 07:19  few_shot_visdrone_val.json\r\n",
      "-rw-rw-r--  1 hkhachatrian hkhachatrian 5.4G Feb 16 10:40  few_shot_visdrone_val_vis_drone_val_inter_internearestexact_patch_16.npy\r\n",
      "-rw-rw-r--  1 hkhachatrian hkhachatrian 2.8G Feb 16 10:25  few_shot_visdrone_val_vis_drone_val_thresh_0.3_patch_16.json\r\n",
      "-rw-rw-r--  1 hkhachatrian hkhachatrian 5.4G Feb 16 10:39  few_shot_visdrone_val_vis_drone_val_thresh_0.3_patch_16.npy\r\n",
      "-rw-rw-r--  1 hkhachatrian hkhachatrian 1.1G Feb 16 10:40  few_shot_visdrone_vis_drone_train_inter_internearestexact_patch_16.npy\r\n",
      "-rw-rw-r--  1 hkhachatrian hkhachatrian 650M Feb 15 10:43  few_shot_visdrone_vis_drone_train_thresh_0.3_patch_16.json\r\n",
      "-rw-rw-r--  1 hkhachatrian hkhachatrian 3.1G Feb 19 13:29  vd_200_opsampled_train.npy\r\n",
      "-rw-rw-r--  1 hkhachatrian hkhachatrian 2.9G Feb 19 13:32  vd_200_opsampled_val.npy\r\n",
      "-rw-rw-r--  1 hkhachatrian hkhachatrian 146M Feb 16 11:56  vis_drone_200_train_patch_16.npy\r\n",
      "-rw-rw-r--  1 hkhachatrian hkhachatrian 139M Feb 16 11:56  vis_drone_200_val_patch_16.npy\r\n"
     ]
    }
   ],
   "source": [
    "!ls -lah ./annotations/"
   ]
  },
  {
   "cell_type": "code",
   "execution_count": 36,
   "id": "e64ac262",
   "metadata": {},
   "outputs": [
    {
     "data": {
      "text/plain": [
       "(30,)"
      ]
     },
     "execution_count": 36,
     "metadata": {},
     "output_type": "execute_result"
    }
   ],
   "source": [
    "file.shape"
   ]
  },
  {
   "cell_type": "code",
   "execution_count": 37,
   "id": "043afa1c",
   "metadata": {},
   "outputs": [
    {
     "data": {
      "text/plain": [
       "((1024, 2048), (1024, 2048), (1024, 2048), (14, 14))"
      ]
     },
     "execution_count": 37,
     "metadata": {},
     "output_type": "execute_result"
    }
   ],
   "source": [
    "file[0]['patch_labels'].shape, file[0]['resized_img'].shape, file[0]['black_image'].shape, file[0]['patch_labels_14x14'].shape"
   ]
  },
  {
   "cell_type": "code",
   "execution_count": 38,
   "id": "6e8e5e57",
   "metadata": {},
   "outputs": [
    {
     "data": {
      "text/plain": [
       "array([[21., 21., 21., ..., 11., 11., 11.],\n",
       "       [21., 21., 21., ..., 11., 11., 11.],\n",
       "       [21., 21., 21., ..., 11., 11., 11.],\n",
       "       ...,\n",
       "       [ 7.,  7.,  7., ...,  7.,  7.,  7.],\n",
       "       [ 7.,  7.,  7., ...,  7.,  7.,  7.],\n",
       "       [ 7.,  7.,  7., ...,  7.,  7.,  7.]])"
      ]
     },
     "execution_count": 38,
     "metadata": {},
     "output_type": "execute_result"
    }
   ],
   "source": [
    "file[0]['patch_labels']"
   ]
  },
  {
   "cell_type": "code",
   "execution_count": 39,
   "id": "54a9ead1",
   "metadata": {
    "scrolled": true
   },
   "outputs": [
    {
     "data": {
      "text/plain": [
       "dict_keys(['file_name', 'id', 'patch_labels', 'resized_img', 'black_image', 'patch_labels_14x14'])"
      ]
     },
     "execution_count": 39,
     "metadata": {},
     "output_type": "execute_result"
    }
   ],
   "source": [
    "file[0].keys()"
   ]
  },
  {
   "cell_type": "code",
   "execution_count": 40,
   "id": "e043bacb",
   "metadata": {},
   "outputs": [
    {
     "data": {
      "text/plain": [
       "(array([ 1,  3,  4,  5,  6,  7,  8,  9, 11, 13, 17, 19, 20, 21, 22, 23, 25,\n",
       "        26, 32, 33], dtype=uint8),\n",
       " array([ 81534,  31634,  14587,   1606,    196, 813562, 116586,   1246,\n",
       "        567944,   2227,  30935,   1165,   6587, 349589,    554,  27981,\n",
       "          4530,  23938,   1632,  19119]))"
      ]
     },
     "execution_count": 40,
     "metadata": {},
     "output_type": "execute_result"
    }
   ],
   "source": [
    "np.unique(file[idx]['black_image'].flatten(), return_counts=True, )"
   ]
  },
  {
   "cell_type": "code",
   "execution_count": 41,
   "id": "e3b11fba",
   "metadata": {},
   "outputs": [
    {
     "data": {
      "text/plain": [
       "'/mnt/lwll/lwll-coral/hrant/leftImg8bit/val/munster/munster_000028_000019_leftImg8bit.png'"
      ]
     },
     "execution_count": 41,
     "metadata": {},
     "output_type": "execute_result"
    }
   ],
   "source": [
    "file[idx]['file_name']"
   ]
  },
  {
   "cell_type": "code",
   "execution_count": 46,
   "id": "6247c1ed",
   "metadata": {},
   "outputs": [],
   "source": [
    "import cv2"
   ]
  },
  {
   "cell_type": "code",
   "execution_count": 42,
   "id": "0bc34dd2",
   "metadata": {},
   "outputs": [],
   "source": [
    "idx = 0"
   ]
  },
  {
   "cell_type": "code",
   "execution_count": 43,
   "id": "63799cce",
   "metadata": {},
   "outputs": [],
   "source": [
    "idx += 1"
   ]
  },
  {
   "cell_type": "code",
   "execution_count": 75,
   "id": "05e181c2",
   "metadata": {},
   "outputs": [
    {
     "data": {
      "image/png": "[encoded data removed]",
      "text/plain": [
       "<Figure size 640x480 with 1 Axes>"
      ]
     },
     "metadata": {},
     "output_type": "display_data"
    }
   ],
   "source": [
    "plt.figure()\n",
    "plt.imshow(file[idx]['black_image'], cmap='nipy_spectral', vmax=34);\n",
    "# idx += 1"
   ]
  },
  {
   "cell_type": "code",
   "execution_count": 76,
   "id": "27c3361b",
   "metadata": {},
   "outputs": [
    {
     "data": {
      "image/png": "[encoded data removed]",
      "text/plain": [
       "<Figure size 640x480 with 1 Axes>"
      ]
     },
     "metadata": {},
     "output_type": "display_data"
    }
   ],
   "source": [
    "x = cv2.resize(file[idx]['black_image'], (56, 28), interpolation=cv2.INTER_NEAREST_EXACT)\n",
    "plt.imshow(x, cmap='nipy_spectral', vmax=34);"
   ]
  },
  {
   "cell_type": "code",
   "execution_count": 77,
   "id": "94efaf50",
   "metadata": {},
   "outputs": [
    {
     "data": {
      "image/png": "[encoded data removed]",
      "text/plain": [
       "<Figure size 640x480 with 1 Axes>"
      ]
     },
     "metadata": {},
     "output_type": "display_data"
    }
   ],
   "source": [
    "x = cv2.resize(x, (2048, 1024), interpolation=cv2.INTER_NEAREST_EXACT)\n",
    "plt.imshow(x, cmap='nipy_spectral', vmax=34);"
   ]
  },
  {
   "cell_type": "code",
   "execution_count": 78,
   "id": "dc95102f",
   "metadata": {},
   "outputs": [
    {
     "data": {
      "image/png": "[encoded data removed]",
      "text/plain": [
       "<Figure size 640x480 with 1 Axes>"
      ]
     },
     "metadata": {},
     "output_type": "display_data"
    }
   ],
   "source": [
    "plt.figure()\n",
    "plt.imshow(file[idx]['patch_labels'], cmap='nipy_spectral', vmax=34);"
   ]
  },
  {
   "cell_type": "code",
   "execution_count": 69,
   "id": "20a902ab",
   "metadata": {},
   "outputs": [
    {
     "data": {
      "image/png": "[encoded data removed]",
      "text/plain": [
       "<Figure size 640x480 with 1 Axes>"
      ]
     },
     "metadata": {},
     "output_type": "display_data"
    }
   ],
   "source": [
    "plt.imshow(file[idx]['resized_img'], cmap='nipy_spectral', vmax=34);\n"
   ]
  },
  {
   "cell_type": "code",
   "execution_count": null,
   "id": "98d3c682",
   "metadata": {},
   "outputs": [],
   "source": [
    "np.unique(file[idx]['patch_labels'].flatten(), return_counts=True)"
   ]
  },
  {
   "cell_type": "code",
   "execution_count": null,
   "id": "428ede06",
   "metadata": {},
   "outputs": [],
   "source": [
    "plt.imshow(file[idx]['patch_labels'], cmap='nipy_spectral', vmax=34);\n",
    "# idx += 1"
   ]
  },
  {
   "cell_type": "code",
   "execution_count": 4,
   "id": "94b9fdb0",
   "metadata": {},
   "outputs": [],
   "source": [
    "import os\n",
    "import cv2\n",
    "from tqdm import tqdm"
   ]
  },
  {
   "cell_type": "code",
   "execution_count": 8,
   "id": "3f4a8367",
   "metadata": {},
   "outputs": [
    {
     "name": "stderr",
     "output_type": "stream",
     "text": [
      "100%|████████████████████████████████████████████████| 30/30 [00:00<00:00, 84.80it/s]\n"
     ]
    }
   ],
   "source": [
    "saving_path_400 = '/home/hkhachatrian/mae/evaluation/cs/cs4pc_400/val_pred'\n",
    "# saving_path_wo = '/home/hkhachatrian/mae/evaluation/cs/cs_wo_crop_400/val_pred'\n",
    "# saving_path_400_gt = '/home/hkhachatrian/mae/evaluation/cs/gt/val'\n",
    "\n",
    "os.makedirs(saving_path_400, exist_ok=True)\n",
    "os.makedirs(saving_path_wo, exist_ok=True)\n",
    "os.makedirs(saving_path_400_gt, exist_ok=True)\n",
    "\n",
    "\n",
    "for ann in tqdm(file):\n",
    "    file_name = ann['file_name'].split('/')[-1].strip()\n",
    "    \n",
    "    path = os.path.join(saving_path_400, file_name)\n",
    "    cv2.imwrite(path, ann['patch_labels'])\n",
    "\n",
    "#     path = os.path.join(saving_path_wo, file_name)\n",
    "#     cv2.imwrite(path, ann['resized_img'])\n",
    "        \n",
    "#     path = os.path.join(saving_path_400_gt, file_name)\n",
    "#     cv2.imwrite(path, ann['black_image'])"
   ]
  },
  {
   "cell_type": "code",
   "execution_count": null,
   "id": "f5b46eaf",
   "metadata": {},
   "outputs": [],
   "source": [
    "im = Image.open('/home/hkhachatrian/mae/evaluation/cs/cs4pc_200/train/bochum_000000_024343_leftImg8bit.png')"
   ]
  },
  {
   "cell_type": "code",
   "execution_count": null,
   "id": "12a4b188",
   "metadata": {},
   "outputs": [],
   "source": [
    "im"
   ]
  },
  {
   "cell_type": "code",
   "execution_count": null,
   "id": "8c3a1669",
   "metadata": {},
   "outputs": [],
   "source": [
    "path"
   ]
  },
  {
   "cell_type": "code",
   "execution_count": null,
   "id": "af602f93",
   "metadata": {},
   "outputs": [],
   "source": []
  }
 ],
 "metadata": {
  "kernelspec": {
   "display_name": "mae",
   "language": "python",
   "name": "mae"
  },
  "language_info": {
   "codemirror_mode": {
    "name": "ipython",
    "version": 3
   },
   "file_extension": ".py",
   "mimetype": "text/x-python",
   "name": "python",
   "nbconvert_exporter": "python",
   "pygments_lexer": "ipython3",
   "version": "3.10.9"
  }
 },
 "nbformat": 4,
 "nbformat_minor": 5
}
