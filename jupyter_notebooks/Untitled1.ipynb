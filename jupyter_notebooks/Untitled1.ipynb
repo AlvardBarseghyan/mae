{
 "cells": [
  {
   "cell_type": "code",
   "execution_count": 27,
   "id": "84593138",
   "metadata": {},
   "outputs": [],
   "source": [
    "import numpy as np\n",
    "import matplotlib.pyplot as plt\n",
    "from tqdm.notebook import tqdm"
   ]
  },
  {
   "cell_type": "code",
   "execution_count": 21,
   "id": "bd2f26cd",
   "metadata": {
    "scrolled": true
   },
   "outputs": [],
   "source": [
    "ls /mnt/lwll/lwll-coral/hrant/embeddings/cs_patches_256 | grep ibot"
   ]
  },
  {
   "cell_type": "code",
   "execution_count": 62,
   "id": "f70f37b7",
   "metadata": {},
   "outputs": [
    {
     "data": {
      "application/vnd.jupyter.widget-view+json": {
       "model_id": "ad3ab940be514050a39d227215c42e7f",
       "version_major": 2,
       "version_minor": 0
      },
      "text/plain": [
       "  0%|          | 0/3 [00:00<?, ?it/s]"
      ]
     },
     "metadata": {},
     "output_type": "display_data"
    }
   ],
   "source": [
    "root_path = '/mnt/lwll/lwll-coral/hrant/embeddings/cs_patches_256'\n",
    "models = ['ijepa', 'beit', 'ibot'] #, 'dino', 'dinov2', 'mae', 'simmim', 'ibot']\n",
    "embeds = {}\n",
    "variances = {}\n",
    "\n",
    "for model in tqdm(models, total=len(models)):\n",
    "    embeds[model] = np.load(f'{root_path}/{model}_embeds_train.npy', allow_pickle=True)\n",
    "    variances[model] = np.var(embeds[model], axis=0)\n"
   ]
  },
  {
   "cell_type": "code",
   "execution_count": 63,
   "id": "6d2aab7c",
   "metadata": {},
   "outputs": [
    {
     "data": {
      "application/vnd.jupyter.widget-view+json": {
       "model_id": "385ceff4d4744c6a981c9b14d301acdf",
       "version_major": 2,
       "version_minor": 0
      },
      "text/plain": [
       "  0%|          | 0/3 [00:00<?, ?it/s]"
      ]
     },
     "metadata": {},
     "output_type": "display_data"
    }
   ],
   "source": [
    "root_path = '/mnt/lwll/lwll-coral/hrant/embeddings/cs_patches_256'\n",
    "models = ['ijepa', 'beit', 'ibot'] #, 'dino', 'dinov2', 'mae', 'simmim', 'ibot']\n",
    "embeds_val = {}\n",
    "variances_val = {}\n",
    "\n",
    "for model in tqdm(models, total=len(models)):\n",
    "    embeds_val[model] = np.load(f'{root_path}/{model}_embeds_val.npy', allow_pickle=True)\n",
    "    variances_val[model] = np.var(embeds_val[model], axis=0)"
   ]
  },
  {
   "cell_type": "code",
   "execution_count": 36,
   "id": "0b7a3aa9",
   "metadata": {},
   "outputs": [
    {
     "data": {
      "text/plain": [
       "dict_keys(['ijepa', 'beit', 'ibot'])"
      ]
     },
     "execution_count": 36,
     "metadata": {},
     "output_type": "execute_result"
    }
   ],
   "source": [
    "embeds.keys()"
   ]
  },
  {
   "cell_type": "code",
   "execution_count": 37,
   "id": "636fbeb0",
   "metadata": {},
   "outputs": [],
   "source": [
    "model2name = {'ijepa': 'I-JEPA', \n",
    "              'beit': 'BEiT', \n",
    "              'dino': 'DINO', \n",
    "              'dinov2': 'DINOv2', \n",
    "              'mae': 'MAE', \n",
    "              'simmim': 'SimMIM', \n",
    "              'ibot': 'iBOT'}"
   ]
  },
  {
   "cell_type": "code",
   "execution_count": 67,
   "id": "8418e52c",
   "metadata": {},
   "outputs": [
    {
     "data": {
      "application/vnd.jupyter.widget-view+json": {
       "model_id": "17744082611d4e739444c44fab6ed03d",
       "version_major": 2,
       "version_minor": 0
      },
      "text/plain": [
       "  0%|          | 0/12 [00:00<?, ?it/s]"
      ]
     },
     "metadata": {},
     "output_type": "display_data"
    },
    {
     "name": "stdout",
     "output_type": "stream",
     "text": [
      "Saving with path ../embeddings/cs_patches_256/ibot10_embeds_val.npy ...\n",
      "(188160, 758) (768,)\n",
      "Saving with path ../embeddings/cs_patches_256/ibot20_embeds_val.npy ...\n",
      "(188160, 748) (768,)\n",
      "Saving with path ../embeddings/cs_patches_256/ibot30_embeds_val.npy ...\n",
      "(188160, 738) (768,)\n",
      "Saving with path ../embeddings/cs_patches_256/ibot40_embeds_val.npy ...\n",
      "(188160, 728) (768,)\n",
      "Saving with path ../embeddings/cs_patches_256/ibot50_embeds_val.npy ...\n",
      "(188160, 718) (768,)\n",
      "Saving with path ../embeddings/cs_patches_256/ibot70_embeds_val.npy ...\n",
      "(188160, 698) (768,)\n",
      "Saving with path ../embeddings/cs_patches_256/ibot100_embeds_val.npy ...\n",
      "(188160, 668) (768,)\n",
      "Saving with path ../embeddings/cs_patches_256/ibot150_embeds_val.npy ...\n",
      "(188160, 618) (768,)\n",
      "Saving with path ../embeddings/cs_patches_256/ibot200_embeds_val.npy ...\n",
      "(188160, 568) (768,)\n",
      "Saving with path ../embeddings/cs_patches_256/ibot300_embeds_val.npy ...\n",
      "(188160, 468) (768,)\n",
      "Saving with path ../embeddings/cs_patches_256/ibot400_embeds_val.npy ...\n",
      "(188160, 368) (768,)\n",
      "Saving with path ../embeddings/cs_patches_256/ibot500_embeds_val.npy ...\n",
      "(188160, 268) (768,)\n"
     ]
    }
   ],
   "source": [
    "model = 'ibot'\n",
    "train_val = 'val'\n",
    "embeds_ids = np.argsort(variances[model])[::-1]\n",
    "\n",
    "for i in tqdm([10, 20, 30, 40, 50, 70, 100, 150, 200, 300, 400, 500]):\n",
    "    tmp_embeds = np.delete(embeds_val[model], embeds_ids[:i], axis=1)\n",
    "    saving_path = f'../embeddings/cs_patches_256/{model}{i}_embeds_{train_val}.npy'\n",
    "    print(f\"Saving with path {saving_path} ...\")\n",
    "    print(tmp_embeds.shape, embeds_ids.shape)\n",
    "    np.save(saving_path, tmp_embeds)\n"
   ]
  },
  {
   "cell_type": "code",
   "execution_count": 80,
   "id": "c08a0d45",
   "metadata": {},
   "outputs": [],
   "source": [
    "def read_file(path):\n",
    "    with open(path) as f:\n",
    "        data = f.readlines()\n",
    "    return data\n",
    "\n",
    "\n",
    "def get_start_end(data):\n",
    "    for i, d in enumerate(data):\n",
    "        if 'classes' in d:\n",
    "            start = i\n",
    "        if 'Score Average' in d:\n",
    "            end = i\n",
    "            return start, end\n",
    "        \n",
    "        \n",
    "def get_pixel_accuracy(data):\n",
    "    for i, d in enumerate(data):\n",
    "        if \"pixel accuracy\" in d:\n",
    "            return float(data[i+1].strip())\n",
    "            \n",
    "        \n",
    "def get_miou(dataset):\n",
    "    result = np.zeros(20)\n",
    "    start, end = get_start_end(dataset)\n",
    "    i = 0\n",
    "    for data in dataset[start:end+1]:\n",
    "        data = data.strip().split(':')\n",
    "        if len(data) > 1:\n",
    "            miou = float(data[1].split()[0])\n",
    "            result[i] = miou\n",
    "            i += 1\n",
    "\n",
    "    return result.reshape((1, 20))\n",
    "\n",
    "\n",
    "def get_classnames(dataset):\n",
    "    res = []\n",
    "    start, end = get_start_end(dataset)\n",
    "    for data in dataset[start:end+1]:\n",
    "        data = data.strip().split(':')\n",
    "        if len(data) > 1:\n",
    "            res.append(data[0].strip())\n",
    "    return res\n",
    "\n",
    "\n",
    "def get_mious(model_name, drops, knn=False, linear=False):\n",
    "    if knn:\n",
    "        # 'ibot10_val_cs_patches_256_knn_train_72_val_30.txt'\n",
    "        path_0 = f'../openseg.pytorch/{model_name}' #\n",
    "        path_1 = '_val_cs_patches_256_knn_train_72_val_30.txt'\n",
    "    \n",
    "    if linear:\n",
    "        if '7' in model_name:\n",
    "            path_0 = f'../openseg.pytorch/{model_name}' #'_val_cs_patches_256_linear_layer.txt'\n",
    "        else:\n",
    "            path_0 = f'../openseg.pytorch/{model_name}_val_cs_patches_256_linear_layer_12.txt'    \n",
    "        path_part = f'../openseg.pytorch/{model_name}_val_cs_patches_256_linear_first_'\n",
    "        \n",
    "    mious = []\n",
    "    \n",
    "    for drop in drops:\n",
    "        try:\n",
    "            if drop == 0:\n",
    "                miou = get_miou(read_file(path_0+path_1))\n",
    "                mious.append(miou)\n",
    "            else:\n",
    "                path = path_0+f'{drop}'+path_1\n",
    "                miou = get_miou(read_file(path))\n",
    "                mious.append(miou)\n",
    "        except:\n",
    "            print(path_0+f'{drop}'+path_1)\n",
    "    mious = np.concatenate(mious, axis=0)\n",
    "    return mious"
   ]
  },
  {
   "cell_type": "code",
   "execution_count": 84,
   "id": "a6cda80c",
   "metadata": {},
   "outputs": [
    {
     "name": "stdout",
     "output_type": "stream",
     "text": [
      "../openseg.pytorch/ibot0_val_cs_patches_256_knn_train_72_val_30.txt\n"
     ]
    }
   ],
   "source": [
    "results = {}\n",
    "drops = [0, 10, 20, 30, 40, 50, 70, 100, 150, 200, 300, 400, 500]\n",
    "models = ['ibot'] #, 'ibot']\n",
    "for model in models:\n",
    "    results[model] = get_mious(model, drops, knn=True)"
   ]
  },
  {
   "cell_type": "code",
   "execution_count": 85,
   "id": "aca29267",
   "metadata": {},
   "outputs": [
    {
     "data": {
      "image/png": "[encoded data removed]",
      "text/plain": [
       "<Figure size 720x360 with 1 Axes>"
      ]
     },
     "metadata": {
      "needs_background": "light"
     },
     "output_type": "display_data"
    }
   ],
   "source": [
    "plt.figure(figsize=(10, 5))\n",
    "drops = [10, 20, 30, 40, 50, 70, 100, 150, 200, 300, 400, 500]\n",
    "for mi, model in enumerate(models):\n",
    "    x = range(len(drops))\n",
    "    plt.plot(x, results[model][:,-1], marker='x', color=f'C{mi}', label=model);\n",
    "#     plt.plot(x, linear_results[model][:,-1], marker='o', color=f'C{mi}');\n",
    "plt.ylabel(\"mIoU\")\n",
    "plt.xlabel(\"Number of high-variance features removed\")\n",
    "# plt.xscale('log')\n",
    "# plt.xlim(10, 750)\n",
    "plt.legend()\n",
    "# plt.ylim(0, 0.7)\n",
    "plt.xticks(x, drops);"
   ]
  },
  {
   "cell_type": "code",
   "execution_count": 76,
   "id": "f4966a83",
   "metadata": {},
   "outputs": [
    {
     "data": {
      "text/plain": [
       "(13, 20)"
      ]
     },
     "execution_count": 76,
     "metadata": {},
     "output_type": "execute_result"
    }
   ],
   "source": [
    "results['beit'].shape"
   ]
  },
  {
   "cell_type": "code",
   "execution_count": 83,
   "id": "9514f84c",
   "metadata": {},
   "outputs": [
    {
     "data": {
      "image/png": "[encoded data removed]",
      "text/plain": [
       "<Figure size 720x360 with 1 Axes>"
      ]
     },
     "metadata": {
      "needs_background": "light"
     },
     "output_type": "display_data"
    }
   ],
   "source": [
    "plt.figure(figsize=(10, 5))\n",
    "drops = [0, 10, 100, 150, 200, 300, 400, 500]\n",
    "for mi, model in enumerate(models):\n",
    "    x = range(len(drops))\n",
    "    plt.plot(x, results[model][:,-1], marker='x', color=f'C{mi}', label=model);\n",
    "#     plt.plot(x, linear_results[model][:,-1], marker='o', color=f'C{mi}');\n",
    "plt.ylabel(\"mIoU\")\n",
    "plt.xlabel(\"Number of high-variance features removed\")\n",
    "# plt.xscale('log')\n",
    "# plt.xlim(10, 750)\n",
    "plt.legend()\n",
    "# plt.ylim(0, 0.7)\n",
    "plt.xticks(x, drops);"
   ]
  },
  {
   "cell_type": "code",
   "execution_count": 79,
   "id": "3883e1c4",
   "metadata": {},
   "outputs": [
    {
     "data": {
      "image/png": "[encoded data removed]",
      "text/plain": [
       "<Figure size 720x360 with 1 Axes>"
      ]
     },
     "metadata": {
      "needs_background": "light"
     },
     "output_type": "display_data"
    }
   ],
   "source": [
    "plt.figure(figsize=(10, 5))\n",
    "for mi, model in enumerate(models):\n",
    "    x = range(len(drops))\n",
    "    plt.plot(x, results[model][:,-1], marker='x', color=f'C{mi}', label=model);\n",
    "#     plt.plot(x, linear_results[model][:,-1], marker='o', color=f'C{mi}');\n",
    "plt.ylabel(\"mIoU\")\n",
    "plt.xlabel(\"Number of high-variance features removed\")\n",
    "# plt.xscale('log')\n",
    "# plt.xlim(10, 750)\n",
    "plt.legend()\n",
    "# plt.ylim(0, 0.7)\n",
    "plt.xticks(x, drops);"
   ]
  },
  {
   "cell_type": "code",
   "execution_count": null,
   "id": "db265477",
   "metadata": {},
   "outputs": [],
   "source": []
  },
  {
   "cell_type": "code",
   "execution_count": 38,
   "id": "c9532829",
   "metadata": {},
   "outputs": [
    {
     "ename": "KeyError",
     "evalue": "'mae'",
     "output_type": "error",
     "traceback": [
      "\u001b[0;31m---------------------------------------------------------------------------\u001b[0m",
      "\u001b[0;31mKeyError\u001b[0m                                  Traceback (most recent call last)",
      "Input \u001b[0;32mIn [38]\u001b[0m, in \u001b[0;36m<cell line: 2>\u001b[0;34m()\u001b[0m\n\u001b[1;32m      1\u001b[0m plt\u001b[38;5;241m.\u001b[39mfigure(figsize\u001b[38;5;241m=\u001b[39m(\u001b[38;5;241m8\u001b[39m, \u001b[38;5;241m5\u001b[39m))\n\u001b[1;32m      2\u001b[0m \u001b[38;5;28;01mfor\u001b[39;00m model \u001b[38;5;129;01min\u001b[39;00m [\u001b[38;5;124m'\u001b[39m\u001b[38;5;124mmae\u001b[39m\u001b[38;5;124m'\u001b[39m, \u001b[38;5;124m'\u001b[39m\u001b[38;5;124mbeit\u001b[39m\u001b[38;5;124m'\u001b[39m, \u001b[38;5;124m'\u001b[39m\u001b[38;5;124mijepa\u001b[39m\u001b[38;5;124m'\u001b[39m, \u001b[38;5;124m'\u001b[39m\u001b[38;5;124mdino\u001b[39m\u001b[38;5;124m'\u001b[39m]:\n\u001b[0;32m----> 3\u001b[0m     plt\u001b[38;5;241m.\u001b[39mplot(\u001b[43mvariances\u001b[49m\u001b[43m[\u001b[49m\u001b[43mmodel\u001b[49m\u001b[43m]\u001b[49m, label\u001b[38;5;241m=\u001b[39mmodel2name[model])\n\u001b[1;32m      5\u001b[0m \u001b[38;5;66;03m# plt.yscale('log')\u001b[39;00m\n\u001b[1;32m      6\u001b[0m \u001b[38;5;66;03m# plt.xscale('log')\u001b[39;00m\n\u001b[1;32m      7\u001b[0m plt\u001b[38;5;241m.\u001b[39mylim(top\u001b[38;5;241m=\u001b[39m\u001b[38;5;241m100\u001b[39m, bottom\u001b[38;5;241m=\u001b[39m\u001b[38;5;241m0\u001b[39m)\n",
      "\u001b[0;31mKeyError\u001b[0m: 'mae'"
     ]
    },
    {
     "data": {
      "text/plain": [
       "<Figure size 576x360 with 0 Axes>"
      ]
     },
     "metadata": {},
     "output_type": "display_data"
    }
   ],
   "source": [
    "plt.figure(figsize=(8, 5))\n",
    "for model in ['mae', 'beit', 'ijepa', 'dino']:\n",
    "    plt.plot(variances[model], label=model2name[model])\n",
    "\n",
    "# plt.yscale('log')\n",
    "# plt.xscale('log')\n",
    "plt.ylim(top=100, bottom=0)\n",
    "plt.legend()\n",
    "plt.show()"
   ]
  },
  {
   "cell_type": "code",
   "execution_count": null,
   "id": "3e621960",
   "metadata": {},
   "outputs": [],
   "source": []
  }
 ],
 "metadata": {
  "kernelspec": {
   "display_name": "Python 3 (ipykernel)",
   "language": "python",
   "name": "python3"
  },
  "language_info": {
   "codemirror_mode": {
    "name": "ipython",
    "version": 3
   },
   "file_extension": ".py",
   "mimetype": "text/x-python",
   "name": "python",
   "nbconvert_exporter": "python",
   "pygments_lexer": "ipython3",
   "version": "3.9.15"
  }
 },
 "nbformat": 4,
 "nbformat_minor": 5
}
