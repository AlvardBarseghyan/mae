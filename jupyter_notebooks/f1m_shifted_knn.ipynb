{
 "cells": [
  {
   "cell_type": "code",
   "execution_count": 1,
   "id": "23cb16ae",
   "metadata": {},
   "outputs": [],
   "source": [
    "import numpy as np\n",
    "import cv2\n",
    "from sklearn.neighbors import KNeighborsClassifier\n",
    "from sklearn import metrics\n",
    "import torch\n",
    "import os\n",
    "from tqdm.notebook import tqdm\n",
    "\n",
    "from matplotlib import pyplot as plt\n",
    "import matplotlib.colors as mcolors\n",
    "\n",
    "\n",
    "# knn_model = KNeighborsClassifier(n_neighbors=1, metric='cosine')"
   ]
  },
  {
   "cell_type": "code",
   "execution_count": 2,
   "id": "1c715d18",
   "metadata": {},
   "outputs": [],
   "source": [
    "def cosine_distance_torch(x1, x2=None):\n",
    "    x2 = x1 if x2 is None else x2\n",
    "    return torch.mm(x1.to(float), x2.t().to(float))"
   ]
  },
  {
   "cell_type": "code",
   "execution_count": 3,
   "id": "8026c0e7",
   "metadata": {},
   "outputs": [],
   "source": [
    "annot = np.load('../annotations/f1m/224_8shot_shifts.npy', allow_pickle=True).item()"
   ]
  },
  {
   "cell_type": "code",
   "execution_count": 4,
   "id": "beb74f72",
   "metadata": {},
   "outputs": [
    {
     "data": {
      "text/plain": [
       "dict_keys(['images', 'categories'])"
      ]
     },
     "execution_count": 4,
     "metadata": {},
     "output_type": "execute_result"
    }
   ],
   "source": [
    "annot.keys()"
   ]
  },
  {
   "cell_type": "code",
   "execution_count": 5,
   "id": "929fd0f1",
   "metadata": {},
   "outputs": [],
   "source": [
    "annot['images'];"
   ]
  },
  {
   "cell_type": "code",
   "execution_count": 6,
   "id": "7cef0572",
   "metadata": {},
   "outputs": [],
   "source": [
    "# image_path = os.path.join('../images/f1m/224_8shot/train', annot['images'][0]['file_name'])\n",
    "# print(image_path)\n",
    "# image = cv2.imread(image_path)\n",
    "# plt.imshow(image)\n"
   ]
  },
  {
   "cell_type": "code",
   "execution_count": 7,
   "id": "d49d4c39",
   "metadata": {},
   "outputs": [],
   "source": [
    "# image_path_shift_4 = os.path.join('../images/f1m/224_8shot_shift4/train', annot['images'][0]['file_name'])\n",
    "# print(image_path_shift_4)\n",
    "# image_shift_4 = cv2.imread(image_path_shift_4)\n",
    "# plt.imshow(image_shift_4)\n"
   ]
  },
  {
   "cell_type": "code",
   "execution_count": 8,
   "id": "d42a0b37",
   "metadata": {
    "scrolled": true
   },
   "outputs": [
    {
     "name": "stdout",
     "output_type": "stream",
     "text": [
      "dino_224_8shot_blur2_embeddings.npy\r\n",
      "dino_224_8shot_blur4_embeddings.npy\r\n",
      "dino_224_8shot_blur6_embeddings.npy\r\n",
      "dino_224_8shot_blur8_embeddings.npy\r\n",
      "dino_224_8shot_embeddings.npy\r\n",
      "dino_224_8shot_labels.npy\r\n",
      "dino_224_8shot_map_from_rotated_10_to_original_idx.npy\r\n",
      "dino_224_8shot_map_from_rotated_15_to_original_idx.npy\r\n",
      "dino_224_8shot_map_from_rotated_20_to_original_idx.npy\r\n",
      "dino_224_8shot_map_from_rotated_5_to_original_idx.npy\r\n",
      "dino_224_8shot_map_from_scale_0_8_to_original_idx.npy\r\n",
      "dino_224_8shot_map_from_scale_0_9_to_original_idx.npy\r\n",
      "dino_224_8shot_map_from_scale_1_1_to_original_idx.npy\r\n",
      "dino_224_8shot_map_from_scale_1_2_to_original_idx.npy\r\n",
      "dino_224_8shot_noise_10_embeddings.npy\r\n",
      "dino_224_8shot_noise_20_embeddings.npy\r\n",
      "dino_224_8shot_noise_30_embeddings.npy\r\n",
      "dino_224_8shot_noise_40_embeddings.npy\r\n",
      "dino_224_8shot_rotate_10_embeddings.npy\r\n",
      "dino_224_8shot_rotate_10_labels.npy\r\n",
      "dino_224_8shot_rotate_15_embeddings.npy\r\n",
      "dino_224_8shot_rotate_15_labels.npy\r\n",
      "dino_224_8shot_rotate_20_embeddings.npy\r\n",
      "dino_224_8shot_rotate_20_labels.npy\r\n",
      "dino_224_8shot_rotate_5_embeddings.npy\r\n",
      "dino_224_8shot_rotate_5_labels.npy\r\n",
      "dino_224_8shot_shift1_embeddings.npy\r\n",
      "dino_224_8shot_shift1_labels.npy\r\n",
      "dino_224_8shot_shift2_embeddings.npy\r\n",
      "dino_224_8shot_shift2_labels.npy\r\n",
      "dino_224_8shot_shift3_embeddings.npy\r\n",
      "dino_224_8shot_shift3_labels.npy\r\n",
      "dino_224_8shot_shift4_embeddings.npy\r\n",
      "dino_224_8shot_shift4_labels.npy\r\n",
      "dinov2_224_8shot_blur2_embeddings.npy\r\n",
      "dinov2_224_8shot_blur4_embeddings.npy\r\n",
      "dinov2_224_8shot_blur6_embeddings.npy\r\n",
      "dinov2_224_8shot_blur8_embeddings.npy\r\n",
      "dinov2_224_8shot_embeddings.npy\r\n",
      "dinov2_224_8shot_labels.npy\r\n",
      "dinov2_224_8shot_map_from_rotated_10_to_original_idx.npy\r\n",
      "dinov2_224_8shot_map_from_rotated_15_to_original_idx.npy\r\n",
      "dinov2_224_8shot_map_from_rotated_20_to_original_idx.npy\r\n",
      "dinov2_224_8shot_map_from_rotated_5_to_original_idx.npy\r\n",
      "dinov2_224_8shot_map_from_scale_0_8_to_original_idx.npy\r\n",
      "dinov2_224_8shot_map_from_scale_0_9_to_original_idx.npy\r\n",
      "dinov2_224_8shot_map_from_scale_1_1_to_original_idx.npy\r\n",
      "dinov2_224_8shot_map_from_scale_1_2_to_original_idx.npy\r\n",
      "dinov2_224_8shot_noise_10_embeddings.npy\r\n",
      "dinov2_224_8shot_noise_20_embeddings.npy\r\n",
      "dinov2_224_8shot_noise_30_embeddings.npy\r\n",
      "dinov2_224_8shot_noise_40_embeddings.npy\r\n",
      "dinov2_224_8shot_rotate_10_embeddings.npy\r\n",
      "dinov2_224_8shot_rotate_10_labels.npy\r\n",
      "dinov2_224_8shot_rotate_15_embeddings.npy\r\n",
      "dinov2_224_8shot_rotate_15_labels.npy\r\n",
      "dinov2_224_8shot_rotate_20_embeddings.npy\r\n",
      "dinov2_224_8shot_rotate_20_labels.npy\r\n",
      "dinov2_224_8shot_rotate_5_embeddings.npy\r\n",
      "dinov2_224_8shot_rotate_5_labels.npy\r\n",
      "dinov2_224_8shot_shift1_embeddings.npy\r\n",
      "dinov2_224_8shot_shift1_labels.npy\r\n",
      "dinov2_224_8shot_shift2_embeddings.npy\r\n",
      "dinov2_224_8shot_shift2_labels.npy\r\n",
      "dinov2_224_8shot_shift3_embeddings.npy\r\n",
      "dinov2_224_8shot_shift3_labels.npy\r\n",
      "dinov2_224_8shot_shift4_embeddings.npy\r\n",
      "dinov2_224_8shot_shift4_labels.npy\r\n",
      "ibot_224_8shot_blur2_embeddings.npy\r\n",
      "ibot_224_8shot_blur4_embeddings.npy\r\n",
      "ibot_224_8shot_blur6_embeddings.npy\r\n",
      "ibot_224_8shot_blur8_embeddings.npy\r\n",
      "ibot_224_8shot_embeddings.npy\r\n",
      "ibot_224_8shot_labels.npy\r\n",
      "ibot_224_8shot_noise_10_embeddings.npy\r\n",
      "ibot_224_8shot_noise_20_embeddings.npy\r\n",
      "ibot_224_8shot_noise_30_embeddings.npy\r\n",
      "ibot_224_8shot_noise_40_embeddings.npy\r\n",
      "ibot_224_8shot_rotate_10_embeddings.npy\r\n",
      "ibot_224_8shot_rotate_10_labels.npy\r\n",
      "ibot_224_8shot_rotate_15_embeddings.npy\r\n",
      "ibot_224_8shot_rotate_15_labels.npy\r\n",
      "ibot_224_8shot_rotate_20_embeddings.npy\r\n",
      "ibot_224_8shot_rotate_20_labels.npy\r\n",
      "ibot_224_8shot_rotate_5_embeddings.npy\r\n",
      "ibot_224_8shot_rotate_5_labels.npy\r\n",
      "ibot_224_8shot_shift1_embeddings.npy\r\n",
      "ibot_224_8shot_shift1_labels.npy\r\n",
      "ibot_224_8shot_shift2_embeddings.npy\r\n",
      "ibot_224_8shot_shift2_labels.npy\r\n",
      "ibot_224_8shot_shift3_embeddings.npy\r\n",
      "ibot_224_8shot_shift3_labels.npy\r\n",
      "ibot_224_8shot_shift4_embeddings.npy\r\n",
      "ibot_224_8shot_shift4_labels.npy\r\n",
      "mae200_224_8shot_blur2_embeddings.npy\r\n",
      "mae200_224_8shot_blur4_embeddings.npy\r\n",
      "mae200_224_8shot_blur6_embeddings.npy\r\n",
      "mae200_224_8shot_blur8_embeddings.npy\r\n",
      "mae200_224_8shot_embeddings.npy\r\n",
      "mae200_224_8shot_labels.npy\r\n",
      "mae_200_224_8shot_map_from_rotated_10_to_original_idx.npy\r\n",
      "mae200_224_8shot_map_from_rotated_10_to_original_idx.npy\r\n",
      "mae_200_224_8shot_map_from_rotated_15_to_original_idx.npy\r\n",
      "mae200_224_8shot_map_from_rotated_15_to_original_idx.npy\r\n",
      "mae_200_224_8shot_map_from_rotated_20_to_original_idx.npy\r\n",
      "mae200_224_8shot_map_from_rotated_20_to_original_idx.npy\r\n",
      "mae_200_224_8shot_map_from_rotated_5_to_original_idx.npy\r\n",
      "mae200_224_8shot_map_from_rotated_5_to_original_idx.npy\r\n",
      "mae_200_224_8shot_map_from_scale_0_8_to_original_idx.npy\r\n",
      "mae_200_224_8shot_map_from_scale_0_9_to_original_idx.npy\r\n",
      "mae_200_224_8shot_map_from_scale_1_1_to_original_idx.npy\r\n",
      "mae_200_224_8shot_map_from_scale_1_2_to_original_idx.npy\r\n",
      "mae200_224_8shot_noise_10_embeddings.npy\r\n",
      "mae200_224_8shot_noise_20_embeddings.npy\r\n",
      "mae200_224_8shot_noise_30_embeddings.npy\r\n",
      "mae200_224_8shot_noise_40_embeddings.npy\r\n",
      "mae200_224_8shot_rotate_10_embeddings.npy\r\n",
      "mae200_224_8shot_rotate_15_embeddings.npy\r\n",
      "mae200_224_8shot_rotate_20_embeddings.npy\r\n",
      "mae200_224_8shot_rotate_5_embeddings.npy\r\n",
      "mae200_224_8shot_shift1_embeddings.npy\r\n",
      "mae200_224_8shot_shift2_embeddings.npy\r\n",
      "mae200_224_8shot_shift3_embeddings.npy\r\n",
      "mae200_224_8shot_shift4_embeddings.npy\r\n",
      "mae_224_8shot_blur2_embeddings.npy\r\n",
      "mae_224_8shot_blur4_embeddings.npy\r\n",
      "mae_224_8shot_blur6_embeddings.npy\r\n",
      "mae_224_8shot_blur8_embeddings.npy\r\n",
      "mae_224_8shot_embeddings.npy\r\n",
      "mae_224_8shot_labels.npy\r\n",
      "mae_224_8shot_map_from_rotated_10_to_original_idx.npy\r\n",
      "mae_224_8shot_map_from_rotated_15_to_original_idx.npy\r\n",
      "mae_224_8shot_map_from_rotated_20_to_original_idx.npy\r\n",
      "mae_224_8shot_map_from_rotated_5_to_original_idx.npy\r\n",
      "mae_224_8shot_map_from_scale_0_8_to_original_idx.npy\r\n",
      "mae_224_8shot_map_from_scale_0_9_to_original_idx.npy\r\n",
      "mae_224_8shot_map_from_scale_1_1_to_original_idx.npy\r\n",
      "mae_224_8shot_map_from_scale_1_2_to_original_idx.npy\r\n",
      "mae_224_8shot_noise_10_embeddings.npy\r\n",
      "mae_224_8shot_noise_20_embeddings.npy\r\n",
      "mae_224_8shot_noise_30_embeddings.npy\r\n",
      "mae_224_8shot_noise_40_embeddings.npy\r\n",
      "mae_224_8shot_rotate_10_embeddings.npy\r\n",
      "mae_224_8shot_rotate_10_labels.npy\r\n",
      "mae_224_8shot_rotate_15_embeddings.npy\r\n",
      "mae_224_8shot_rotate_15_labels.npy\r\n",
      "mae_224_8shot_rotate_20_embeddings.npy\r\n",
      "mae_224_8shot_rotate_20_labels.npy\r\n",
      "mae_224_8shot_rotate_5_embeddings.npy\r\n",
      "mae_224_8shot_rotate_5_labels.npy\r\n",
      "mae_224_8shot_shift1_embeddings.npy\r\n",
      "mae_224_8shot_shift1_labels.npy\r\n",
      "mae_224_8shot_shift2_embeddings.npy\r\n",
      "mae_224_8shot_shift2_labels.npy\r\n",
      "mae_224_8shot_shift3_embeddings.npy\r\n",
      "mae_224_8shot_shift3_labels.npy\r\n",
      "mae_224_8shot_shift4_embeddings.npy\r\n",
      "mae_224_8shot_shift4_labels.npy\r\n",
      "simmim_224_8shot_blur2_embeddings.npy\r\n",
      "simmim_224_8shot_blur4_embeddings.npy\r\n",
      "simmim_224_8shot_blur6_embeddings.npy\r\n",
      "simmim_224_8shot_blur8_embeddings.npy\r\n",
      "simmim_224_8shot_embeddings.npy\r\n",
      "simmim_224_8shot_labels.npy\r\n",
      "simmim_224_8shot_map_from_rotated_10_to_original_idx.npy\r\n",
      "simmim_224_8shot_map_from_rotated_15_to_original_idx.npy\r\n",
      "simmim_224_8shot_map_from_rotated_20_to_original_idx.npy\r\n",
      "simmim_224_8shot_map_from_rotated_5_to_original_idx.npy\r\n",
      "simmim_224_8shot_map_from_scale_0_8_to_original_idx.npy\r\n",
      "simmim_224_8shot_map_from_scale_0_9_to_original_idx.npy\r\n",
      "simmim_224_8shot_map_from_scale_1_1_to_original_idx.npy\r\n",
      "simmim_224_8shot_map_from_scale_1_2_to_original_idx.npy\r\n",
      "simmim_224_8shot_noise_10_embeddings.npy\r\n",
      "simmim_224_8shot_noise_20_embeddings.npy\r\n",
      "simmim_224_8shot_noise_30_embeddings.npy\r\n",
      "simmim_224_8shot_noise_40_embeddings.npy\r\n",
      "simmim_224_8shot_rotate_10_embeddings.npy\r\n",
      "simmim_224_8shot_rotate_10_labels.npy\r\n",
      "simmim_224_8shot_rotate_15_embeddings.npy\r\n",
      "simmim_224_8shot_rotate_15_labels.npy\r\n",
      "simmim_224_8shot_rotate_20_embeddings.npy\r\n",
      "simmim_224_8shot_rotate_20_labels.npy\r\n",
      "simmim_224_8shot_rotate_5_embeddings.npy\r\n",
      "simmim_224_8shot_rotate_5_labels.npy\r\n",
      "sup_vit_224_8shot_blur2_embeddings.npy\r\n",
      "sup_vit_224_8shot_blur4_embeddings.npy\r\n",
      "sup_vit_224_8shot_blur6_embeddings.npy\r\n",
      "sup_vit_224_8shot_blur8_embeddings.npy\r\n",
      "sup_vit_224_8shot_embeddings.npy\r\n",
      "sup_vit_224_8shot_labels.npy\r\n",
      "sup_vit_224_8shot_map_from_rotated_10_to_original_idx.npy\r\n",
      "sup_vit_224_8shot_map_from_rotated_15_to_original_idx.npy\r\n",
      "sup_vit_224_8shot_map_from_rotated_20_to_original_idx.npy\r\n",
      "sup_vit_224_8shot_map_from_rotated_5_to_original_idx.npy\r\n",
      "sup_vit_224_8shot_map_from_scale_0_8_to_original_idx.npy\r\n",
      "sup_vit_224_8shot_map_from_scale_0_9_to_original_idx.npy\r\n",
      "sup_vit_224_8shot_map_from_scale_1_1_to_original_idx.npy\r\n",
      "sup_vit_224_8shot_map_from_scale_1_2_to_original_idx.npy\r\n",
      "sup_vit_224_8shot_noise_10_embeddings.npy\r\n",
      "sup_vit_224_8shot_noise_20_embeddings.npy\r\n",
      "sup_vit_224_8shot_noise_30_embeddings.npy\r\n",
      "sup_vit_224_8shot_noise_40_embeddings.npy\r\n",
      "sup_vit_224_8shot_rotate_10_embeddings.npy\r\n",
      "sup_vit_224_8shot_rotate_10_labels.npy\r\n",
      "sup_vit_224_8shot_rotate_15_embeddings.npy\r\n",
      "sup_vit_224_8shot_rotate_15_labels.npy\r\n",
      "sup_vit_224_8shot_rotate_20_embeddings.npy\r\n",
      "sup_vit_224_8shot_rotate_20_labels.npy\r\n",
      "sup_vit_224_8shot_rotate_5_embeddings.npy\r\n",
      "sup_vit_224_8shot_rotate_5_labels.npy\r\n",
      "sup_vit_224_8shot_shift1_embeddings.npy\r\n",
      "sup_vit_224_8shot_shift1_labels.npy\r\n",
      "sup_vit_224_8shot_shift2_embeddings.npy\r\n",
      "sup_vit_224_8shot_shift2_labels.npy\r\n",
      "sup_vit_224_8shot_shift3_embeddings.npy\r\n",
      "sup_vit_224_8shot_shift3_labels.npy\r\n",
      "sup_vit_224_8shot_shift4_embeddings.npy\r\n",
      "sup_vit_224_8shot_shift4_labels.npy\r\n"
     ]
    }
   ],
   "source": [
    "!ls ../embeddings/fair1m | grep 224"
   ]
  },
  {
   "cell_type": "markdown",
   "id": "9895e3b4",
   "metadata": {},
   "source": [
    "# Load embeddings and labels"
   ]
  },
  {
   "cell_type": "code",
   "execution_count": 9,
   "id": "5971e684",
   "metadata": {},
   "outputs": [],
   "source": [
    "annot['categories'];"
   ]
  },
  {
   "cell_type": "code",
   "execution_count": 10,
   "id": "b63bb409",
   "metadata": {},
   "outputs": [],
   "source": [
    "id_to_name = {cat['id']:cat['name'] for cat in annot['categories']}"
   ]
  },
  {
   "cell_type": "code",
   "execution_count": 11,
   "id": "cf7f5dc9",
   "metadata": {},
   "outputs": [],
   "source": [
    "finegrained_to_superclass = np.zeros(39, dtype=np.int32)\n",
    "for i in range(1, 13):\n",
    "    finegrained_to_superclass[i] = 1\n",
    "for i in range(13, 22):\n",
    "    finegrained_to_superclass[i] = 2\n",
    "for i in range(22, 32):\n",
    "    finegrained_to_superclass[i] = 3\n",
    "for i in range(32, 36):\n",
    "    finegrained_to_superclass[i] = 4\n",
    "for i in range(36, 39):\n",
    "    finegrained_to_superclass[i] = 5\n"
   ]
  },
  {
   "cell_type": "code",
   "execution_count": 12,
   "id": "b174e0a9",
   "metadata": {},
   "outputs": [],
   "source": [
    "models = ['sup_vit', 'dino', 'dinov2', 'mae', 'mae200']\n",
    "\n",
    "# models = ['dino', 'ibot', 'dinov2']\n",
    "transformations = [#'translation', 'blur', 'noise', \n",
    "    'rotate']\n",
    "shifts = {}\n",
    "shifts['translation'] = [1,2,3,4] # shift\n",
    "shifts['blur'] = [2,4,6,8] # blur\n",
    "shifts['noise'] = [10,20,30,40] # noise\n",
    "shifts['rotate'] = [5, 10, 15, 20] # rotation angle\n",
    " \n",
    "non_bg_counts = [7623 if model=='dinov2' else 5850 for model in models]\n"
   ]
  },
  {
   "cell_type": "code",
   "execution_count": 13,
   "id": "946464d3",
   "metadata": {},
   "outputs": [],
   "source": [
    "model_title = {\n",
    "    'dino': \"DINO\",\n",
    "    'dinov2': \"DINOv2\",\n",
    "    'ibot':\"iBOT\",\n",
    "    'sup_vit': \"Supervised ViT\",\n",
    "    'mae': \"MAE\",\n",
    "    'mae200': \"MAE-200\",\n",
    "}"
   ]
  },
  {
   "cell_type": "code",
   "execution_count": 25,
   "id": "40fe8735",
   "metadata": {},
   "outputs": [
    {
     "data": {
      "application/vnd.jupyter.widget-view+json": {
       "model_id": "033c007dcbb843eb88ccf61b50486e2f",
       "version_major": 2,
       "version_minor": 0
      },
      "text/plain": [
       "  0%|          | 0/5 [00:00<?, ?it/s]"
      ]
     },
     "metadata": {},
     "output_type": "display_data"
    }
   ],
   "source": [
    "embeds = {}\n",
    "labels = {}\n",
    "label_ids = {model:{} for model in models}\n",
    "for model in tqdm(models):\n",
    "    labels[model] = torch.from_numpy(np.load(os.path.join(f'../embeddings/fair1m', f'{model}_224_8shot_labels.npy'), allow_pickle=True))\n",
    "    embeds[model] = {}\n",
    "    embeds[model]['translation'] = {\n",
    "        0: torch.from_numpy(np.load(os.path.join(f'../embeddings/fair1m', \n",
    "                f'{model}_224_8shot_embeddings.npy'), allow_pickle=True))\n",
    "    }\n",
    "#     embeds[model]['blur'] = {0: embeds[model]['translation'][0]}\n",
    "#     embeds[model]['noise'] = {0: embeds[model]['translation'][0]}\n",
    "    embeds[model]['rotate'] = {0: embeds[model]['translation'][0]}\n",
    "    \n",
    "#     for shift in shifts['translation']:\n",
    "#         embeds[model]['translation'][shift] = torch.from_numpy(np.load(os.path.join(f'../embeddings/fair1m', \n",
    "#                 f'{model}_224_8shot_shift{shift}_embeddings.npy'), allow_pickle=True))\n",
    "\n",
    "#     for shift in shifts['blur']:\n",
    "#         embeds[model]['blur'][shift] = torch.from_numpy(np.load(os.path.join(f'../embeddings/fair1m', \n",
    "#                 f'{model}_224_8shot_blur{shift}_embeddings.npy'), allow_pickle=True))\n",
    "        \n",
    "#     for shift in shifts['noise']:\n",
    "#         embeds[model]['noise'][shift] = torch.from_numpy(np.load(os.path.join(f'../embeddings/fair1m', \n",
    "#                 f'{model}_224_8shot_noise_{shift}_embeddings.npy'), allow_pickle=True))\n",
    "        \n",
    "    for shift in shifts['rotate']:\n",
    "        embeds[model]['rotate'][shift] = torch.from_numpy(np.load(os.path.join(f'../embeddings/fair1m', \n",
    "                f'{model}_224_8shot_rotate_{shift}_embeddings.npy'), allow_pickle=True))\n",
    "        label_ids[model][shift] = torch.tensor(np.load(os.path.join('../embeddings/fair1m', \n",
    "                f'{model}_224_8shot_map_from_rotated_{shift}_to_original_idx.npy')))\n"
   ]
  },
  {
   "cell_type": "code",
   "execution_count": 15,
   "id": "2fac54b5",
   "metadata": {},
   "outputs": [],
   "source": [
    "# for s in shifts['blur']:\n",
    "#     print(f'mv ../embeddings/fair1m/ibot_224_8shot_blur_{s}_embeddings.npy ../embeddings/fair1m/ibot_224_8shot_blur{s}_embeddings.npy')"
   ]
  },
  {
   "cell_type": "markdown",
   "id": "3ec6fbb2",
   "metadata": {},
   "source": [
    "### the heavy calculation \\/"
   ]
  },
  {
   "cell_type": "code",
   "execution_count": 28,
   "id": "cf7bf535",
   "metadata": {},
   "outputs": [
    {
     "data": {
      "application/vnd.jupyter.widget-view+json": {
       "model_id": "40b806ecbc5344e19521df0844d95759",
       "version_major": 2,
       "version_minor": 0
      },
      "text/plain": [
       "  0%|          | 0/5 [00:00<?, ?it/s]"
      ]
     },
     "metadata": {},
     "output_type": "display_data"
    },
    {
     "name": "stdout",
     "output_type": "stream",
     "text": [
      "\n",
      "sup_vit\n"
     ]
    },
    {
     "data": {
      "application/vnd.jupyter.widget-view+json": {
       "model_id": "",
       "version_major": 2,
       "version_minor": 0
      },
      "text/plain": [
       "  0%|          | 0/4 [00:00<?, ?it/s]"
      ]
     },
     "metadata": {},
     "output_type": "display_data"
    },
    {
     "name": "stdout",
     "output_type": "stream",
     "text": [
      "\n",
      "dino\n"
     ]
    },
    {
     "data": {
      "application/vnd.jupyter.widget-view+json": {
       "model_id": "",
       "version_major": 2,
       "version_minor": 0
      },
      "text/plain": [
       "  0%|          | 0/4 [00:00<?, ?it/s]"
      ]
     },
     "metadata": {},
     "output_type": "display_data"
    },
    {
     "name": "stdout",
     "output_type": "stream",
     "text": [
      "\n",
      "dinov2\n"
     ]
    },
    {
     "data": {
      "application/vnd.jupyter.widget-view+json": {
       "model_id": "",
       "version_major": 2,
       "version_minor": 0
      },
      "text/plain": [
       "  0%|          | 0/4 [00:00<?, ?it/s]"
      ]
     },
     "metadata": {},
     "output_type": "display_data"
    },
    {
     "name": "stdout",
     "output_type": "stream",
     "text": [
      "\n",
      "mae\n"
     ]
    },
    {
     "data": {
      "application/vnd.jupyter.widget-view+json": {
       "model_id": "",
       "version_major": 2,
       "version_minor": 0
      },
      "text/plain": [
       "  0%|          | 0/4 [00:00<?, ?it/s]"
      ]
     },
     "metadata": {},
     "output_type": "display_data"
    },
    {
     "name": "stdout",
     "output_type": "stream",
     "text": [
      "\n",
      "mae200\n"
     ]
    },
    {
     "data": {
      "application/vnd.jupyter.widget-view+json": {
       "model_id": "",
       "version_major": 2,
       "version_minor": 0
      },
      "text/plain": [
       "  0%|          | 0/4 [00:00<?, ?it/s]"
      ]
     },
     "metadata": {},
     "output_type": "display_data"
    }
   ],
   "source": [
    "matrices = {}\n",
    "\n",
    "for mi, model in tqdm(enumerate(models), total=len(models)):\n",
    "    print(f\"\\n{model}\")    \n",
    "    non_bg = labels[model] > 0\n",
    "    \n",
    "    matrices[model] = {}\n",
    "    for ti, transformation in enumerate(transformations):\n",
    "        matrices[model][transformation] = {}\n",
    "        for shift in tqdm(shifts[transformation], leave=False):\n",
    "            matrices[model][transformation][shift] = cosine_distance_torch(\n",
    "                embeds[model][transformation][shift][non_bg], \n",
    "                embeds[model][transformation][0]\n",
    "            )\n"
   ]
  },
  {
   "cell_type": "markdown",
   "id": "d976bf3a",
   "metadata": {},
   "source": [
    "## Calculating the main scores "
   ]
  },
  {
   "cell_type": "code",
   "execution_count": 17,
   "id": "d559394a",
   "metadata": {},
   "outputs": [
    {
     "data": {
      "text/plain": [
       "20"
      ]
     },
     "execution_count": 17,
     "metadata": {},
     "output_type": "execute_result"
    }
   ],
   "source": [
    "shift"
   ]
  },
  {
   "cell_type": "code",
   "execution_count": 26,
   "id": "0b80ac2b",
   "metadata": {},
   "outputs": [
    {
     "data": {
      "text/plain": [
       "<matplotlib.colorbar.Colorbar at 0x7f38855f5a20>"
      ]
     },
     "execution_count": 26,
     "metadata": {},
     "output_type": "execute_result"
    },
    {
     "data": {
      "image/png": "[encoded data removed]",
      "text/plain": [
       "<Figure size 640x480 with 2 Axes>"
      ]
     },
     "metadata": {},
     "output_type": "display_data"
    }
   ],
   "source": [
    "plt.figure()\n",
    "plt.imshow(label_ids[model][20][0*196:1*196].reshape(14,14), cmap='nipy_spectral')\n",
    "plt.colorbar()"
   ]
  },
  {
   "cell_type": "code",
   "execution_count": 19,
   "id": "93b93939",
   "metadata": {},
   "outputs": [
    {
     "ename": "Exception",
     "evalue": "",
     "output_type": "error",
     "traceback": [
      "\u001b[0;31m---------------------------------------------------------------------------\u001b[0m",
      "\u001b[0;31mException\u001b[0m                                 Traceback (most recent call last)",
      "Cell \u001b[0;32mIn[19], line 1\u001b[0m\n\u001b[0;32m----> 1\u001b[0m \u001b[38;5;28;01mraise\u001b[39;00m \u001b[38;5;167;01mException\u001b[39;00m();\n",
      "\u001b[0;31mException\u001b[0m: "
     ]
    }
   ],
   "source": [
    "raise Exception();"
   ]
  },
  {
   "cell_type": "code",
   "execution_count": null,
   "id": "540a71ca",
   "metadata": {},
   "outputs": [],
   "source": [
    "plt.figure()\n",
    "plt.imshow(label_ids[model][20][0*196:1*196].reshape(14,14), cmap='nipy_spectral')\n",
    "plt.colorbar()"
   ]
  },
  {
   "cell_type": "code",
   "execution_count": null,
   "id": "02a749d4",
   "metadata": {},
   "outputs": [],
   "source": []
  },
  {
   "cell_type": "code",
   "execution_count": 27,
   "id": "3e8db90c",
   "metadata": {},
   "outputs": [
    {
     "data": {
      "text/plain": [
       "57820"
      ]
     },
     "execution_count": 27,
     "metadata": {},
     "output_type": "execute_result"
    }
   ],
   "source": [
    "len(label_ids[model][shift])"
   ]
  },
  {
   "cell_type": "code",
   "execution_count": 29,
   "id": "95a257a6",
   "metadata": {},
   "outputs": [
    {
     "data": {
      "application/vnd.jupyter.widget-view+json": {
       "model_id": "10de53afbe8f4aa7bf44f361de43587c",
       "version_major": 2,
       "version_minor": 0
      },
      "text/plain": [
       "0it [00:00, ?it/s]"
      ]
     },
     "metadata": {},
     "output_type": "display_data"
    },
    {
     "name": "stdout",
     "output_type": "stream",
     "text": [
      "\n",
      " sup_vit rotate\n",
      "\n",
      "Level: 5\n",
      "Same patch: 1560\n",
      "Same fine grained category: 4049\n",
      "Same supercategory: 4285\n",
      "\n",
      "Level: 10\n",
      "Same patch: 390\n",
      "Same fine grained category: 3200\n",
      "Same supercategory: 3476\n",
      "\n",
      "Level: 15\n",
      "Same patch: 180\n",
      "Same fine grained category: 2610\n",
      "Same supercategory: 2999\n",
      "\n",
      "Level: 20\n",
      "Same patch: 91\n",
      "Same fine grained category: 2207\n",
      "Same supercategory: 2566\n",
      "\n",
      " dino rotate\n",
      "\n",
      "Level: 5\n",
      "Same patch: 2161\n",
      "Same fine grained category: 4656\n",
      "Same supercategory: 4793\n",
      "\n",
      "Level: 10\n",
      "Same patch: 541\n",
      "Same fine grained category: 3646\n",
      "Same supercategory: 3847\n",
      "\n",
      "Level: 15\n",
      "Same patch: 261\n",
      "Same fine grained category: 3094\n",
      "Same supercategory: 3355\n",
      "\n",
      "Level: 20\n",
      "Same patch: 134\n",
      "Same fine grained category: 2633\n",
      "Same supercategory: 2926\n",
      "\n",
      " dinov2 rotate\n",
      "\n",
      "Level: 5\n",
      "Same patch: 1527\n",
      "Same fine grained category: 5585\n",
      "Same supercategory: 5872\n",
      "\n",
      "Level: 10\n",
      "Same patch: 425\n",
      "Same fine grained category: 4614\n",
      "Same supercategory: 4935\n",
      "\n",
      "Level: 15\n",
      "Same patch: 205\n",
      "Same fine grained category: 3937\n",
      "Same supercategory: 4333\n",
      "\n",
      "Level: 20\n",
      "Same patch: 113\n",
      "Same fine grained category: 3393\n",
      "Same supercategory: 3834\n",
      "\n",
      " mae rotate\n",
      "\n",
      "Level: 5\n",
      "Same patch: 174\n",
      "Same fine grained category: 517\n",
      "Same supercategory: 706\n",
      "\n",
      "Level: 10\n",
      "Same patch: 28\n",
      "Same fine grained category: 351\n",
      "Same supercategory: 512\n",
      "\n",
      "Level: 15\n",
      "Same patch: 12\n",
      "Same fine grained category: 205\n",
      "Same supercategory: 380\n",
      "\n",
      "Level: 20\n",
      "Same patch: 8\n",
      "Same fine grained category: 155\n",
      "Same supercategory: 309\n",
      "\n",
      " mae200 rotate\n",
      "\n",
      "Level: 5\n",
      "Same patch: 2037\n",
      "Same fine grained category: 4577\n",
      "Same supercategory: 4764\n",
      "\n",
      "Level: 10\n",
      "Same patch: 529\n",
      "Same fine grained category: 3517\n",
      "Same supercategory: 3802\n",
      "\n",
      "Level: 15\n",
      "Same patch: 243\n",
      "Same fine grained category: 2615\n",
      "Same supercategory: 3022\n",
      "\n",
      "Level: 20\n",
      "Same patch: 98\n",
      "Same fine grained category: 1936\n",
      "Same supercategory: 2393\n"
     ]
    }
   ],
   "source": [
    "results = np.zeros((len(models), 3, len(shifts['blur']), 4+1))\n",
    "cms = {}\n",
    "\n",
    "for mi, model in tqdm(enumerate(models)):\n",
    "    patch_count = (256 if model=='dinov2' else 196)\n",
    "\n",
    "    cms[model] = {}\n",
    "    total_patches = len(labels[model])\n",
    "    non_bg = labels[model] > 0\n",
    "    for ti, transformation in enumerate(transformations):\n",
    "        print('\\n', model, transformation)\n",
    "        cms[model][transformation] = {}\n",
    "        for si, shift in enumerate(shifts[transformation]):\n",
    "            print(f\"\\nLevel: {shift}\")\n",
    "            closest_patch_id = matrices[model][transformation][shift].argmax(axis=1)\n",
    "\n",
    "            correct_patch_id = label_ids[model][shift] + np.repeat(np.arange(len(label_ids[model][shift]) // patch_count),patch_count) * patch_count\n",
    "            no_correct_patch = label_ids[model][shift] == -1\n",
    "            \n",
    "            no_correct_patch = non_bg.sum() - no_correct_patch[non_bg].sum()\n",
    "            \n",
    "            # same patch\n",
    "            same_patch = np.equal(\n",
    "                closest_patch_id,\n",
    "                correct_patch_id[non_bg]\n",
    "#                 np.arange(total_patches)[non_bg]\n",
    "            ).sum()\n",
    "            print(f\"Same patch: {same_patch}\")\n",
    "\n",
    "            # same fine-grained category\n",
    "            same_finegrained = np.equal(labels[model][non_bg], labels[model][closest_patch_id]).sum()\n",
    "            print(f\"Same fine grained category: {same_finegrained}\")\n",
    "\n",
    "            cms[model][transformation][shift] = metrics.confusion_matrix(labels[model][non_bg], labels[model][closest_patch_id], labels=np.arange(38))\n",
    "\n",
    "            same_superclass = np.equal(\n",
    "                finegrained_to_superclass[labels[model][non_bg]], \n",
    "                finegrained_to_superclass[labels[model][closest_patch_id]]\n",
    "            ).sum()\n",
    "            print(f\"Same supercategory: {same_superclass}\")\n",
    "\n",
    "            results[mi][ti][si] = [same_patch, same_finegrained, same_superclass, \n",
    "                                    (finegrained_to_superclass[labels[model][closest_patch_id]] > 0).sum(), no_correct_patch]\n",
    "\n",
    "#     matrices[model] = {}"
   ]
  },
  {
   "cell_type": "code",
   "execution_count": 30,
   "id": "8ea51b11",
   "metadata": {},
   "outputs": [],
   "source": [
    "metrics_ = ['Same patch', 'Same fine-grained cat.', 'Same supercategory', 'Non-background', 'Upper bound']"
   ]
  },
  {
   "cell_type": "code",
   "execution_count": 31,
   "id": "f534c487",
   "metadata": {},
   "outputs": [],
   "source": [
    "cmap = mcolors.LinearSegmentedColormap.from_list(\"mycmap\", ['lightblue', 'darkblue'])"
   ]
  },
  {
   "cell_type": "code",
   "execution_count": 32,
   "id": "b83bf2d9",
   "metadata": {},
   "outputs": [],
   "source": [
    "non_bg_counts = [5850, 5850, 7623, 5850, 5850]\n",
    "# non_bg_counts = [5850, 5850, 7623]"
   ]
  },
  {
   "cell_type": "code",
   "execution_count": 33,
   "id": "60c5f29c",
   "metadata": {},
   "outputs": [],
   "source": [
    "fs = 13"
   ]
  },
  {
   "cell_type": "code",
   "execution_count": 34,
   "id": "5b979b2a",
   "metadata": {
    "scrolled": false
   },
   "outputs": [
    {
     "data": {
      "image/png": "[encoded data removed]",
      "text/plain": [
       "<Figure size 1200x250 with 5 Axes>"
      ]
     },
     "metadata": {},
     "output_type": "display_data"
    }
   ],
   "source": [
    "for ti, transformation in enumerate(transformations):\n",
    "    fig, ax = plt.subplots(1, len(models), figsize=(12, 2.5))\n",
    "    for mi, model in enumerate(models):\n",
    "        mi_ = mi # 4 if mi == 0 else mi-1\n",
    "        ax[mi].title.set_text(model_title[model])\n",
    "        for k, metric in enumerate(metrics_): \n",
    "            ax[mi].plot(results[mi_, ti, :, k], label=metric, marker='o')\n",
    "        ax[mi].set_xticks(range(0,4))\n",
    "        \n",
    "        if transformation == 'translation':\n",
    "            ax[mi].set_xlabel(\"Shift in pixels\", fontsize=fs)\n",
    "            ax[mi].set_xticklabels(range(1, 5))\n",
    "        elif transformation == 'blur':\n",
    "            ax[mi].set_xlabel(\"Blur in pixels\", fontsize=fs)\n",
    "            ax[mi].set_xticklabels(np.arange(2, 9, 2))\n",
    "        elif transformation == 'noise':\n",
    "            ax[mi].set_xlabel(\"Noise std\", fontsize=fs)\n",
    "            ax[mi].set_xticklabels(np.arange(10, 41, 10))\n",
    "        elif transformation == 'rotate':\n",
    "            ax[mi].set_xlabel(\"Rotation degree\", fontsize=fs)\n",
    "            ax[mi].set_xticklabels(np.arange(5, 21, 5))\n",
    "\n",
    "        ax[mi].set_ylim(0, non_bg_counts[mi_])\n",
    "    plt.tight_layout();\n",
    "    plt.savefig(f'./images/fair1m/fair1m-{transformation}s.pdf')\n",
    "\n",
    "ax[mi].legend(fontsize=8);\n",
    "plt.savefig(f'./images/fair1m/fair1m-{transformation}s.pdf')\n",
    "\n",
    "# plt.savefig('./images/fair1m/')"
   ]
  },
  {
   "cell_type": "code",
   "execution_count": null,
   "id": "6c74ef22",
   "metadata": {},
   "outputs": [],
   "source": [
    "!mkdir ./images/fair1m"
   ]
  },
  {
   "cell_type": "code",
   "execution_count": null,
   "id": "658c4780",
   "metadata": {},
   "outputs": [],
   "source": []
  },
  {
   "cell_type": "markdown",
   "id": "e8e77e92",
   "metadata": {},
   "source": [
    "### What if we ask for the closest patch excluding the right one?"
   ]
  },
  {
   "cell_type": "code",
   "execution_count": null,
   "id": "654ce667",
   "metadata": {},
   "outputs": [],
   "source": [
    "matrices.keys()"
   ]
  },
  {
   "cell_type": "code",
   "execution_count": null,
   "id": "3bbfcc18",
   "metadata": {},
   "outputs": [],
   "source": [
    "len(closest_patch_id)"
   ]
  },
  {
   "cell_type": "code",
   "execution_count": null,
   "id": "f4ef80f7",
   "metadata": {},
   "outputs": [],
   "source": [
    "results_noself = np.zeros((len(models), len(transformations), len(shifts['blur']), 4))\n",
    "for mi, model in tqdm(enumerate(models)):\n",
    "    print(f\"\\n{model}\")\n",
    "    patch_count = (256 if model=='dinov2' else 196)\n",
    "    print(matrices[model]['blur'][2].shape, embeds[model]['blur'][0].shape, labels[model].shape)\n",
    "\n",
    "    non_bg = labels[model] > 0\n",
    "    total_patches = len(labels[model])\n",
    "    \n",
    "    # disable same image\n",
    "    image_ids = np.arange(len(non_bg)) // patch_count\n",
    "    diag_mask = (image_ids[:, None] == image_ids[None, :])[non_bg]\n",
    "    print(\"diag mask shape\", diag_mask.shape)\n",
    "    \n",
    "    for ti, transformation in enumerate(transformations):\n",
    "        print('\\n', model, transformation)\n",
    "#         cms[model][transformation] = {}\n",
    "        for si, shift in enumerate(shifts[transformation]):\n",
    "            print(f\"\\nShift: {shift}\")\n",
    "            tmp = matrices[model][transformation][shift].clone()\n",
    "            tmp[diag_mask] = 0\n",
    "\n",
    "            closest_patch_id = tmp.argmax(axis=1)\n",
    "#             closest_patch_id = np.random.choice(range(total_patches), len(closest_patch_id))\n",
    "\n",
    "            # same patch\n",
    "            same_patch = np.equal(\n",
    "                closest_patch_id,\n",
    "                np.arange(total_patches)[non_bg]\n",
    "            ).sum()\n",
    "            print(f\"Same patch: {same_patch}\")\n",
    "\n",
    "            # same image\n",
    "            same_image = np.equal(\n",
    "                closest_patch_id // patch_count,\n",
    "                np.arange(total_patches)[non_bg] // patch_count\n",
    "            ).sum()\n",
    "            print(f\"Same image: {same_image}\")\n",
    "\n",
    "\n",
    "            # same fine-grained category\n",
    "            same_finegrained = np.equal(labels[model][non_bg], labels[model][closest_patch_id]).sum()\n",
    "            print(f\"Same fine grained category: {same_finegrained}\")\n",
    "\n",
    "    #         cms[model][shift] = metrics.confusion_matrix(labels[model][non_bg], labels[model][closest_patch_id[non_bg]], labels=np.arange(38))\n",
    "\n",
    "            same_superclass = np.equal(\n",
    "                finegrained_to_superclass[labels[model][non_bg]], \n",
    "                finegrained_to_superclass[labels[model][closest_patch_id]]\n",
    "            ).sum()\n",
    "            print(f\"Same supercategory: {same_superclass}\")\n",
    "\n",
    "            some_class = (\n",
    "                labels[model][closest_patch_id] > 0\n",
    "            ).sum()\n",
    "            print(f\"Some object: {some_class}\")\n",
    "\n",
    "            bg = (\n",
    "                labels[model][closest_patch_id] == 0\n",
    "            ).sum()\n",
    "            print(f\"Background: {bg}\")\n",
    "\n",
    "            results_noself[mi, ti, si] = [same_finegrained, same_superclass, some_class, 0]\n",
    "    \n",
    "    "
   ]
  },
  {
   "cell_type": "code",
   "execution_count": null,
   "id": "7fe9c878",
   "metadata": {},
   "outputs": [],
   "source": [
    "metrics_noself = [\n",
    "    'Same fine-grained cat.',\n",
    "    'Same supercategory',\n",
    "    'Any object category'\n",
    "]"
   ]
  },
  {
   "cell_type": "code",
   "execution_count": null,
   "id": "b29d18e9",
   "metadata": {},
   "outputs": [],
   "source": [
    "for ti, transformation in enumerate(transformations):\n",
    "    fig, ax = plt.subplots(1, len(models), figsize=(12, 2.5))\n",
    "    for mi, model in enumerate(models):\n",
    "        ax[mi].title.set_text(model_title[model])\n",
    "        for k, metric in enumerate(metrics_noself): \n",
    "            ax[mi].plot(results_noself[mi, ti, :, k], label=metric, marker='o', color=f'C{k+1}')\n",
    "        ax[mi].set_xticks(range(0,4))\n",
    "        if transformation == 'translation':\n",
    "            ax[mi].set_xlabel(\"Shift in pixels\", fontsize=fs)\n",
    "            ax[mi].set_xticklabels(range(1, 5))\n",
    "        elif transformation == 'blur':\n",
    "            ax[mi].set_xlabel(\"Blur in pixels\", fontsize=fs)\n",
    "            ax[mi].set_xticklabels(np.arange(2, 9, 2))\n",
    "        elif transformation == 'noise':\n",
    "            ax[mi].set_xlabel(\"Noise std\", fontsize=fs)\n",
    "            ax[mi].set_xticklabels(range(10, 41, 10))\n",
    "            \n",
    "        ax[mi].set_ylim(0, non_bg_counts[mi])\n",
    "    ax[mi].legend()\n",
    "    plt.tight_layout()\n",
    "    plt.savefig(f'./images/fair1m/fair1m-retrieval-{transformation}.pdf')"
   ]
  },
  {
   "cell_type": "code",
   "execution_count": null,
   "id": "e613a2d0",
   "metadata": {},
   "outputs": [],
   "source": []
  },
  {
   "cell_type": "code",
   "execution_count": null,
   "id": "b32a16ad",
   "metadata": {},
   "outputs": [],
   "source": []
  },
  {
   "cell_type": "code",
   "execution_count": null,
   "id": "fa7d51cf",
   "metadata": {},
   "outputs": [],
   "source": []
  },
  {
   "cell_type": "code",
   "execution_count": null,
   "id": "46eaeed3",
   "metadata": {},
   "outputs": [],
   "source": [
    "exit"
   ]
  },
  {
   "cell_type": "code",
   "execution_count": null,
   "id": "3f1967c1",
   "metadata": {},
   "outputs": [],
   "source": []
  }
 ],
 "metadata": {
  "kernelspec": {
   "display_name": "mae",
   "language": "python",
   "name": "mae"
  },
  "language_info": {
   "codemirror_mode": {
    "name": "ipython",
    "version": 3
   },
   "file_extension": ".py",
   "mimetype": "text/x-python",
   "name": "python",
   "nbconvert_exporter": "python",
   "pygments_lexer": "ipython3",
   "version": "3.10.9"
  }
 },
 "nbformat": 4,
 "nbformat_minor": 5
}
