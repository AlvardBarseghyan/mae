{
 "cells": [
  {
   "cell_type": "code",
   "execution_count": 23,
   "id": "5b56dc18",
   "metadata": {},
   "outputs": [],
   "source": [
    "import numpy as np\n",
    "import torch\n",
    "from tqdm import tqdm"
   ]
  },
  {
   "cell_type": "code",
   "execution_count": 14,
   "id": "f9b2c84d",
   "metadata": {},
   "outputs": [],
   "source": [
    "weights = torch.tensor([0.5, 0.2, 0.3, 0.4])"
   ]
  },
  {
   "cell_type": "code",
   "execution_count": 15,
   "id": "f751e963",
   "metadata": {},
   "outputs": [],
   "source": [
    "patch_labels = torch.tensor(np.random.choice(4, 20))"
   ]
  },
  {
   "cell_type": "code",
   "execution_count": 16,
   "id": "830f7cb0",
   "metadata": {},
   "outputs": [
    {
     "data": {
      "text/plain": [
       "tensor([3, 3, 2, 2, 3, 0, 3, 3, 3, 3, 0, 3, 1, 1, 2, 0, 3, 2, 1, 0])"
      ]
     },
     "execution_count": 16,
     "metadata": {},
     "output_type": "execute_result"
    }
   ],
   "source": [
    "patch_labels"
   ]
  },
  {
   "cell_type": "code",
   "execution_count": 17,
   "id": "b4983c8f",
   "metadata": {},
   "outputs": [
    {
     "data": {
      "text/plain": [
       "tensor([0.4000, 0.4000, 0.3000, 0.3000, 0.4000, 0.5000, 0.4000, 0.4000, 0.4000,\n",
       "        0.4000, 0.5000, 0.4000, 0.2000, 0.2000, 0.3000, 0.5000, 0.4000, 0.3000,\n",
       "        0.2000, 0.5000])"
      ]
     },
     "execution_count": 17,
     "metadata": {},
     "output_type": "execute_result"
    }
   ],
   "source": [
    "weights[patch_labels]"
   ]
  },
  {
   "cell_type": "code",
   "execution_count": 24,
   "id": "2d7a1ae8",
   "metadata": {},
   "outputs": [],
   "source": [
    "import cv2"
   ]
  },
  {
   "cell_type": "code",
   "execution_count": 33,
   "id": "c21d271a",
   "metadata": {
    "scrolled": false
   },
   "outputs": [
    {
     "name": "stderr",
     "output_type": "stream",
     "text": [
      "100%|███████████████████████████████████████████████████████████████████████████| 2304/2304 [00:00<00:00, 171439.05it/s]\n"
     ]
    }
   ],
   "source": [
    "labels = []\n",
    "annot = np.load('../annotations/cs/cs4pc_256_train_4_prime.npy', allow_pickle=True).item()\n",
    "for ann in tqdm(annot['images'], total=len(annot['images'])):\n",
    "    bl_img = cv2.resize(ann['black_image'], (16, 16), interpolation=cv2.INTER_NEAREST_EXACT)\n",
    "    labels.append(bl_img.reshape(-1))\n",
    "\n",
    "labels = np.concatenate(labels)"
   ]
  },
  {
   "cell_type": "code",
   "execution_count": 34,
   "id": "46ce7b62",
   "metadata": {},
   "outputs": [
    {
     "data": {
      "text/plain": [
       "(589824,)"
      ]
     },
     "execution_count": 34,
     "metadata": {},
     "output_type": "execute_result"
    }
   ],
   "source": [
    "labels.shape"
   ]
  },
  {
   "cell_type": "code",
   "execution_count": 35,
   "id": "36b5e7dc",
   "metadata": {},
   "outputs": [],
   "source": [
    "np.save('../embeddings/cs_patches_256/dinov2_cs4pc_256_train_4_prime_labels.npy', labels)"
   ]
  },
  {
   "cell_type": "code",
   "execution_count": 10,
   "id": "6ad25d89",
   "metadata": {},
   "outputs": [],
   "source": [
    "import matplotlib.pyplot as plt"
   ]
  },
  {
   "cell_type": "code",
   "execution_count": 4,
   "id": "22760437",
   "metadata": {},
   "outputs": [
    {
     "name": "stdout",
     "output_type": "stream",
     "text": [
      "blendLinear\n",
      "linearPolar\n",
      "rectify3Collinear\n",
      "INTER_LINEAR\n",
      "INTER_LINEAR_EXACT\n",
      "INTER_NEAREST\n",
      "INTER_NEAREST_EXACT\n",
      "WARP_POLAR_LINEAR\n",
      "ml_KNearest\n",
      "detail_BestOf2NearestMatcher\n",
      "detail_BestOf2NearestRangeMatcher\n",
      "detail_AffineBestOf2NearestMatcher\n"
     ]
    }
   ],
   "source": [
    "for i in cv2.__dir__():\n",
    "    if 'near' in i.lower():\n",
    "        print(i)"
   ]
  },
  {
   "cell_type": "code",
   "execution_count": 21,
   "id": "4de04465",
   "metadata": {},
   "outputs": [
    {
     "name": "stderr",
     "output_type": "stream",
     "text": [
      "100%|███████████████████████████████████████████████████████████████████████████| 2304/2304 [00:00<00:00, 181042.31it/s]\n"
     ]
    }
   ],
   "source": [
    "labels = []\n",
    "annot = np.load('../annotations/cs/cs4pc_256_train.npy', allow_pickle=True).item()\n",
    "for ann in tqdm(annot['images'], total=len(annot['images'])):\n",
    "    bl_img = cv2.resize(ann['black_image'], (14, 14), interpolation=cv2.INTER_NEAREST_EXACT)\n",
    "    labels.append(bl_img.reshape(-1))\n",
    "\n",
    "labels = np.concatenate(labels)"
   ]
  },
  {
   "cell_type": "code",
   "execution_count": 22,
   "id": "9bb967d8",
   "metadata": {},
   "outputs": [],
   "source": [
    "np.save('../embeddings/cs_patches_256/dino_cs4pc_256_train_labels.npy', labels)"
   ]
  },
  {
   "cell_type": "code",
   "execution_count": null,
   "id": "f20d5680",
   "metadata": {},
   "outputs": [],
   "source": []
  },
  {
   "cell_type": "code",
   "execution_count": null,
   "id": "4891fecb",
   "metadata": {},
   "outputs": [],
   "source": []
  }
 ],
 "metadata": {
  "kernelspec": {
   "display_name": "Python 3 (ipykernel)",
   "language": "python",
   "name": "python3"
  },
  "language_info": {
   "codemirror_mode": {
    "name": "ipython",
    "version": 3
   },
   "file_extension": ".py",
   "mimetype": "text/x-python",
   "name": "python",
   "nbconvert_exporter": "python",
   "pygments_lexer": "ipython3",
   "version": "3.10.9"
  }
 },
 "nbformat": 4,
 "nbformat_minor": 5
}
