{
 "cells": [
  {
   "cell_type": "code",
   "execution_count": 1,
   "id": "3b619790",
   "metadata": {},
   "outputs": [],
   "source": [
    "import torch as th\n",
    "import os\n",
    "import numpy as np\n",
    "from tqdm.notebook import tqdm\n",
    "from sklearn import metrics\n",
    "from matplotlib import pyplot as plt\n",
    "\n",
    "np.random.seed(32635)"
   ]
  },
  {
   "cell_type": "code",
   "execution_count": 2,
   "id": "90d5a62e",
   "metadata": {},
   "outputs": [],
   "source": [
    "def cosine_distance_torch(x1, x2=None):\n",
    "    x2 = x1 if x2 is None else x2\n",
    "    # w1 = x1.norm(p=2, dim=1, keepdim=True)\n",
    "    # w2 = w1 if x2 is x1 else x2.norm(p=2, dim=1, keepdim=True)\n",
    "    return th.mm(x1, x2.t())\n",
    "\n",
    "\n",
    "class_dct = {   7: ('road', 6111042),\n",
    "                8: ('sidewalk', 1016635),\n",
    "                11: ('building', 3822901),\n",
    "                12: ('wall', 109501),\n",
    "                13: ('fence', 146414),\n",
    "                17: ('pole', 203783),\n",
    "                19: ('traffic light', 34697),\n",
    "                20: ('traffic sign', 91885),\n",
    "                21: ('vegetation', 2665158),\n",
    "                22: ('terrain', 193395),\n",
    "                23: ('sky', 680522),\n",
    "                24: ('person', 202630),\n",
    "                25: ('rider', 22368),\n",
    "                26: ('car', 1165026),\n",
    "                27: ('truck', 44584),\n",
    "                28: ('bus', 38923),\n",
    "                31: ('train', 38767),\n",
    "                32: ('motorcycle', 16403),\n",
    "                33: ('bicycle', 69008)}\n",
    "\n",
    "\n",
    "device='cpu'\n",
    "\n",
    "\"\"\"\n",
    "Author: Josue N Rivera (github.com/JosueCom)\n",
    "Date: 7/3/2021\n",
    "Description: Snippet of various clustering implementations only using PyTorch\n",
    "Full project repository: https://github.com/JosueCom/Lign (A graph deep learning framework that works alongside PyTorch)\n",
    "\"\"\"\n",
    "\n",
    "def randomize_tensor(tensor):\n",
    "    return tensor[th.randperm(len(tensor))]\n",
    "\n",
    "def distance_matrix(x, y=None, p = 2): #pairwise distance of vectors\n",
    "    \n",
    "    y = x if type(y) == type(None) else y\n",
    "\n",
    "    n = x.size(0)\n",
    "    m = y.size(0)\n",
    "    d = x.size(1)\n",
    "\n",
    "    # x = x.unsqueeze(1).expand(n, m, d)\n",
    "    # y = y.unsqueeze(0).expand(n, m, d)\n",
    "    \n",
    "    # dist = th.linalg.vector_norm(x - y, p, 2) if th.__version__ >= '1.7.0' else th.pow(x - y, p).sum(2)**(1/p)\n",
    "    dist = cosine_distance_torch(x, y)\n",
    "    return dist"
   ]
  },
  {
   "cell_type": "code",
   "execution_count": 3,
   "id": "1c0cc2ee",
   "metadata": {},
   "outputs": [
    {
     "data": {
      "text/plain": [
       "'/mnt/lwll/lwll-coral/hrant/cs_patches_256/'"
      ]
     },
     "execution_count": 3,
     "metadata": {},
     "output_type": "execute_result"
    }
   ],
   "source": [
    "'/mnt/lwll/lwll-coral/hrant/cs_patches_256/'"
   ]
  },
  {
   "cell_type": "code",
   "execution_count": 3,
   "id": "54d64342",
   "metadata": {},
   "outputs": [],
   "source": [
    "model = 'dino'\n",
    "path_to_read = '/mnt/lwll/lwll-coral/hrant/cs_patches_256/'\n",
    "dino_embeds_train = th.from_numpy(np.load(path_to_read + f'{model}_embeds_train.npy')).to(device=device)\n",
    "dino_labels_train = th.from_numpy(np.load(path_to_read + f'{model}_labels_train.npy')).to(device=device, dtype=th.int64)\n",
    "dino_embeds_val = th.from_numpy(np.load(path_to_read + f'{model}_embeds_test.npy')).to(device=device)\n",
    "dino_labels_val = th.from_numpy(np.load(path_to_read + f'{model}_labels_test.npy')).to(device=device, dtype=th.int64)\n",
    "# dino_embeds_train = th.from_numpy(np.load(path_to_read + f'embeds.npy')).to(device=device)\n",
    "# dino_labels_train = th.from_numpy(np.load(path_to_read + f'labels.npy')).to(device=device, dtype=th.int64)\n",
    "# dino_embeds_val = th.from_numpy(np.load(path_to_read + f'embeds_val_2000.npy')).to(device=device)\n",
    "# dino_labels_val = th.from_numpy(np.load(path_to_read + f'labels_val_2000.npy')).to(device=device, dtype=th.int64)\n",
    "path = '/mnt/lwll/lwll-coral/hrant/cs_patches_256/predictions_knn/'\n"
   ]
  },
  {
   "cell_type": "code",
   "execution_count": 4,
   "id": "104e057b",
   "metadata": {},
   "outputs": [],
   "source": [
    "model = 'sup_vit'\n",
    "path_to_read = '/mnt/lwll/lwll-coral/hrant/cs_patches_256/'\n",
    "dino_embeds_train = th.from_numpy(np.load(path_to_read + f'{model}_embeds_train.npy')).to(device=device)\n",
    "dino_labels_train = th.from_numpy(np.load(path_to_read + f'{model}_labels_train.npy')).to(device=device, dtype=th.int64)\n",
    "dino_embeds_val = th.from_numpy(np.load(path_to_read + f'{model}_embeds_val.npy')).to(device=device)\n",
    "dino_labels_val = th.from_numpy(np.load(path_to_read + f'{model}_labels_val.npy')).to(device=device, dtype=th.int64)\n"
   ]
  },
  {
   "cell_type": "code",
   "execution_count": 5,
   "id": "472c5fd0",
   "metadata": {},
   "outputs": [],
   "source": [
    "with open('preprocessing/labels.txt') as f:\n",
    "    labels = {\n",
    "        int(line[22:25].strip()):\n",
    "        (line[:22].strip().replace(\"'\", \"\"), \n",
    "         int(line[25:].strip()))\n",
    "        for line in f.readlines()\n",
    "    }\n",
    "\n",
    "eval_labels = [i for i in labels if 0 <= labels[i][1] < 255]\n",
    "\n",
    "eval_label_names = [labels[i][0] for i in labels if 0 <= labels[i][1] < 255]"
   ]
  },
  {
   "cell_type": "code",
   "execution_count": 6,
   "id": "329c97e0",
   "metadata": {},
   "outputs": [
    {
     "data": {
      "text/plain": [
       "[7, 8, 11, 12, 13, 17, 19, 20, 21, 22, 23, 24, 25, 26, 27, 28, 31, 32, 33]"
      ]
     },
     "execution_count": 6,
     "metadata": {},
     "output_type": "execute_result"
    }
   ],
   "source": [
    "eval_labels"
   ]
  },
  {
   "cell_type": "code",
   "execution_count": 7,
   "id": "219d01a9",
   "metadata": {},
   "outputs": [
    {
     "data": {
      "text/plain": [
       "['road',\n",
       " 'sidewalk',\n",
       " 'building',\n",
       " 'wall',\n",
       " 'fence',\n",
       " 'pole',\n",
       " 'traffic light',\n",
       " 'traffic sign',\n",
       " 'vegetation',\n",
       " 'terrain',\n",
       " 'sky',\n",
       " 'person',\n",
       " 'rider',\n",
       " 'car',\n",
       " 'truck',\n",
       " 'bus',\n",
       " 'train',\n",
       " 'motorcycle',\n",
       " 'bicycle']"
      ]
     },
     "execution_count": 7,
     "metadata": {},
     "output_type": "execute_result"
    }
   ],
   "source": [
    "eval_label_names"
   ]
  },
  {
   "cell_type": "code",
   "execution_count": 8,
   "id": "7ba46916",
   "metadata": {},
   "outputs": [],
   "source": [
    "class NN():\n",
    "\n",
    "    def __init__(self, X = None, Y = None, p = 2):\n",
    "        self.p = p\n",
    "        self.train(X, Y)\n",
    "\n",
    "    def train(self, X, Y):\n",
    "        self.train_pts = X\n",
    "        self.train_label = Y\n",
    "\n",
    "    def __call__(self, x):\n",
    "        return self.predict(x)\n",
    "\n",
    "    def predict(self, x):\n",
    "        if type(self.train_pts) == type(None) or type(self.train_label) == type(None):\n",
    "            name = self.__class__.__name__\n",
    "            raise RuntimeError(f\"{name} wasn't trained. Need to execute {name}.train() first\")\n",
    "        \n",
    "        dist = distance_matrix(x, self.train_pts, self.p)\n",
    "        labels = th.argmin(dist, dim=1)\n",
    "        return self.train_label[labels]"
   ]
  },
  {
   "cell_type": "code",
   "execution_count": 9,
   "id": "bdb6398b",
   "metadata": {},
   "outputs": [],
   "source": [
    "class KNN(NN):\n",
    "\n",
    "    def __init__(self, X = None, Y = None, k = 3, p = 2):\n",
    "        self.k = k\n",
    "        super().__init__(X, Y, p)\n",
    "    \n",
    "    def train(self, X, Y):\n",
    "        super().train(X, Y)\n",
    "        if type(Y) != type(None):\n",
    "            self.unique_labels = self.train_label.unique()\n",
    "\n",
    "    def predict(self, x):\n",
    "        if type(self.train_pts) == type(None) or type(self.train_label) == type(None):\n",
    "            name = self.__class__.__name__\n",
    "            raise RuntimeError(f\"{name} wasn't trained. Need to execute {name}.train() first\")\n",
    "        \n",
    "        # candidates = []\n",
    "        size = 10000\n",
    "        # top_n = th.zeros((x.shape[0], self.train_pts.shape[0]), dtype=th.float16)\n",
    "        # top_n_dct = {'indices':[], 'values':[]}\n",
    "        # candidates = [top_n_dct] * x.shape[0]\n",
    "        index_topn = []\n",
    "        value_topn = []\n",
    "\n",
    "        for i in tqdm(range(len(self.train_pts)//size)):\n",
    "        # dist = distance_matrix(x, self.train_pts, self.p)\n",
    "            try:\n",
    "                dist = distance_matrix(x, self.train_pts[i*size:(i+1)*size], self.p)\n",
    "            except IndexError:\n",
    "                dist = distance_matrix(x, self.train_pts[i*size:], self.p)\n",
    "            \n",
    "            \n",
    "            knn = dist.topk(self.k, largest=True)#.values\n",
    "            indices = knn.indices + i*size\n",
    "            \n",
    "            index_topn.append(indices)\n",
    "            value_topn.append(knn.values)\n",
    "#             if i == 5:\n",
    "#                 break\n",
    "\n",
    "        return index_topn, value_topn\n",
    "                # top_n[i][indices[i]] = knn.values[i]\n",
    "#         index_topn = th.tensor(index_topn)\n",
    "#         value_topn = th.tensor(value_topn)\n",
    "#         candidates = top_n.topk(self.k, largest=True).indices\n",
    "#         candidates = index_topn[candidates]\n",
    "#         votes = self.train_label[candidates]\n",
    "\n",
    "#         winner = th.zeros(votes.size(0), dtype=votes.dtype, device=votes.device)\n",
    "#         count = th.zeros(votes.size(0), dtype=votes.dtype, device=votes.device) - 1\n",
    "\n",
    "#         for lab in self.unique_labels:\n",
    "#             vote_count = (votes == lab).sum(1)\n",
    "#             who = vote_count >= count\n",
    "#             winner[who] = lab\n",
    "#             count[who] = vote_count[who]\n",
    "\n",
    "#         return winner"
   ]
  },
  {
   "cell_type": "code",
   "execution_count": 10,
   "id": "ca5d4c2a",
   "metadata": {},
   "outputs": [
    {
     "data": {
      "text/plain": [
       "(torch.Size([18659200, 1024]),\n",
       " torch.Size([18659200]),\n",
       " torch.Size([3136000, 1024]))"
      ]
     },
     "execution_count": 10,
     "metadata": {},
     "output_type": "execute_result"
    }
   ],
   "source": [
    "dino_embeds_train.shape, dino_labels_train.shape, dino_embeds_val.shape"
   ]
  },
  {
   "cell_type": "code",
   "execution_count": 11,
   "id": "e1b46d4f",
   "metadata": {},
   "outputs": [],
   "source": [
    "knn = KNN(dino_embeds_train, dino_labels_train, k=10, p=2)"
   ]
  },
  {
   "cell_type": "code",
   "execution_count": null,
   "id": "98042967",
   "metadata": {},
   "outputs": [
    {
     "data": {
      "application/vnd.jupyter.widget-view+json": {
       "model_id": "a4112ca64a21493eaf961d7e0c985e40",
       "version_major": 2,
       "version_minor": 0
      },
      "text/plain": [
       "  0%|          | 0/1865 [00:00<?, ?it/s]"
      ]
     },
     "metadata": {},
     "output_type": "display_data"
    }
   ],
   "source": [
    "out1, out2 = knn(dino_embeds_val)"
   ]
  },
  {
   "cell_type": "code",
   "execution_count": 14,
   "id": "bc102b39",
   "metadata": {},
   "outputs": [],
   "source": [
    "good_indices = th.cat(out1, axis=1)\n",
    "good_values = th.cat(out2, axis=1)"
   ]
  },
  {
   "cell_type": "code",
   "execution_count": 15,
   "id": "032389d2",
   "metadata": {},
   "outputs": [
    {
     "data": {
      "text/plain": [
       "(torch.Size([38000, 1860]), torch.Size([38000, 1860]))"
      ]
     },
     "execution_count": 15,
     "metadata": {},
     "output_type": "execute_result"
    }
   ],
   "source": [
    "good_indices.shape, good_values.shape "
   ]
  },
  {
   "cell_type": "code",
   "execution_count": 16,
   "id": "c803d012",
   "metadata": {},
   "outputs": [],
   "source": [
    "path = '/mnt/lwll/lwll-coral/hrant/cs_patches_256/predictions_knn/'\n",
    "\n",
    "np.save(os.path.join(path, 'mae_val38k_10x186_NN.npy'), {\n",
    "    \"good_indices\": good_indices, \n",
    "    \"good_values\": good_values\n",
    "})"
   ]
  },
  {
   "cell_type": "code",
   "execution_count": 1,
   "id": "9284113d",
   "metadata": {},
   "outputs": [],
   "source": [
    "import os\n",
    "path = '/mnt/lwll/lwll-coral/hrant/embeddings/fair1m/predictions_knn'\n",
    "# path_to_save = os.path.join(path, f'{model}train_72_test_all_10x186_NN.h5')\n",
    "path_to_save = os.path.join(path, 'ADADSF_test_all')"
   ]
  },
  {
   "cell_type": "code",
   "execution_count": 2,
   "id": "160fa8f0",
   "metadata": {},
   "outputs": [
    {
     "data": {
      "text/plain": [
       "'/mnt/lwll/lwll-coral/hrant/embeddings/fair1m/predictions_knn/ADADSF_test_all'"
      ]
     },
     "execution_count": 2,
     "metadata": {},
     "output_type": "execute_result"
    }
   ],
   "source": [
    "path_to_save"
   ]
  },
  {
   "cell_type": "code",
   "execution_count": null,
   "id": "6c470db0",
   "metadata": {},
   "outputs": [],
   "source": []
  }
 ],
 "metadata": {
  "kernelspec": {
   "display_name": "mae",
   "language": "python",
   "name": "mae"
  },
  "language_info": {
   "codemirror_mode": {
    "name": "ipython",
    "version": 3
   },
   "file_extension": ".py",
   "mimetype": "text/x-python",
   "name": "python",
   "nbconvert_exporter": "python",
   "pygments_lexer": "ipython3",
   "version": "3.10.9"
  }
 },
 "nbformat": 4,
 "nbformat_minor": 5
}
