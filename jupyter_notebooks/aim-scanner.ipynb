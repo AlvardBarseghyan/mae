{
 "cells": [
  {
   "cell_type": "code",
   "execution_count": 1,
   "id": "ca66d95c",
   "metadata": {},
   "outputs": [],
   "source": [
    "import numpy as np\n",
    "from matplotlib import pyplot as plt\n",
    "import aim\n",
    "from aim import Run\n",
    "from tqdm.notebook import tqdm"
   ]
  },
  {
   "cell_type": "code",
   "execution_count": 2,
   "id": "f1e1b333",
   "metadata": {},
   "outputs": [],
   "source": [
    "repo = aim.Repo.from_path('../')"
   ]
  },
  {
   "cell_type": "code",
   "execution_count": null,
   "id": "2a1ec0a4",
   "metadata": {},
   "outputs": [],
   "source": [
    "stats = {\n",
    "    \"class_name\": [],\n",
    "    \"model\": [],\n",
    "    \"auc_max\": [],\n",
    "    \"auc_max_50\": [],\n",
    "    \"auc_argmax\": [],\n",
    "    \"sample_size\": []\n",
    "}"
   ]
  },
  {
   "cell_type": "code",
   "execution_count": null,
   "id": "cd074692",
   "metadata": {},
   "outputs": [],
   "source": [
    "def process_auc(run):\n",
    "    print(run.experiment)\n",
    "    try:\n",
    "        class_name, model, _, sample_size, _ = run.experiment.split('_')\n",
    "    except Exception as e:\n",
    "        class_name, model, _, _, sample_size, _ = run.experiment.split('_')\n",
    "    \n",
    "    for metric in run.metrics():\n",
    "        if metric.name != 'auc':\n",
    "            continue\n",
    "        \n",
    "        aucs = np.array([x[1][0] for x in metric.data])\n",
    "        \n",
    "        stats['class_name'].append(class_name)\n",
    "        stats['model'].append(model)\n",
    "        stats['auc_max'].append(aucs.max())\n",
    "        stats['auc_max_50'].append(aucs[:50].max())\n",
    "        stats['auc_argmax'].append(aucs.argmax())\n",
    "        if 'K' in sample_size:\n",
    "            sample_size = sample_size.replace('K', '000')\n",
    "        stats['sample_size'].append(int(sample_size))\n",
    "                \n",
    "        break"
   ]
  },
  {
   "cell_type": "code",
   "execution_count": 4,
   "id": "47c6c56f",
   "metadata": {},
   "outputs": [
    {
     "data": {
      "application/vnd.jupyter.widget-view+json": {
       "model_id": "9aa8f3bef4d643eeb669330149b74c1c",
       "version_major": 2,
       "version_minor": 0
      },
      "text/plain": [
       "  0%|          | 0/437 [00:00<?, ?it/s]"
      ]
     },
     "metadata": {},
     "output_type": "display_data"
    },
    {
     "name": "stdout",
     "output_type": "stream",
     "text": [
      "76af2b6c854b4faa911db542 The file lock '/home/hkhachatrian/mae/.aim/locks/76af2b6c854b4faa911db542.softlock' could not be acquired.\n",
      "0af5734eccbf415e99e664b8 The file lock '/home/hkhachatrian/mae/.aim/locks/0af5734eccbf415e99e664b8.softlock' could not be acquired.\n"
     ]
    },
    {
     "ename": "KeyboardInterrupt",
     "evalue": "",
     "output_type": "error",
     "traceback": [
      "\u001b[0;31m---------------------------------------------------------------------------\u001b[0m",
      "\u001b[0;31mKeyboardInterrupt\u001b[0m                         Traceback (most recent call last)",
      "Cell \u001b[0;32mIn[4], line 6\u001b[0m\n\u001b[1;32m      1\u001b[0m \u001b[38;5;28;01mfor\u001b[39;00m run_hash \u001b[38;5;129;01min\u001b[39;00m tqdm(repo\u001b[38;5;241m.\u001b[39mlist_all_runs()):\n\u001b[1;32m      2\u001b[0m     \u001b[38;5;28;01mtry\u001b[39;00m:\n\u001b[1;32m      3\u001b[0m \u001b[38;5;66;03m#         if run_hash == 'b330b5ed44d34351b4f44f97':\u001b[39;00m\n\u001b[1;32m      4\u001b[0m \u001b[38;5;66;03m#             continue\u001b[39;00m\n\u001b[1;32m      5\u001b[0m \u001b[38;5;66;03m#         print(run_hash)\u001b[39;00m\n\u001b[0;32m----> 6\u001b[0m         run \u001b[38;5;241m=\u001b[39m \u001b[43mRun\u001b[49m\u001b[43m(\u001b[49m\u001b[43mrun_hash\u001b[49m\u001b[43m)\u001b[49m\n\u001b[1;32m      7\u001b[0m \u001b[38;5;66;03m#         if (\"mae_patches\" in run.experiment) or (\"dino_patches\" in run.experiment) or  (\"sup_vit_patches\" in run.experiment):\u001b[39;00m\n\u001b[1;32m      8\u001b[0m \u001b[38;5;66;03m#             process_auc(run)\u001b[39;00m\n\u001b[1;32m      9\u001b[0m     \u001b[38;5;28;01mexcept\u001b[39;00m \u001b[38;5;167;01mException\u001b[39;00m \u001b[38;5;28;01mas\u001b[39;00m e:\n",
      "File \u001b[0;32m~/mae/.venv/lib/python3.10/site-packages/aim/sdk/run.py:823\u001b[0m, in \u001b[0;36mRun.__init__\u001b[0;34m(self, run_hash, repo, read_only, experiment, force_resume, system_tracking_interval, log_system_params, capture_terminal_logs)\u001b[0m\n\u001b[1;32m    815\u001b[0m \u001b[38;5;28;01mdef\u001b[39;00m \u001b[38;5;21m__init__\u001b[39m(\u001b[38;5;28mself\u001b[39m, run_hash: Optional[\u001b[38;5;28mstr\u001b[39m] \u001b[38;5;241m=\u001b[39m \u001b[38;5;28;01mNone\u001b[39;00m, \u001b[38;5;241m*\u001b[39m,\n\u001b[1;32m    816\u001b[0m              repo: Optional[Union[\u001b[38;5;28mstr\u001b[39m, \u001b[38;5;124m'\u001b[39m\u001b[38;5;124mRepo\u001b[39m\u001b[38;5;124m'\u001b[39m]] \u001b[38;5;241m=\u001b[39m \u001b[38;5;28;01mNone\u001b[39;00m,\n\u001b[1;32m    817\u001b[0m              read_only: \u001b[38;5;28mbool\u001b[39m \u001b[38;5;241m=\u001b[39m \u001b[38;5;28;01mFalse\u001b[39;00m,\n\u001b[0;32m   (...)\u001b[0m\n\u001b[1;32m    821\u001b[0m              log_system_params: Optional[\u001b[38;5;28mbool\u001b[39m] \u001b[38;5;241m=\u001b[39m \u001b[38;5;28;01mFalse\u001b[39;00m,\n\u001b[1;32m    822\u001b[0m              capture_terminal_logs: Optional[\u001b[38;5;28mbool\u001b[39m] \u001b[38;5;241m=\u001b[39m \u001b[38;5;28;01mTrue\u001b[39;00m):\n\u001b[0;32m--> 823\u001b[0m     \u001b[38;5;28;43msuper\u001b[39;49m\u001b[43m(\u001b[49m\u001b[43m)\u001b[49m\u001b[38;5;241;43m.\u001b[39;49m\u001b[38;5;21;43m__init__\u001b[39;49m\u001b[43m(\u001b[49m\u001b[43mrun_hash\u001b[49m\u001b[43m,\u001b[49m\u001b[43m \u001b[49m\u001b[43mrepo\u001b[49m\u001b[38;5;241;43m=\u001b[39;49m\u001b[43mrepo\u001b[49m\u001b[43m,\u001b[49m\u001b[43m \u001b[49m\u001b[43mread_only\u001b[49m\u001b[38;5;241;43m=\u001b[39;49m\u001b[43mread_only\u001b[49m\u001b[43m,\u001b[49m\u001b[43m \u001b[49m\u001b[43mexperiment\u001b[49m\u001b[38;5;241;43m=\u001b[39;49m\u001b[43mexperiment\u001b[49m\u001b[43m,\u001b[49m\u001b[43m \u001b[49m\u001b[43mforce_resume\u001b[49m\u001b[38;5;241;43m=\u001b[39;49m\u001b[43mforce_resume\u001b[49m\u001b[43m)\u001b[49m\n\u001b[1;32m    825\u001b[0m     \u001b[38;5;28mself\u001b[39m\u001b[38;5;241m.\u001b[39m_system_resource_tracker: ResourceTracker \u001b[38;5;241m=\u001b[39m \u001b[38;5;28;01mNone\u001b[39;00m\n\u001b[1;32m    826\u001b[0m     \u001b[38;5;28;01mif\u001b[39;00m \u001b[38;5;129;01mnot\u001b[39;00m read_only:\n",
      "File \u001b[0;32m~/mae/.venv/lib/python3.10/site-packages/aim/sdk/run.py:328\u001b[0m, in \u001b[0;36mBasicRun.__init__\u001b[0;34m(self, run_hash, repo, read_only, experiment, force_resume)\u001b[0m\n\u001b[1;32m    325\u001b[0m \u001b[38;5;28;01mif\u001b[39;00m experiment:\n\u001b[1;32m    326\u001b[0m     \u001b[38;5;28mself\u001b[39m\u001b[38;5;241m.\u001b[39mexperiment \u001b[38;5;241m=\u001b[39m experiment\n\u001b[0;32m--> 328\u001b[0m \u001b[38;5;28mself\u001b[39m\u001b[38;5;241m.\u001b[39m_tracker \u001b[38;5;241m=\u001b[39m \u001b[43mRunTracker\u001b[49m\u001b[43m(\u001b[49m\u001b[38;5;28;43mself\u001b[39;49m\u001b[43m)\u001b[49m\n\u001b[1;32m    329\u001b[0m \u001b[38;5;28mself\u001b[39m\u001b[38;5;241m.\u001b[39m_resources \u001b[38;5;241m=\u001b[39m BasicRunAutoClean(\u001b[38;5;28mself\u001b[39m)\n",
      "File \u001b[0;32m~/mae/.venv/lib/python3.10/site-packages/aim/sdk/tracker.py:71\u001b[0m, in \u001b[0;36mRunTracker.__init__\u001b[0;34m(self, run)\u001b[0m\n\u001b[1;32m     69\u001b[0m \u001b[38;5;28mself\u001b[39m\u001b[38;5;241m.\u001b[39mrepo \u001b[38;5;241m=\u001b[39m run\u001b[38;5;241m.\u001b[39mrepo\n\u001b[1;32m     70\u001b[0m \u001b[38;5;28mself\u001b[39m\u001b[38;5;241m.\u001b[39mmeta_run_tree \u001b[38;5;241m=\u001b[39m run\u001b[38;5;241m.\u001b[39mmeta_run_tree\n\u001b[0;32m---> 71\u001b[0m \u001b[38;5;28mself\u001b[39m\u001b[38;5;241m.\u001b[39mseries_run_trees \u001b[38;5;241m=\u001b[39m \u001b[43mrun\u001b[49m\u001b[38;5;241;43m.\u001b[39;49m\u001b[43mseries_run_trees\u001b[49m\n\u001b[1;32m     72\u001b[0m \u001b[38;5;28mself\u001b[39m\u001b[38;5;241m.\u001b[39msequence_infos: Dict[Selector, SequenceInfo] \u001b[38;5;241m=\u001b[39m defaultdict(SequenceInfo)\n\u001b[1;32m     74\u001b[0m \u001b[38;5;28mself\u001b[39m\u001b[38;5;241m.\u001b[39m_preload_sequence_infos()\n",
      "File \u001b[0;32m~/mae/.venv/lib/python3.10/site-packages/aim/sdk/base_run.py:69\u001b[0m, in \u001b[0;36mBaseRun.series_run_trees\u001b[0;34m(self)\u001b[0m\n\u001b[1;32m     66\u001b[0m \u001b[38;5;129m@property\u001b[39m\n\u001b[1;32m     67\u001b[0m \u001b[38;5;28;01mdef\u001b[39;00m \u001b[38;5;21mseries_run_trees\u001b[39m(\u001b[38;5;28mself\u001b[39m) \u001b[38;5;241m-\u001b[39m\u001b[38;5;241m>\u001b[39m Dict[\u001b[38;5;28mint\u001b[39m, TreeView]:\n\u001b[1;32m     68\u001b[0m     \u001b[38;5;28;01mif\u001b[39;00m \u001b[38;5;28mself\u001b[39m\u001b[38;5;241m.\u001b[39m_series_run_trees \u001b[38;5;129;01mis\u001b[39;00m \u001b[38;5;28;01mNone\u001b[39;00m:\n\u001b[0;32m---> 69\u001b[0m         series_tree \u001b[38;5;241m=\u001b[39m \u001b[38;5;28;43mself\u001b[39;49m\u001b[38;5;241;43m.\u001b[39;49m\u001b[43mrepo\u001b[49m\u001b[38;5;241;43m.\u001b[39;49m\u001b[43mrequest_tree\u001b[49m\u001b[43m(\u001b[49m\n\u001b[1;32m     70\u001b[0m \u001b[43m            \u001b[49m\u001b[38;5;124;43m'\u001b[39;49m\u001b[38;5;124;43mseqs\u001b[39;49m\u001b[38;5;124;43m'\u001b[39;49m\u001b[43m,\u001b[49m\u001b[43m \u001b[49m\u001b[38;5;28;43mself\u001b[39;49m\u001b[38;5;241;43m.\u001b[39;49m\u001b[43mhash\u001b[49m\u001b[43m,\u001b[49m\u001b[43m \u001b[49m\u001b[43mread_only\u001b[49m\u001b[38;5;241;43m=\u001b[39;49m\u001b[38;5;28;43mself\u001b[39;49m\u001b[38;5;241;43m.\u001b[39;49m\u001b[43mread_only\u001b[49m\n\u001b[1;32m     71\u001b[0m \u001b[43m        \u001b[49m\u001b[43m)\u001b[49m\u001b[38;5;241m.\u001b[39msubtree(\u001b[38;5;124m'\u001b[39m\u001b[38;5;124mseqs\u001b[39m\u001b[38;5;124m'\u001b[39m)\n\u001b[1;32m     72\u001b[0m         \u001b[38;5;28mself\u001b[39m\u001b[38;5;241m.\u001b[39m_series_run_trees \u001b[38;5;241m=\u001b[39m {}\n\u001b[1;32m     73\u001b[0m         \u001b[38;5;28;01mfor\u001b[39;00m version \u001b[38;5;129;01min\u001b[39;00m STEP_HASH_FUNCTIONS\u001b[38;5;241m.\u001b[39mkeys():\n",
      "File \u001b[0;32m~/mae/.venv/lib/python3.10/site-packages/aim/sdk/repo.py:314\u001b[0m, in \u001b[0;36mRepo.request_tree\u001b[0;34m(self, name, sub, read_only, from_union, no_cache)\u001b[0m\n\u001b[1;32m    304\u001b[0m \u001b[38;5;28;01mdef\u001b[39;00m \u001b[38;5;21mrequest_tree\u001b[39m(\n\u001b[1;32m    305\u001b[0m     \u001b[38;5;28mself\u001b[39m,\n\u001b[1;32m    306\u001b[0m     name: \u001b[38;5;28mstr\u001b[39m,\n\u001b[0;32m   (...)\u001b[0m\n\u001b[1;32m    311\u001b[0m     no_cache: \u001b[38;5;28mbool\u001b[39m \u001b[38;5;241m=\u001b[39m \u001b[38;5;28;01mFalse\u001b[39;00m,\n\u001b[1;32m    312\u001b[0m ):\n\u001b[1;32m    313\u001b[0m     \u001b[38;5;28;01mif\u001b[39;00m \u001b[38;5;129;01mnot\u001b[39;00m \u001b[38;5;28mself\u001b[39m\u001b[38;5;241m.\u001b[39mis_remote_repo:\n\u001b[0;32m--> 314\u001b[0m         \u001b[38;5;28;01mreturn\u001b[39;00m \u001b[38;5;28;43mself\u001b[39;49m\u001b[38;5;241;43m.\u001b[39;49m\u001b[43mrequest\u001b[49m\u001b[43m(\u001b[49m\u001b[43mname\u001b[49m\u001b[43m,\u001b[49m\u001b[43m \u001b[49m\u001b[43msub\u001b[49m\u001b[43m,\u001b[49m\u001b[43m \u001b[49m\u001b[43mread_only\u001b[49m\u001b[38;5;241;43m=\u001b[39;49m\u001b[43mread_only\u001b[49m\u001b[43m,\u001b[49m\u001b[43m \u001b[49m\u001b[43mfrom_union\u001b[49m\u001b[38;5;241;43m=\u001b[39;49m\u001b[43mfrom_union\u001b[49m\u001b[43m,\u001b[49m\u001b[43m \u001b[49m\u001b[43mno_cache\u001b[49m\u001b[38;5;241;43m=\u001b[39;49m\u001b[43mno_cache\u001b[49m\u001b[43m)\u001b[49m\u001b[38;5;241m.\u001b[39mtree()\n\u001b[1;32m    315\u001b[0m     \u001b[38;5;28;01melse\u001b[39;00m:\n\u001b[1;32m    316\u001b[0m         \u001b[38;5;28;01mreturn\u001b[39;00m ProxyTree(\u001b[38;5;28mself\u001b[39m\u001b[38;5;241m.\u001b[39m_client, name, sub, read_only\u001b[38;5;241m=\u001b[39mread_only, from_union\u001b[38;5;241m=\u001b[39mfrom_union, no_cache\u001b[38;5;241m=\u001b[39mno_cache)\n",
      "File \u001b[0;32m~/mae/.venv/lib/python3.10/site-packages/aim/sdk/repo.py:341\u001b[0m, in \u001b[0;36mRepo.request\u001b[0;34m(self, name, sub, read_only, from_union, no_cache)\u001b[0m\n\u001b[1;32m    339\u001b[0m     \u001b[38;5;28;01massert\u001b[39;00m sub \u001b[38;5;129;01mis\u001b[39;00m \u001b[38;5;129;01mnot\u001b[39;00m \u001b[38;5;28;01mNone\u001b[39;00m\n\u001b[1;32m    340\u001b[0m     path \u001b[38;5;241m=\u001b[39m os\u001b[38;5;241m.\u001b[39mpath\u001b[38;5;241m.\u001b[39mjoin(name, \u001b[38;5;124m'\u001b[39m\u001b[38;5;124mchunks\u001b[39m\u001b[38;5;124m'\u001b[39m, sub)\n\u001b[0;32m--> 341\u001b[0m     container \u001b[38;5;241m=\u001b[39m \u001b[38;5;28;43mself\u001b[39;49m\u001b[38;5;241;43m.\u001b[39;49m\u001b[43m_get_container\u001b[49m\u001b[43m(\u001b[49m\u001b[43mpath\u001b[49m\u001b[43m,\u001b[49m\u001b[43m \u001b[49m\u001b[43mread_only\u001b[49m\u001b[38;5;241;43m=\u001b[39;49m\u001b[38;5;28;43;01mFalse\u001b[39;49;00m\u001b[43m,\u001b[49m\u001b[43m \u001b[49m\u001b[43mfrom_union\u001b[49m\u001b[38;5;241;43m=\u001b[39;49m\u001b[38;5;28;43;01mFalse\u001b[39;49;00m\u001b[43m)\u001b[49m\n\u001b[1;32m    343\u001b[0m container_view \u001b[38;5;241m=\u001b[39m container\n\u001b[1;32m    344\u001b[0m \u001b[38;5;28;01mif\u001b[39;00m \u001b[38;5;129;01mnot\u001b[39;00m no_cache:\n",
      "File \u001b[0;32m~/mae/.venv/lib/python3.10/site-packages/aim/sdk/repo.py:279\u001b[0m, in \u001b[0;36mRepo._get_container\u001b[0;34m(self, name, read_only, from_union)\u001b[0m\n\u001b[1;32m    277\u001b[0m         \u001b[38;5;28mself\u001b[39m\u001b[38;5;241m.\u001b[39mpersistent_pool[container_config] \u001b[38;5;241m=\u001b[39m container\n\u001b[1;32m    278\u001b[0m     \u001b[38;5;28;01melse\u001b[39;00m:\n\u001b[0;32m--> 279\u001b[0m         container \u001b[38;5;241m=\u001b[39m \u001b[43mRocksContainer\u001b[49m\u001b[43m(\u001b[49m\u001b[43mpath\u001b[49m\u001b[43m,\u001b[49m\u001b[43m \u001b[49m\u001b[43mread_only\u001b[49m\u001b[38;5;241;43m=\u001b[39;49m\u001b[43mread_only\u001b[49m\u001b[43m)\u001b[49m\n\u001b[1;32m    280\u001b[0m     \u001b[38;5;28mself\u001b[39m\u001b[38;5;241m.\u001b[39mcontainer_pool[container_config] \u001b[38;5;241m=\u001b[39m container\n\u001b[1;32m    282\u001b[0m \u001b[38;5;28;01mreturn\u001b[39;00m container\n",
      "\u001b[0;31mKeyboardInterrupt\u001b[0m: "
     ]
    }
   ],
   "source": [
    "for run_hash in tqdm(repo.list_all_runs()):\n",
    "    try:\n",
    "#         if run_hash == 'b330b5ed44d34351b4f44f97':\n",
    "#             continue\n",
    "#         print(run_hash)\n",
    "        run = Run(run_hash)\n",
    "#         if (\"mae_patches\" in run.experiment) or (\"dino_patches\" in run.experiment) or  (\"sup_vit_patches\" in run.experiment):\n",
    "#             process_auc(run)\n",
    "    except Exception as e:\n",
    "        print(f\"{run_hash}\", e)"
   ]
  },
  {
   "cell_type": "code",
   "execution_count": null,
   "id": "7738d63d",
   "metadata": {},
   "outputs": [],
   "source": [
    "for key in stats:\n",
    "    stats[key] = np.array(stats[key])"
   ]
  },
  {
   "cell_type": "code",
   "execution_count": null,
   "id": "29515654",
   "metadata": {},
   "outputs": [],
   "source": [
    "classes = np.unique(stats['class_name'])"
   ]
  },
  {
   "cell_type": "code",
   "execution_count": null,
   "id": "9f97176b",
   "metadata": {},
   "outputs": [],
   "source": [
    "len(classes)"
   ]
  },
  {
   "cell_type": "code",
   "execution_count": null,
   "id": "513045e7",
   "metadata": {},
   "outputs": [],
   "source": [
    "plt.figure(figsize=(10,4))\n",
    "for cls in classes:\n",
    "    mask = (stats['class_name'] == cls) & (stats['model'] == 'mae')\n",
    "    x = stats['sample_size'][mask]\n",
    "    y = stats['auc_max'][mask]\n",
    "    p = np.argsort(x)\n",
    "    plt.plot(x[p], y[p], label=cls)\n",
    "plt.xscale('log')\n",
    "plt.xlim(80, 40000)\n",
    "plt.legend()\n"
   ]
  },
  {
   "cell_type": "code",
   "execution_count": null,
   "id": "b574c636",
   "metadata": {},
   "outputs": [],
   "source": [
    "  mask = stats['auc_max'] - stats['auc_max_50'] > 0.05"
   ]
  },
  {
   "cell_type": "code",
   "execution_count": null,
   "id": "ac880b9f",
   "metadata": {},
   "outputs": [],
   "source": [
    "stats['class_name'][mask], stats['model'][mask], "
   ]
  },
  {
   "cell_type": "code",
   "execution_count": null,
   "id": "ba9f75c9",
   "metadata": {},
   "outputs": [],
   "source": [
    "mask = stats['sample_size'] == 10000\n",
    "plt.figure()\n",
    "plt.scatter(stats['auc_max_50'], stats['auc_max'])\n",
    "plt.plot([0.6,1.0],[0.6,1.0])"
   ]
  },
  {
   "cell_type": "code",
   "execution_count": null,
   "id": "bf65973e",
   "metadata": {},
   "outputs": [],
   "source": [
    "mask = stats['sample_size'] == 10000\n",
    "stats['model'][mask]"
   ]
  },
  {
   "cell_type": "code",
   "execution_count": null,
   "id": "e1efc187",
   "metadata": {},
   "outputs": [],
   "source": [
    "plt.figure(figsize=(8,6))\n",
    "for model in ['mae', 'dino', 'sup']:\n",
    "    mask = (stats['model'] == model) & (stats['sample_size'] == 10000)\n",
    "    plt.barh(\n",
    "        stats['class_name'][mask], \n",
    "        stats['auc_max'][mask],\n",
    "        label=model,\n",
    "        alpha=0.5\n",
    "    )\n",
    "    \n",
    "# plt.xscale('log')\n",
    "# plt.xlim(80, 40000)\n",
    "plt.legend()\n"
   ]
  },
  {
   "cell_type": "code",
   "execution_count": null,
   "id": "5c766795",
   "metadata": {},
   "outputs": [],
   "source": [
    "plt.figure(figsize=(18,8))\n",
    "for sample_size in [100, 10000]:\n",
    "    mask = (stats['model'] == 'sup') & (stats['sample_size'] == sample_size)\n",
    "    plt.barh(\n",
    "        stats['class_name'][mask], \n",
    "        stats['auc_max'][mask],\n",
    "        label=sample_size,\n",
    "        alpha=0.5\n",
    "    )\n",
    "    \n",
    "# plt.xscale('log')\n",
    "# plt.xlim(80, 40000)\n",
    "plt.title('SUP AUC for different patch sizes')\n",
    "plt.legend()"
   ]
  },
  {
   "cell_type": "code",
   "execution_count": null,
   "id": "85f03086",
   "metadata": {},
   "outputs": [],
   "source": [
    "stats['model']"
   ]
  },
  {
   "cell_type": "code",
   "execution_count": null,
   "id": "33fad1ba",
   "metadata": {},
   "outputs": [],
   "source": [
    "def plot_diff(sample_size):\n",
    "    plt.figure(figsize=(8,6))\n",
    "    xs = []\n",
    "    ys = []\n",
    "    for cls in classes:\n",
    "        mask = {model: (stats['class_name'] == cls) & (stats['model'] == model) & (stats['sample_size'] == sample_size) for model in ['mae', 'dino', 'sup']}\n",
    "        if mask['mae'].sum() == 0 or mask['dino'].sum() == 0  or mask['sup'].sum() == 0:\n",
    "            continue\n",
    "\n",
    "        xs.append(cls)\n",
    "        diff = stats['auc_max'][mask['mae']][0] - stats['auc_max'][mask['sup']][0]\n",
    "        ys.append(diff)\n",
    "\n",
    "    xs = np.array(xs)\n",
    "    ys = np.array(ys)\n",
    "    s = np.argsort(ys)\n",
    "    plt.barh(\n",
    "        xs[s], ys[s],\n",
    "    )\n",
    "\n",
    "    # plt.xscale('log')\n",
    "    # plt.xlim(80, 40000)\n",
    "#     plt.legend()\n",
    "    plt.title(f\"AUC difference between MAE and SUP_VIT ({sample_size} samples)\")\n"
   ]
  },
  {
   "cell_type": "code",
   "execution_count": null,
   "id": "28d06ef8",
   "metadata": {},
   "outputs": [],
   "source": [
    "plot_diff(100)"
   ]
  },
  {
   "cell_type": "code",
   "execution_count": null,
   "id": "bb13c527",
   "metadata": {},
   "outputs": [],
   "source": [
    "plot_diff(10000)"
   ]
  },
  {
   "cell_type": "code",
   "execution_count": null,
   "id": "4bbcda18",
   "metadata": {},
   "outputs": [],
   "source": [
    "stats"
   ]
  },
  {
   "cell_type": "code",
   "execution_count": null,
   "id": "1a16382a",
   "metadata": {},
   "outputs": [],
   "source": [
    "val_losses={}\n",
    "\n",
    "\n",
    "for run_hash in tqdm(repo.list_active_runs()):\n",
    "    try:\n",
    "#         print(run_hash)\n",
    "        run = Run(run_hash)\n",
    "        if (\"cs_256_mae_bilinear_upsampling\" in run.experiment):\n",
    "            for metric in run.metrics():\n",
    "                if metric.name == 'val_loss':\n",
    "                     print(metric.name)\n",
    "                    val_losses[run.experiment] = metric.data\n",
    "    except Exception as e:\n",
    "        print(f\"{run_hash}\", e)\n",
    "        "
   ]
  },
  {
   "cell_type": "code",
   "execution_count": null,
   "id": "58d6270a",
   "metadata": {},
   "outputs": [],
   "source": [
    "repo.list_active_runs()"
   ]
  },
  {
   "cell_type": "code",
   "execution_count": null,
   "id": "6c10e8c0",
   "metadata": {},
   "outputs": [],
   "source": [
    "run = Run('7ac78c9f263445b085170f94')"
   ]
  },
  {
   "cell_type": "code",
   "execution_count": 6,
   "id": "176ec691",
   "metadata": {},
   "outputs": [],
   "source": [
    "import os"
   ]
  },
  {
   "cell_type": "code",
   "execution_count": 12,
   "id": "eca2a796",
   "metadata": {},
   "outputs": [
    {
     "data": {
      "text/plain": [
       "0"
      ]
     },
     "execution_count": 12,
     "metadata": {},
     "output_type": "execute_result"
    }
   ],
   "source": [
    "len(os.listdir('/home/hkhachatrian/mae/.aim/meta/locks/'))"
   ]
  },
  {
   "cell_type": "code",
   "execution_count": 11,
   "id": "976807c1",
   "metadata": {},
   "outputs": [
    {
     "data": {
      "text/plain": [
       "438"
      ]
     },
     "execution_count": 11,
     "metadata": {},
     "output_type": "execute_result"
    }
   ],
   "source": [
    "len(os.listdir('/home/hkhachatrian/mae/.aim/seqs/progress/'))"
   ]
  },
  {
   "cell_type": "code",
   "execution_count": null,
   "id": "d5bb1f08",
   "metadata": {},
   "outputs": [],
   "source": []
  }
 ],
 "metadata": {
  "kernelspec": {
   "display_name": "mae",
   "language": "python",
   "name": "mae"
  },
  "language_info": {
   "codemirror_mode": {
    "name": "ipython",
    "version": 3
   },
   "file_extension": ".py",
   "mimetype": "text/x-python",
   "name": "python",
   "nbconvert_exporter": "python",
   "pygments_lexer": "ipython3",
   "version": "3.10.9"
  }
 },
 "nbformat": 4,
 "nbformat_minor": 5
}
