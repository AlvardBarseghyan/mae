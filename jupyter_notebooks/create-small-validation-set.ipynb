{
 "cells": [
  {
   "cell_type": "code",
   "execution_count": 1,
   "id": "1272a387",
   "metadata": {},
   "outputs": [],
   "source": [
    "import os\n",
    "import torch\n",
    "import numpy as np\n",
    "import matplotlib.pyplot as plt"
   ]
  },
  {
   "cell_type": "code",
   "execution_count": 2,
   "id": "547188be",
   "metadata": {},
   "outputs": [
    {
     "name": "stdout",
     "output_type": "stream",
     "text": [
      "CPU times: user 1.03 ms, sys: 7.18 s, total: 7.18 s\n",
      "Wall time: 7.2 s\n"
     ]
    }
   ],
   "source": [
    "%%time\n",
    "# embeds = np.load('/mnt/lwll/lwll-coral/hrant/cs_patches_256/embeds_val.npy', allow_pickle=True)\n",
    "# embeds = np.load('/mnt/lwll/lwll-coral/hrant/cs_patches_256/dino_embeds_val.npy', allow_pickle=True)\n",
    "embeds = np.load('/mnt/lwll/lwll-coral/hrant/cs_patches_256/sup_vit_embeds_val.npy', allow_pickle=True)"
   ]
  },
  {
   "cell_type": "code",
   "execution_count": 3,
   "id": "29d2e902",
   "metadata": {
    "scrolled": true
   },
   "outputs": [
    {
     "name": "stdout",
     "output_type": "stream",
     "text": [
      "CPU times: user 431 µs, sys: 6.11 ms, total: 6.54 ms\n",
      "Wall time: 5.01 ms\n"
     ]
    }
   ],
   "source": [
    "%%time\n",
    "# labels = np.load('/mnt/lwll/lwll-coral/hrant/cs_patches_256/labels_val.npy', allow_pickle=True)\n",
    "# labels = np.load('/mnt/lwll/lwll-coral/hrant/cs_patches_256/dino_labels_val.npy', allow_pickle=True)\n",
    "labels = np.load('/mnt/lwll/lwll-coral/hrant/cs_patches_256/sup_vit_labels_val.npy', allow_pickle=True)"
   ]
  },
  {
   "cell_type": "code",
   "execution_count": 4,
   "id": "55c3093e",
   "metadata": {},
   "outputs": [
    {
     "data": {
      "text/plain": [
       "((3136000, 1024), (3136000,))"
      ]
     },
     "execution_count": 4,
     "metadata": {},
     "output_type": "execute_result"
    }
   ],
   "source": [
    "embeds.shape, labels.shape"
   ]
  },
  {
   "cell_type": "code",
   "execution_count": 5,
   "id": "d37725e2",
   "metadata": {},
   "outputs": [],
   "source": [
    "uniques, counts = np.unique(labels, return_counts=True)"
   ]
  },
  {
   "cell_type": "code",
   "execution_count": 6,
   "id": "5b9febf3",
   "metadata": {},
   "outputs": [
    {
     "data": {
      "text/plain": [
       "array([   1137,  165438,   70488,   47318,   13385,   56267, 1035003,\n",
       "        150214,   12555,    1893,  608979,   20274,   22794,     122,\n",
       "           933,   40555,     220,    5419,   18225,  481091,   23127,\n",
       "         93918,   35825,    5952,  180164,    8307,   10717,     164,\n",
       "           624,    3105,    2198,   19589])"
      ]
     },
     "execution_count": 6,
     "metadata": {},
     "output_type": "execute_result"
    }
   ],
   "source": [
    "counts"
   ]
  },
  {
   "cell_type": "code",
   "execution_count": 7,
   "id": "21676e32",
   "metadata": {},
   "outputs": [],
   "source": [
    "with open('preprocessing/labels.txt') as f:\n",
    "    tmp_labels = {\n",
    "        int(line[22:25].strip()):\n",
    "        (line[:22].strip().replace(\"'\", \"\"), \n",
    "         int(line[25:].strip()))\n",
    "        for line in f.readlines()\n",
    "    }\n",
    "\n",
    "eval_labels = np.array([i for i in tmp_labels if 0 <= tmp_labels[i][1] < 255])\n",
    "\n",
    "eval_label_names = [tmp_labels[i][0] for i in tmp_labels if 0 <= tmp_labels[i][1] < 255]"
   ]
  },
  {
   "cell_type": "code",
   "execution_count": 8,
   "id": "147a3fb8",
   "metadata": {},
   "outputs": [],
   "source": [
    "class_counts = {}\n",
    "for class_id, count in zip(uniques, counts):\n",
    "    if class_id in eval_labels:\n",
    "        class_counts[class_id] = count"
   ]
  },
  {
   "cell_type": "code",
   "execution_count": 9,
   "id": "0e4eb252",
   "metadata": {},
   "outputs": [
    {
     "data": {
      "text/plain": [
       "38000"
      ]
     },
     "execution_count": 9,
     "metadata": {},
     "output_type": "execute_result"
    }
   ],
   "source": [
    "len(class_counts) * 2000"
   ]
  },
  {
   "cell_type": "code",
   "execution_count": 10,
   "id": "7d3a3d43",
   "metadata": {},
   "outputs": [
    {
     "data": {
      "text/plain": [
       "array([ 7,  8, 11, 12, 13, 17, 19, 20, 21, 22, 23, 24, 25, 26, 27, 28, 31,\n",
       "       32, 33])"
      ]
     },
     "execution_count": 10,
     "metadata": {},
     "output_type": "execute_result"
    }
   ],
   "source": [
    "eval_labels"
   ]
  },
  {
   "cell_type": "code",
   "execution_count": 11,
   "id": "b300cc23",
   "metadata": {},
   "outputs": [],
   "source": [
    "subset_embeds = []\n",
    "subset_labels = []\n",
    "for class_id in eval_labels:\n",
    "    ids = np.where(labels == class_id)[0]\n",
    "    np.random.shuffle(ids)\n",
    "    ids = ids[:2000]\n",
    "    \n",
    "    subset_embeds.append(embeds[ids])\n",
    "    subset_labels.append(labels[ids])\n",
    "    "
   ]
  },
  {
   "cell_type": "code",
   "execution_count": 12,
   "id": "de885685",
   "metadata": {},
   "outputs": [],
   "source": [
    "subset_embeds = np.concatenate(subset_embeds)"
   ]
  },
  {
   "cell_type": "code",
   "execution_count": 13,
   "id": "0fc6199b",
   "metadata": {},
   "outputs": [
    {
     "data": {
      "text/plain": [
       "(38000, 1024)"
      ]
     },
     "execution_count": 13,
     "metadata": {},
     "output_type": "execute_result"
    }
   ],
   "source": [
    "subset_embeds.shape"
   ]
  },
  {
   "cell_type": "code",
   "execution_count": 14,
   "id": "33f48641",
   "metadata": {},
   "outputs": [],
   "source": [
    "subset_labels = np.concatenate(subset_labels)"
   ]
  },
  {
   "cell_type": "code",
   "execution_count": 15,
   "id": "02b1e371",
   "metadata": {},
   "outputs": [
    {
     "data": {
      "text/plain": [
       "(38000,)"
      ]
     },
     "execution_count": 15,
     "metadata": {},
     "output_type": "execute_result"
    }
   ],
   "source": [
    "subset_labels.shape"
   ]
  },
  {
   "cell_type": "code",
   "execution_count": 16,
   "id": "e537f184",
   "metadata": {},
   "outputs": [],
   "source": [
    "# np.save('/mnt/lwll/lwll-coral/hrant/cs_patches_256/embeds_val_2000.npy', subset_embeds)\n",
    "np.save('/mnt/lwll/lwll-coral/hrant/cs_patches_256/sup_vit_embeds_val_2000.npy', subset_embeds)"
   ]
  },
  {
   "cell_type": "code",
   "execution_count": 17,
   "id": "46328379",
   "metadata": {},
   "outputs": [],
   "source": [
    "# np.save('/mnt/lwll/lwll-coral/hrant/cs_patches_256/labels_val_2000.npy', subset_labels)\n",
    "np.save('/mnt/lwll/lwll-coral/hrant/cs_patches_256/sup_vit_labels_val_2000.npy', subset_labels)"
   ]
  },
  {
   "cell_type": "code",
   "execution_count": null,
   "id": "90535182",
   "metadata": {},
   "outputs": [],
   "source": []
  }
 ],
 "metadata": {
  "kernelspec": {
   "display_name": "mae",
   "language": "python",
   "name": "mae"
  },
  "language_info": {
   "codemirror_mode": {
    "name": "ipython",
    "version": 3
   },
   "file_extension": ".py",
   "mimetype": "text/x-python",
   "name": "python",
   "nbconvert_exporter": "python",
   "pygments_lexer": "ipython3",
   "version": "3.10.9"
  }
 },
 "nbformat": 4,
 "nbformat_minor": 5
}
