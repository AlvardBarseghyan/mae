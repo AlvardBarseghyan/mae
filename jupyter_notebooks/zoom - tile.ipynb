{
 "cells": [
  {
   "cell_type": "code",
   "execution_count": 1,
   "id": "0e376e24",
   "metadata": {},
   "outputs": [],
   "source": [
    "import json, cv2, os\n",
    "from collections import Counter\n",
    "import numpy as np\n",
    "from tqdm.notebook import tqdm\n",
    "\n",
    "from matplotlib import pyplot as plt"
   ]
  },
  {
   "cell_type": "code",
   "execution_count": 27,
   "id": "923039e1",
   "metadata": {},
   "outputs": [],
   "source": [
    "# dataset_json = '/home/hkhachatrian/mae/annotations/few_shot_visdrone_vis_drone_train_inter_internearestexact_patch_16.npy'\n",
    "\n",
    "# dataset_json = '/home/hkhachatrian/mae/annotations/few_shot_visdrone_val_vis_drone_val_inter_internearestexact_patch_16.npy'\n",
    "\n",
    "dataset_json = '/home/hkhachatrian/mae/annotations/cs/cs_train_2.npy'\n",
    "# dataset_json = '/home/hkhachatrian/mae/annotations/cs_val.npy'"
   ]
  },
  {
   "cell_type": "code",
   "execution_count": 28,
   "id": "3efe3840",
   "metadata": {},
   "outputs": [],
   "source": [
    "# target_path = '/mnt/lwll/lwll-coral/hrant/vis_drone_200/train/'\n",
    "# target_path = '/mnt/lwll/lwll-coral/hrant/vis_drone_200/val/'\n",
    "\n",
    "# target_path = '/mnt/lwll/lwll-coral/hrant/cs4pc_200/train/'\n",
    "# target_path = '/mnt/lwll/lwll-coral/hrant/cs4pc_200/val/'\n",
    "\n",
    "# target_path = '/mnt/lwll/lwll-coral/hrant/cs4pc_400/train/'\n",
    "# target_path = '/mnt/lwll/lwll-coral/hrant/cs4pc_400/val/'\n",
    "\n",
    "target_path = '/mnt/lwll/lwll-coral/hrant/vision/images/cs/cs4pc_256_2/train/'\n",
    "# target_path = '/mnt/lwll/lwll-coral/hrant/cs4pc_256/val/'\n",
    "\n",
    "# target_path = '/mnt/lwll/lwll-coral/hrant/cs4pc_512/train/'\n",
    "# target_path = '/mnt/lwll/lwll-coral/hrant/cs4pc_512/val/'\n",
    "\n",
    "# target_path = '/mnt/lwll/lwll-coral/hrant/cs4pc_128/train/'\n",
    "# target_path = '/mnt/lwll/lwll-coral/hrant/cs4pc_128/val/'\n",
    "os.makedirs(target_path, exist_ok=True)"
   ]
  },
  {
   "cell_type": "code",
   "execution_count": 29,
   "id": "647cb0fd",
   "metadata": {},
   "outputs": [
    {
     "name": "stdout",
     "output_type": "stream",
     "text": [
      "CPU times: user 29.2 ms, sys: 122 ms, total: 151 ms\n",
      "Wall time: 563 ms\n"
     ]
    }
   ],
   "source": [
    "%%time\n",
    "dataset = np.load(dataset_json, allow_pickle=True).item()"
   ]
  },
  {
   "cell_type": "code",
   "execution_count": 30,
   "id": "85ffd713",
   "metadata": {},
   "outputs": [],
   "source": [
    "target_size = 256"
   ]
  },
  {
   "cell_type": "code",
   "execution_count": 20,
   "id": "c7565567",
   "metadata": {},
   "outputs": [
    {
     "data": {
      "text/plain": [
       "dict_keys(['images', 'annotations', 'categories'])"
      ]
     },
     "execution_count": 20,
     "metadata": {},
     "output_type": "execute_result"
    }
   ],
   "source": [
    "dataset.keys()"
   ]
  },
  {
   "cell_type": "code",
   "execution_count": 21,
   "id": "141ff016",
   "metadata": {},
   "outputs": [
    {
     "data": {
      "text/plain": [
       "dict_keys(['file_name', 'height', 'width', 'id', 'black_image', 'patch_labels'])"
      ]
     },
     "execution_count": 21,
     "metadata": {},
     "output_type": "execute_result"
    }
   ],
   "source": [
    "dataset['images'][0].keys()"
   ]
  },
  {
   "cell_type": "code",
   "execution_count": 22,
   "id": "80c423b7",
   "metadata": {},
   "outputs": [
    {
     "data": {
      "text/plain": [
       "'/mnt/lwll/lwll-coral/hrant/vision/images/cs/full_ds/train/krefeld/krefeld_000000_011655_leftImg8bit.png'"
      ]
     },
     "execution_count": 22,
     "metadata": {},
     "output_type": "execute_result"
    }
   ],
   "source": [
    "dataset['images'][0]['file_name']"
   ]
  },
  {
   "cell_type": "code",
   "execution_count": 23,
   "id": "784554ff",
   "metadata": {},
   "outputs": [
    {
     "data": {
      "text/plain": [
       "dtype('uint8')"
      ]
     },
     "execution_count": 23,
     "metadata": {},
     "output_type": "execute_result"
    }
   ],
   "source": [
    "dataset['images'][0]['patch_labels'].dtype"
   ]
  },
  {
   "cell_type": "code",
   "execution_count": 31,
   "id": "42879065",
   "metadata": {},
   "outputs": [
    {
     "data": {
      "application/vnd.jupyter.widget-view+json": {
       "model_id": "8ae5d34aa9854299a590d37d956f5fc2",
       "version_major": 2,
       "version_minor": 0
      },
      "text/plain": [
       "  0%|          | 0/36 [00:00<?, ?it/s]"
      ]
     },
     "metadata": {},
     "output_type": "display_data"
    }
   ],
   "source": [
    "tiled_dataset = {\n",
    "    'images': [],\n",
    "    'categories': dataset['categories']\n",
    "}\n",
    "\n",
    "for image in tqdm(dataset['images'][:]):\n",
    "    height, width = image['height'], image['width']\n",
    "    file_name_split = image['file_name'].split('/')[-1].split('.')\n",
    "    # print(file_name_split)\n",
    "    name = '.'.join(file_name_split[:-1])\n",
    "    extension = file_name_split[-1]\n",
    "    \n",
    "    y_count = int(np.ceil(height / target_size))\n",
    "    x_count = int(np.ceil(width / target_size))\n",
    "    \n",
    "    img = cv2.imread(image['file_name'])\n",
    "    img_pad = np.zeros((y_count * target_size, x_count * target_size, img.shape[2]), np.uint8)\n",
    "    img_pad[:height, :width] = img\n",
    "    \n",
    "    mask_pad = np.zeros((y_count * target_size, x_count * target_size), np.uint8)\n",
    "    mask_pad[:height, :width] = image['black_image']\n",
    "    \n",
    "    for y in range(y_count):\n",
    "        for x in range(x_count):\n",
    "            tile = img_pad[y * target_size : (y+1) * target_size, x * target_size : (x+1) * target_size]\n",
    "            tile_name = os.path.join(target_path, f\"{name}.{target_size}_{y}_{x}.{extension}\")\n",
    "            \n",
    "            cv2.imwrite(tile_name, tile)\n",
    "            \n",
    "            tile_black_image = mask_pad[y * target_size : (y+1) * target_size, x * target_size : (x+1) * target_size]\n",
    "            \n",
    "            tile_patch_labels = cv2.resize(tile_black_image, (14,14), interpolation=cv2.INTER_NEAREST_EXACT).flatten() #.float()\n",
    "            \n",
    "            tiled_dataset['images'].append({\n",
    "                'file_name': tile_name,\n",
    "                'height': target_size,\n",
    "                'width': target_size,\n",
    "                'id': image['id'], # if we need annotations, this has to be fixed\n",
    "                'black_image': tile_black_image,\n",
    "                'patch_labels': tile_patch_labels\n",
    "            })"
   ]
  },
  {
   "cell_type": "code",
   "execution_count": 32,
   "id": "283abe50",
   "metadata": {},
   "outputs": [
    {
     "data": {
      "text/plain": [
       "1152"
      ]
     },
     "execution_count": 32,
     "metadata": {},
     "output_type": "execute_result"
    }
   ],
   "source": [
    "len(tiled_dataset['images'])"
   ]
  },
  {
   "cell_type": "code",
   "execution_count": null,
   "id": "ee98285f",
   "metadata": {},
   "outputs": [],
   "source": [
    "# np.save(\"/home/hkhachatrian/mae/annotations/vis_drone_200_train_patch_16.npy\", tiled_dataset)"
   ]
  },
  {
   "cell_type": "code",
   "execution_count": null,
   "id": "98c6e35b",
   "metadata": {},
   "outputs": [],
   "source": [
    "# np.save(\"/home/hkhachatrian/mae/annotations/vis_drone_200_val_patch_16.npy\", tiled_dataset)"
   ]
  },
  {
   "cell_type": "code",
   "execution_count": null,
   "id": "dda3dbd6",
   "metadata": {},
   "outputs": [],
   "source": [
    "# np.save(\"/home/hkhachatrian/mae/annotations/cs4pc_200_val.npy\", tiled_dataset)"
   ]
  },
  {
   "cell_type": "code",
   "execution_count": null,
   "id": "405948b9",
   "metadata": {},
   "outputs": [],
   "source": [
    "# np.save(\"/home/hkhachatrian/mae/annotations/cs4pc_200_train.npy\", tiled_dataset)"
   ]
  },
  {
   "cell_type": "code",
   "execution_count": null,
   "id": "300734c1",
   "metadata": {},
   "outputs": [],
   "source": [
    "# np.save(\"/home/hkhachatrian/mae/annotations/cs4pc_400_train.npy\", tiled_dataset)"
   ]
  },
  {
   "cell_type": "code",
   "execution_count": null,
   "id": "6853b899",
   "metadata": {},
   "outputs": [],
   "source": [
    "# np.save(\"/home/hkhachatrian/mae/annotations/cs4pc_400_val.npy\", tiled_dataset)"
   ]
  },
  {
   "cell_type": "code",
   "execution_count": 33,
   "id": "0cb0800d",
   "metadata": {},
   "outputs": [],
   "source": [
    "np.save(\"/home/hkhachatrian/mae/annotations/cs/cs4pc_256_train_2.npy\", tiled_dataset)\n",
    "# np.save(\"/home/hkhachatrian/mae/annotations/cs4pc_256_val.npy\", tiled_dataset)"
   ]
  },
  {
   "cell_type": "code",
   "execution_count": 33,
   "id": "6fe65fd4",
   "metadata": {},
   "outputs": [],
   "source": [
    "# np.save(\"/home/hkhachatrian/mae/annotations/cs4pc_512_train.npy\", tiled_dataset)\n",
    "# np.save(\"/home/hkhachatrian/mae/annotations/cs4pc_512_val.npy\", tiled_dataset)"
   ]
  },
  {
   "cell_type": "code",
   "execution_count": 46,
   "id": "a80ba4a6",
   "metadata": {},
   "outputs": [],
   "source": [
    "# np.save(\"/home/hkhachatrian/mae/annotations/cs4pc_128_train.npy\", tiled_dataset)\n",
    "np.save(\"/home/hkhachatrian/mae/annotations/cs4pc_128_val.npy\", tiled_dataset)"
   ]
  },
  {
   "cell_type": "code",
   "execution_count": 23,
   "id": "6d8b2068",
   "metadata": {},
   "outputs": [],
   "source": [
    "import numpy as np\n",
    "import matplotlib.pyplot as plt\n",
    "\n",
    "from torch import nn\n",
    "import torch"
   ]
  },
  {
   "cell_type": "code",
   "execution_count": 3,
   "id": "24e7ebd9",
   "metadata": {},
   "outputs": [],
   "source": [
    "df = np.load(\"/home/hkhachatrian/mae/annotations/cs4pc_256_train.npy\", allow_pickle=True).item()"
   ]
  },
  {
   "cell_type": "code",
   "execution_count": 32,
   "id": "301a1181",
   "metadata": {},
   "outputs": [
    {
     "data": {
      "text/plain": [
       "2304"
      ]
     },
     "execution_count": 32,
     "metadata": {},
     "output_type": "execute_result"
    }
   ],
   "source": [
    "len(df['images'])"
   ]
  },
  {
   "cell_type": "code",
   "execution_count": 5,
   "id": "0d2cb70c",
   "metadata": {},
   "outputs": [
    {
     "data": {
      "text/plain": [
       "dict_keys(['images', 'categories'])"
      ]
     },
     "execution_count": 5,
     "metadata": {},
     "output_type": "execute_result"
    }
   ],
   "source": [
    "df.keys()"
   ]
  },
  {
   "cell_type": "code",
   "execution_count": 7,
   "id": "eff85593",
   "metadata": {},
   "outputs": [
    {
     "data": {
      "text/plain": [
       "dict_keys(['file_name', 'height', 'width', 'id', 'black_image', 'patch_labels'])"
      ]
     },
     "execution_count": 7,
     "metadata": {},
     "output_type": "execute_result"
    }
   ],
   "source": [
    "df['images'][0].keys()"
   ]
  },
  {
   "cell_type": "code",
   "execution_count": 11,
   "id": "400eb416",
   "metadata": {},
   "outputs": [
    {
     "data": {
      "image/png": "[encoded data removed]",
      "text/plain": [
       "<Figure size 640x480 with 1 Axes>"
      ]
     },
     "metadata": {},
     "output_type": "display_data"
    }
   ],
   "source": [
    "plt.imshow(df['images'][0]['black_image']);"
   ]
  },
  {
   "cell_type": "code",
   "execution_count": 14,
   "id": "ce57b9f9",
   "metadata": {},
   "outputs": [],
   "source": [
    "import cv2"
   ]
  },
  {
   "cell_type": "code",
   "execution_count": 40,
   "id": "adaa023f",
   "metadata": {},
   "outputs": [],
   "source": [
    "tile_patch_labels = cv2.resize(df['images'][0]['black_image'], (56, 56), interpolation=cv2.INTER_NEAREST_EXACT)"
   ]
  },
  {
   "cell_type": "code",
   "execution_count": 16,
   "id": "66589a01",
   "metadata": {},
   "outputs": [
    {
     "data": {
      "text/plain": [
       "<matplotlib.image.AxesImage at 0x7f1634839e40>"
      ]
     },
     "execution_count": 16,
     "metadata": {},
     "output_type": "execute_result"
    },
    {
     "data": {
      "image/png": "[encoded data removed]",
      "text/plain": [
       "<Figure size 640x480 with 1 Axes>"
      ]
     },
     "metadata": {},
     "output_type": "display_data"
    }
   ],
   "source": [
    "plt.imshow(tile_patch_labels)"
   ]
  },
  {
   "cell_type": "code",
   "execution_count": 42,
   "id": "de8f352a",
   "metadata": {},
   "outputs": [
    {
     "data": {
      "text/plain": [
       "(56, 56)"
      ]
     },
     "execution_count": 42,
     "metadata": {},
     "output_type": "execute_result"
    }
   ],
   "source": [
    "tile_patch_labels."
   ]
  },
  {
   "cell_type": "code",
   "execution_count": 41,
   "id": "11972955",
   "metadata": {},
   "outputs": [
    {
     "name": "stdout",
     "output_type": "stream",
     "text": [
      "torch.Size([1, 1, 14, 14])\n",
      "torch.Size([56, 56])\n"
     ]
    },
    {
     "data": {
      "image/png": "[encoded data removed]",
      "text/plain": [
       "<Figure size 640x480 with 2 Axes>"
      ]
     },
     "metadata": {},
     "output_type": "display_data"
    }
   ],
   "source": [
    "x = nn.Upsample(scale_factor=(4, 4), mode='bilinear', align_corners=False)\n",
    "img = torch.tensor(df['images'][0]['patch_labels'].reshape(14, 14)).unsqueeze(0).unsqueeze(0).to(float)\n",
    "print(img.shape)\n",
    "\n",
    "img = x(img)\n",
    "img = img.squeeze(0).squeeze(0)\n",
    "# img = img.permute(0, 2, 3, 1)\n",
    "\n",
    "print(img.shape)\n",
    "\n",
    "fig, axes = plt.subplots(ncols=2, nrows=1)\n",
    "axes[0].imshow(img);\n",
    "axes[1].imshow(tile_patch_labels);"
   ]
  },
  {
   "cell_type": "code",
   "execution_count": 19,
   "id": "a02d0e56",
   "metadata": {},
   "outputs": [
    {
     "data": {
      "text/plain": [
       "<matplotlib.image.AxesImage at 0x7f162a4144f0>"
      ]
     },
     "execution_count": 19,
     "metadata": {},
     "output_type": "execute_result"
    },
    {
     "data": {
      "image/png": "[encoded data removed]",
      "text/plain": [
       "<Figure size 640x480 with 1 Axes>"
      ]
     },
     "metadata": {},
     "output_type": "display_data"
    }
   ],
   "source": [
    "tile_patch_labels = cv2.resize(df['images'][0]['patch_labels'].reshape(14, 14), (56, 56), interpolation=cv2.INTER_NEAREST_EXACT)\n",
    "plt.imshow(tile_patch_labels)"
   ]
  },
  {
   "cell_type": "code",
   "execution_count": 12,
   "id": "ffcd96df",
   "metadata": {},
   "outputs": [
    {
     "data": {
      "image/png": "[encoded data removed]",
      "text/plain": [
       "<Figure size 640x480 with 1 Axes>"
      ]
     },
     "metadata": {},
     "output_type": "display_data"
    }
   ],
   "source": [
    "plt.imshow(df['images'][0]['patch_labels'].reshape(14, 14));"
   ]
  },
  {
   "cell_type": "code",
   "execution_count": null,
   "id": "960cab79",
   "metadata": {},
   "outputs": [],
   "source": []
  }
 ],
 "metadata": {
  "kernelspec": {
   "display_name": "mae",
   "language": "python",
   "name": "mae"
  },
  "language_info": {
   "codemirror_mode": {
    "name": "ipython",
    "version": 3
   },
   "file_extension": ".py",
   "mimetype": "text/x-python",
   "name": "python",
   "nbconvert_exporter": "python",
   "pygments_lexer": "ipython3",
   "version": "3.10.9"
  }
 },
 "nbformat": 4,
 "nbformat_minor": 5
}
