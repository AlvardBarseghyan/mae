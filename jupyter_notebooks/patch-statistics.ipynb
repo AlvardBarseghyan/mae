{
 "cells": [
  {
   "cell_type": "code",
   "execution_count": 2,
   "id": "cd840bc0",
   "metadata": {},
   "outputs": [],
   "source": [
    "import json\n",
    "from collections import Counter\n",
    "import numpy as np\n",
    "from tqdm.notebook import tqdm\n",
    "from matplotlib import pyplot as plt"
   ]
  },
  {
   "cell_type": "code",
   "execution_count": 2,
   "id": "283d5b6c",
   "metadata": {},
   "outputs": [],
   "source": [
    "# FAIR1M 8-shot\n",
    "train_json = '/home/barseghyan/Projects/mae/annotations/few_shot_8_fair1m_train_thresh_0.3_patch_16.json'\n",
    "val_json = '/home/barseghyan/Projects/mae/annotations/few_shot_8_fair1m_val_thresh_0.3_patch_16.json'\n",
    "n_class = 5\n",
    "name = 'FAIR1M 8-shot'"
   ]
  },
  {
   "cell_type": "code",
   "execution_count": 5,
   "id": "7ccbf1ee",
   "metadata": {},
   "outputs": [],
   "source": [
    "# Cityscapes few\n",
    "train_json = '/home/hkhachatrian/mae/annotations/cs4pc_256_train.npy' # cityscapes, one city only\n",
    "val_json = '/home/hkhachatrian/mae/annotations/cs4pc_256_val.npy' # cityscapes, one city only\n",
    "n_class = 35\n",
    "name = 'Cityscapes 72'"
   ]
  },
  {
   "cell_type": "code",
   "execution_count": 58,
   "id": "df50507f",
   "metadata": {},
   "outputs": [],
   "source": [
    "# vis_drone\n",
    "train_json = '/home/hkhachatrian/mae/annotations/few_shot_visdrone_vis_drone_train_inter_internearestexact_patch_16.npy'\n",
    "val_json = '/home/hkhachatrian/mae/annotations/few_shot_visdrone_val_vis_drone_val_inter_internearestexact_patch_16.npy'\n",
    "n_class = 11\n",
    "name = 'VisDrone 8-shot'"
   ]
  },
  {
   "cell_type": "code",
   "execution_count": 74,
   "id": "4ef42262",
   "metadata": {},
   "outputs": [],
   "source": [
    "# vis_drone tiled 200\n",
    "train_json = '/home/hkhachatrian/mae/annotations/vis_drone_200_train_patch_16.npy'\n",
    "val_json = '/home/hkhachatrian/mae/annotations/vis_drone_200_val_patch_16.npy'\n",
    "n_class = 11\n",
    "name = 'VisDrone 8-shot (tiled)'"
   ]
  },
  {
   "cell_type": "code",
   "execution_count": 6,
   "id": "f1e43a97",
   "metadata": {},
   "outputs": [
    {
     "name": "stdout",
     "output_type": "stream",
     "text": [
      "CPU times: user 71.2 ms, sys: 198 ms, total: 269 ms\n",
      "Wall time: 726 ms\n"
     ]
    }
   ],
   "source": [
    "%%time\n",
    "train = np.load(train_json, allow_pickle=True).item()"
   ]
  },
  {
   "cell_type": "code",
   "execution_count": 7,
   "id": "ab2dc63a",
   "metadata": {},
   "outputs": [
    {
     "name": "stdout",
     "output_type": "stream",
     "text": [
      "CPU times: user 126 ms, sys: 32.1 ms, total: 158 ms\n",
      "Wall time: 562 ms\n"
     ]
    }
   ],
   "source": [
    "%%time\n",
    "val = np.load(val_json, allow_pickle=True).item()"
   ]
  },
  {
   "cell_type": "code",
   "execution_count": 8,
   "id": "ef0af42b",
   "metadata": {},
   "outputs": [
    {
     "data": {
      "text/plain": [
       "('/mnt/lwll/lwll-coral/hrant/cs4pc_256/val/munster_000097_000019_leftImg8bit.256_0_0.png',\n",
       " '/mnt/lwll/lwll-coral/hrant/cs4pc_256/train/krefeld_000000_011655_leftImg8bit.256_0_0.png')"
      ]
     },
     "execution_count": 8,
     "metadata": {},
     "output_type": "execute_result"
    }
   ],
   "source": [
    "val['images'][0]['file_name'], train['images'][0]['file_name']"
   ]
  },
  {
   "cell_type": "code",
   "execution_count": 9,
   "id": "ef81351c",
   "metadata": {},
   "outputs": [
    {
     "data": {
      "text/plain": [
       "(2304, 960)"
      ]
     },
     "execution_count": 9,
     "metadata": {},
     "output_type": "execute_result"
    }
   ],
   "source": [
    "len(train['images']), len(val['images'])"
   ]
  },
  {
   "cell_type": "code",
   "execution_count": 10,
   "id": "242c1276",
   "metadata": {},
   "outputs": [],
   "source": [
    "def get_stats(dataset):\n",
    "    stats_mask = Counter()\n",
    "    stats_patch_labels = Counter()\n",
    "    for image in tqdm(dataset['images']):\n",
    "        mask = np.array(image['black_image'])\n",
    "        patch_labels = np.array(image['patch_labels'])\n",
    "        for cl in range(0, n_class):\n",
    "            stats_mask[cl] += np.sum(mask==cl)\n",
    "            stats_patch_labels[cl] += np.sum(patch_labels==cl)\n",
    "    \n",
    "    return stats_mask, stats_patch_labels\n"
   ]
  },
  {
   "cell_type": "code",
   "execution_count": 11,
   "id": "5ac47f06",
   "metadata": {},
   "outputs": [
    {
     "data": {
      "text/plain": [
       "dict_keys(['file_name', 'height', 'width', 'id', 'black_image', 'patch_labels'])"
      ]
     },
     "execution_count": 11,
     "metadata": {},
     "output_type": "execute_result"
    }
   ],
   "source": [
    "val['images'][0].keys()"
   ]
  },
  {
   "cell_type": "code",
   "execution_count": 12,
   "id": "cf402868",
   "metadata": {},
   "outputs": [
    {
     "data": {
      "application/vnd.jupyter.widget-view+json": {
       "model_id": "73381b93b8764f019d58a813842a5fd8",
       "version_major": 2,
       "version_minor": 0
      },
      "text/plain": [
       "  0%|          | 0/2304 [00:00<?, ?it/s]"
      ]
     },
     "metadata": {},
     "output_type": "display_data"
    }
   ],
   "source": [
    "train_mask_stats, train_patch_stats = get_stats(train) "
   ]
  },
  {
   "cell_type": "code",
   "execution_count": 13,
   "id": "8a0b40a9",
   "metadata": {},
   "outputs": [
    {
     "data": {
      "application/vnd.jupyter.widget-view+json": {
       "model_id": "a0e5caba964c4d91b4462120b1a894e6",
       "version_major": 2,
       "version_minor": 0
      },
      "text/plain": [
       "  0%|          | 0/960 [00:00<?, ?it/s]"
      ]
     },
     "metadata": {},
     "output_type": "display_data"
    }
   ],
   "source": [
    "val_mask_stats, val_patch_stats = get_stats(val) "
   ]
  },
  {
   "cell_type": "code",
   "execution_count": 14,
   "id": "d0a39657",
   "metadata": {
    "scrolled": true
   },
   "outputs": [
    {
     "data": {
      "text/plain": [
       "dict_keys([0, 1, 2, 3, 4, 5, 6, 7, 8, 9, 10, 11, 12, 13, 14, 15, 16, 17, 18, 19, 20, 21, 22, 23, 24, 25, 26, 27, 28, 29, 30, 31, 32, 33, 34])"
      ]
     },
     "execution_count": 14,
     "metadata": {},
     "output_type": "execute_result"
    }
   ],
   "source": [
    "train_mask_stats.keys()"
   ]
  },
  {
   "cell_type": "code",
   "execution_count": 15,
   "id": "1a8311fb",
   "metadata": {},
   "outputs": [],
   "source": [
    "dct = {key:1/val if val != 0 else val for key, val in train_mask_stats.items()}"
   ]
  },
  {
   "cell_type": "code",
   "execution_count": 16,
   "id": "6ca469f6",
   "metadata": {},
   "outputs": [
    {
     "data": {
      "text/plain": [
       "{0: 0.00010826025765941322,\n",
       " 1: 1.46628941972476e-07,\n",
       " 2: 5.623183711661134e-07,\n",
       " 3: 4.390494053514854e-07,\n",
       " 4: 4.902028067051901e-07,\n",
       " 5: 3.5889245787499774e-06,\n",
       " 6: 3.9031899600586573e-07,\n",
       " 7: 2.0670389514060227e-08,\n",
       " 8: 1.0721187478725144e-07,\n",
       " 9: 5.406106738171438e-06,\n",
       " 10: 3.143161580507369e-06,\n",
       " 11: 3.2035611298088736e-08,\n",
       " 12: 1.244694489737494e-06,\n",
       " 13: 1.0830211524861293e-06,\n",
       " 14: 7.1369946115690686e-06,\n",
       " 15: 9.49782167459893e-07,\n",
       " 16: 0,\n",
       " 17: 6.123679964237709e-07,\n",
       " 18: 0.0001238696890870804,\n",
       " 19: 4.38454185922113e-06,\n",
       " 20: 1.2408764558583018e-06,\n",
       " 21: 4.4556241003816465e-08,\n",
       " 22: 4.0678749339987294e-07,\n",
       " 23: 1.744925712405183e-07,\n",
       " 24: 8.736394158147954e-07,\n",
       " 25: 6.981680071492404e-06,\n",
       " 26: 1.5191586413313543e-07,\n",
       " 27: 2.316638094796831e-06,\n",
       " 28: 3.0256087524809994e-06,\n",
       " 29: 1.9312102894884223e-05,\n",
       " 30: 0.00014118311449950587,\n",
       " 31: 2.906664108802251e-06,\n",
       " 32: 2.400326444396438e-05,\n",
       " 33: 1.998569024578402e-06,\n",
       " 34: 0}"
      ]
     },
     "execution_count": 16,
     "metadata": {},
     "output_type": "execute_result"
    }
   ],
   "source": [
    "dct"
   ]
  },
  {
   "cell_type": "code",
   "execution_count": 29,
   "id": "9bed56ec",
   "metadata": {},
   "outputs": [],
   "source": [
    "import torch \n",
    "\n",
    "indices = torch.randint(low=0, high=34, size=(196,))"
   ]
  },
  {
   "cell_type": "code",
   "execution_count": 38,
   "id": "bb1b11b0",
   "metadata": {},
   "outputs": [
    {
     "data": {
      "text/plain": [
       "tensor([4.4556e-08, 5.6232e-07, 1.2447e-06, 1.7739e-08, 6.1237e-07, 1.7739e-08,\n",
       "        2.9067e-06, 9.4978e-07, 7.1370e-06, 4.3905e-07, 1.7739e-08, 9.4978e-07,\n",
       "        3.2036e-08, 4.4556e-08, 4.4556e-08, 4.3905e-07, 2.0670e-08, 4.9020e-07,\n",
       "        1.9986e-06, 4.3905e-07, 1.2387e-04, 9.4978e-07, 1.0830e-06, 1.7739e-08,\n",
       "        2.3166e-06, 1.7739e-08, 3.2036e-08, 4.3845e-06, 1.0721e-07, 5.6232e-07,\n",
       "        5.6232e-07, 6.9817e-06, 1.9312e-05, 4.3845e-06, 3.1432e-06, 2.9067e-06,\n",
       "        5.4061e-06, 3.5889e-06, 5.6232e-07, 5.4061e-06, 1.2447e-06, 1.4663e-07,\n",
       "        5.6232e-07, 8.7364e-07, 3.0256e-06, 2.3166e-06, 4.9020e-07, 1.4663e-07,\n",
       "        4.9020e-07, 1.2387e-04, 7.1370e-06, 1.4663e-07, 3.0256e-06, 3.5889e-06,\n",
       "        4.3905e-07, 1.4118e-04, 3.9032e-07, 4.3845e-06, 7.1370e-06, 5.6232e-07,\n",
       "        6.1237e-07, 1.9986e-06, 1.0721e-07, 6.9817e-06, 1.9312e-05, 3.9032e-07,\n",
       "        3.9032e-07, 5.4061e-06, 3.1432e-06, 1.2387e-04, 1.2409e-06, 4.3905e-07,\n",
       "        4.3845e-06, 2.3166e-06, 1.2409e-06, 4.3845e-06, 5.4061e-06, 1.5192e-07,\n",
       "        3.2036e-08, 5.4061e-06, 3.1432e-06, 3.1432e-06, 1.2447e-06, 1.4663e-07,\n",
       "        9.4978e-07, 3.9032e-07, 5.6232e-07, 3.5889e-06, 7.1370e-06, 1.9986e-06,\n",
       "        1.4663e-07, 1.0830e-06, 1.7739e-08, 9.4978e-07, 5.4061e-06, 3.0256e-06,\n",
       "        3.2036e-08, 1.5192e-07, 5.4061e-06, 6.9817e-06, 1.0830e-06, 2.3166e-06,\n",
       "        1.7739e-08, 7.1370e-06, 3.9032e-07, 7.1370e-06, 3.2036e-08, 1.2387e-04,\n",
       "        6.9817e-06, 1.0830e-06, 1.4663e-07, 9.4978e-07, 1.2387e-04, 1.0830e-06,\n",
       "        3.5889e-06, 2.3166e-06, 2.0670e-08, 1.0830e-06, 6.1237e-07, 1.4663e-07,\n",
       "        1.7739e-08, 7.1370e-06, 3.0256e-06, 4.0679e-07, 5.6232e-07, 4.3845e-06,\n",
       "        1.0721e-07, 1.9986e-06, 6.9817e-06, 1.2409e-06, 9.4978e-07, 2.9067e-06,\n",
       "        2.0670e-08, 1.2447e-06, 1.9986e-06, 2.4003e-05, 1.7449e-07, 4.3845e-06,\n",
       "        2.0670e-08, 4.3845e-06, 3.0256e-06, 1.7449e-07, 1.2387e-04, 3.1432e-06,\n",
       "        1.9312e-05, 2.3166e-06, 4.4556e-08, 7.1370e-06, 1.2447e-06, 3.2036e-08,\n",
       "        5.6232e-07, 1.4663e-07, 2.3166e-06, 1.0830e-06, 1.2447e-06, 2.3166e-06,\n",
       "        1.0721e-07, 1.2387e-04, 2.4003e-05, 5.6232e-07, 1.2409e-06, 1.0721e-07,\n",
       "        2.0670e-08, 3.0256e-06, 1.5192e-07, 6.9817e-06, 4.9020e-07, 1.5192e-07,\n",
       "        1.4118e-04, 3.9032e-07, 7.1370e-06, 3.2036e-08, 4.3905e-07, 1.2387e-04,\n",
       "        4.4556e-08, 1.4663e-07, 3.5889e-06, 3.5889e-06, 1.0830e-06, 8.7364e-07,\n",
       "        5.4061e-06, 4.9020e-07, 1.9312e-05, 9.4978e-07, 1.5192e-07, 1.2387e-04,\n",
       "        1.2447e-06, 3.1432e-06, 3.9032e-07, 9.4978e-07, 3.1432e-06, 3.9032e-07,\n",
       "        1.5192e-07, 4.3845e-06, 1.7449e-07, 9.4978e-07], dtype=torch.float64)"
      ]
     },
     "execution_count": 38,
     "metadata": {},
     "output_type": "execute_result"
    }
   ],
   "source": [
    "weights = torch.tensor([dct[i.item()] for i in indices])\n",
    "weights"
   ]
  },
  {
   "cell_type": "code",
   "execution_count": 32,
   "id": "afd89932",
   "metadata": {},
   "outputs": [],
   "source": [
    "np_ind = np.array(indices)"
   ]
  },
  {
   "cell_type": "code",
   "execution_count": 34,
   "id": "b889b581",
   "metadata": {},
   "outputs": [
    {
     "ename": "IndexError",
     "evalue": "only integers, slices (`:`), ellipsis (`...`), numpy.newaxis (`None`) and integer or boolean arrays are valid indices",
     "output_type": "error",
     "traceback": [
      "\u001b[0;31m---------------------------------------------------------------------------\u001b[0m",
      "\u001b[0;31mIndexError\u001b[0m                                Traceback (most recent call last)",
      "Cell \u001b[0;32mIn[34], line 1\u001b[0m\n\u001b[0;32m----> 1\u001b[0m \u001b[43mnp_ind\u001b[49m\u001b[43m[\u001b[49m\u001b[43mdct\u001b[49m\u001b[38;5;241;43m.\u001b[39;49m\u001b[43mkeys\u001b[49m\u001b[43m(\u001b[49m\u001b[43m)\u001b[49m\u001b[43m]\u001b[49m\n",
      "\u001b[0;31mIndexError\u001b[0m: only integers, slices (`:`), ellipsis (`...`), numpy.newaxis (`None`) and integer or boolean arrays are valid indices"
     ]
    }
   ],
   "source": [
    "np_ind[dct.keys()]"
   ]
  },
  {
   "cell_type": "code",
   "execution_count": 31,
   "id": "2d5d2056",
   "metadata": {},
   "outputs": [
    {
     "ename": "IndexError",
     "evalue": "only integers, slices (`:`), ellipsis (`...`), None and long or byte Variables are valid indices (got dict)",
     "output_type": "error",
     "traceback": [
      "\u001b[0;31m---------------------------------------------------------------------------\u001b[0m",
      "\u001b[0;31mIndexError\u001b[0m                                Traceback (most recent call last)",
      "Cell \u001b[0;32mIn[31], line 1\u001b[0m\n\u001b[0;32m----> 1\u001b[0m \u001b[43mindices\u001b[49m\u001b[43m[\u001b[49m\u001b[43mdct\u001b[49m\u001b[43m]\u001b[49m\n",
      "\u001b[0;31mIndexError\u001b[0m: only integers, slices (`:`), ellipsis (`...`), None and long or byte Variables are valid indices (got dict)"
     ]
    }
   ],
   "source": [
    "indices[dct]"
   ]
  },
  {
   "cell_type": "code",
   "execution_count": 18,
   "id": "e836ad4a",
   "metadata": {},
   "outputs": [],
   "source": [
    "with open('preprocessing/labels.txt') as f:\n",
    "    labels = {\n",
    "        int(line[22:25].strip()):\n",
    "        (line[:22].strip().replace(\"'\", \"\"), \n",
    "         int(line[25:].strip()))\n",
    "        for line in f.readlines()\n",
    "    }\n",
    "\n",
    "eval_labels = [i for i in labels if 0 <= labels[i][1] < 255]\n",
    "\n",
    "eval_label_names = [labels[i][0] for i in labels if 0 <= labels[i][1] < 255]"
   ]
  },
  {
   "cell_type": "code",
   "execution_count": 22,
   "id": "a8d00707",
   "metadata": {},
   "outputs": [],
   "source": [
    "[1,2,3].reverse()"
   ]
  },
  {
   "cell_type": "code",
   "execution_count": 26,
   "id": "40a5d167",
   "metadata": {},
   "outputs": [],
   "source": [
    "plot_labels = [v[0] for k,v in labels.items() if k in eval_labels]\n",
    "plot_labels.reverse()\n",
    "\n",
    "plot_values =  [v for k,v  in train_patch_stats.items() if k in eval_labels]\n",
    "plot_values.reverse()"
   ]
  },
  {
   "cell_type": "code",
   "execution_count": 32,
   "id": "1f3baa9c",
   "metadata": {},
   "outputs": [
    {
     "name": "stdout",
     "output_type": "stream",
     "text": [
      "145218\n",
      "28209\n",
      "94687\n",
      "2436\n",
      "2764\n",
      "4949\n",
      "712\n",
      "2438\n",
      "67960\n",
      "7413\n",
      "17533\n",
      "3442\n",
      "433\n",
      "19814\n",
      "1300\n",
      "982\n",
      "1045\n",
      "134\n",
      "1488\n"
     ]
    }
   ],
   "source": [
    "for v in plot_values:\n",
    "    print(v)"
   ]
  },
  {
   "cell_type": "code",
   "execution_count": 33,
   "id": "56dfd48a",
   "metadata": {},
   "outputs": [
    {
     "data": {
      "text/plain": [
       "402957"
      ]
     },
     "execution_count": 33,
     "metadata": {},
     "output_type": "execute_result"
    }
   ],
   "source": [
    "sum(plot_values)"
   ]
  },
  {
   "cell_type": "code",
   "execution_count": 28,
   "id": "f6866b08",
   "metadata": {},
   "outputs": [
    {
     "data": {
      "image/png": "[encoded data removed]",
      "text/plain": [
       "<Figure size 640x480 with 1 Axes>"
      ]
     },
     "metadata": {},
     "output_type": "display_data"
    }
   ],
   "source": [
    "plt.figure()\n",
    "plt.barh(plot_labels, plot_values)\n",
    "plt.xscale('log')"
   ]
  },
  {
   "cell_type": "code",
   "execution_count": 17,
   "id": "100e6e26",
   "metadata": {
    "scrolled": false
   },
   "outputs": [
    {
     "data": {
      "image/png": "[encoded data removed]",
      "text/plain": [
       "<Figure size 640x480 with 1 Axes>"
      ]
     },
     "metadata": {},
     "output_type": "display_data"
    }
   ],
   "source": [
    "plt.figure()\n",
    "plt.plot(range(0, n_class), train_mask_stats.values(), label='Train pixels')\n",
    "plt.plot(range(0, n_class), train_patch_stats.values(), label='Train patches')\n",
    "plt.plot(range(0, n_class), val_mask_stats.values(), label='Validation pixels')\n",
    "plt.plot(range(0, n_class), val_patch_stats.values(), label='Validation patches')\n",
    "plt.yscale('log')\n",
    "plt.legend()\n",
    "plt.title(name);"
   ]
  },
  {
   "cell_type": "code",
   "execution_count": 12,
   "id": "94f934c0",
   "metadata": {},
   "outputs": [],
   "source": [
    "import pandas as pd"
   ]
  },
  {
   "cell_type": "code",
   "execution_count": 13,
   "id": "1992a445",
   "metadata": {},
   "outputs": [],
   "source": [
    "d =[{'supercategory': 'void', 'id': 0, 'name': 'unlabeled'},\n",
    " {'supercategory': 'void', 'id': 1, 'name': 'ego vehicle'},\n",
    " {'supercategory': 'void', 'id': 2, 'name': 'rectification border'},\n",
    " {'supercategory': 'void', 'id': 3, 'name': 'out of roi'},\n",
    " {'supercategory': 'void', 'id': 4, 'name': 'static'},\n",
    " {'supercategory': 'void', 'id': 5, 'name': 'dynamic'},\n",
    " {'supercategory': 'void', 'id': 6, 'name': 'ground'},\n",
    " {'supercategory': 'flat', 'id': 7, 'name': 'road'},\n",
    " {'supercategory': 'flat', 'id': 8, 'name': 'sidewalk'},\n",
    " {'supercategory': 'flat', 'id': 9, 'name': 'parking'},\n",
    " {'supercategory': 'flat', 'id': 10, 'name': 'rail track'},\n",
    " {'supercategory': 'construction', 'id': 11, 'name': 'building'},\n",
    " {'supercategory': 'construction', 'id': 12, 'name': 'wall'},\n",
    " {'supercategory': 'construction', 'id': 13, 'name': 'fence'},\n",
    " {'supercategory': 'construction', 'id': 14, 'name': 'guard rail'},\n",
    " {'supercategory': 'construction', 'id': 15, 'name': 'bridge'},\n",
    " {'supercategory': 'construction', 'id': 16, 'name': 'tunnel'},\n",
    " {'supercategory': 'object', 'id': 17, 'name': 'pole'},\n",
    " {'supercategory': 'object', 'id': 18, 'name': 'polegroup'},\n",
    " {'supercategory': 'object', 'id': 19, 'name': 'traffic light'},\n",
    " {'supercategory': 'object', 'id': 20, 'name': 'traffic sign'},\n",
    " {'supercategory': 'nature', 'id': 21, 'name': 'vegetation'},\n",
    " {'supercategory': 'nature', 'id': 22, 'name': 'terrain'},\n",
    " {'supercategory': 'sky', 'id': 23, 'name': 'sky'},\n",
    " {'supercategory': 'human', 'id': 24, 'name': 'person'},\n",
    " {'supercategory': 'human', 'id': 25, 'name': 'rider'},\n",
    " {'supercategory': 'vehicle', 'id': 26, 'name': 'car'},\n",
    " {'supercategory': 'vehicle', 'id': 27, 'name': 'truck'},\n",
    " {'supercategory': 'vehicle', 'id': 28, 'name': 'bus'},\n",
    " {'supercategory': 'vehicle', 'id': 29, 'name': 'caravan'},\n",
    " {'supercategory': 'vehicle', 'id': 30, 'name': 'trailer'},\n",
    " {'supercategory': 'vehicle', 'id': 31, 'name': 'train'},\n",
    " {'supercategory': 'vehicle', 'id': 32, 'name': 'motorcycle'},\n",
    " {'supercategory': 'vehicle', 'id': 33, 'name': 'bicycle'},\n",
    " {'supercategory': 'vehicle', 'id': -1, 'name': 'license plate'}]"
   ]
  },
  {
   "cell_type": "code",
   "execution_count": 14,
   "id": "c83b6db0",
   "metadata": {},
   "outputs": [],
   "source": [
    "names = [x['name'] for x in d]\n",
    "ids = [x['id'] for x in d]"
   ]
  },
  {
   "cell_type": "code",
   "execution_count": 67,
   "id": "79d285b3",
   "metadata": {},
   "outputs": [
    {
     "name": "stdout",
     "output_type": "stream",
     "text": [
      "['road', ':', '0.878018', 'nan']\n",
      "['sidewalk', ':', '0.016536', 'nan']\n",
      "['building', ':', '0.782260', 'nan']\n",
      "['wall', ':', '0.006847', 'nan']\n",
      "['fence', ':', '0.001296', 'nan']\n",
      "['pole', ':', '0.007963', 'nan']\n",
      "['traffic', 'light', ':', '0.004580', 'nan']\n",
      "['traffic', 'sign', ':', '0.050587', 'nan']\n",
      "['vegetation', ':', '0.756025', 'nan']\n",
      "['terrain', ':', '0.024827', 'nan']\n",
      "['sky', ':', '0.794539', 'nan']\n",
      "['person', ':', '0.201122', '0.000000']\n",
      "['rider', ':', '0.072572', '0.000000']\n",
      "['car', ':', '0.510931', '0.000000']\n",
      "['truck', ':', '0.000000', '0.000000']\n",
      "['bus', ':', '0.123684', '0.000000']\n",
      "['train', ':', '0.005915', '0.000000']\n",
      "['motorcycle', ':', '0.025850', '0.000000']\n",
      "['bicycle', ':', '0.124103', '0.000000']\n"
     ]
    }
   ],
   "source": [
    "s = \"\"\"road          : 0.878018      nan\n",
    "sidewalk      : 0.016536      nan\n",
    "building      : 0.782260      nan\n",
    "wall          : 0.006847      nan\n",
    "fence         : 0.001296      nan\n",
    "pole          : 0.007963      nan\n",
    "traffic light : 0.004580      nan\n",
    "traffic sign  : 0.050587      nan\n",
    "vegetation    : 0.756025      nan\n",
    "terrain       : 0.024827      nan\n",
    "sky           : 0.794539      nan\n",
    "person        : 0.201122    0.000000\n",
    "rider         : 0.072572    0.000000\n",
    "car           : 0.510931    0.000000\n",
    "truck         : 0.000000    0.000000\n",
    "bus           : 0.123684    0.000000\n",
    "train         : 0.005915    0.000000\n",
    "motorcycle    : 0.025850    0.000000\n",
    "bicycle       : 0.124103    0.000000\"\"\"\n",
    "\n",
    "s.split('\\n')[0].split()\n",
    "names_ = []\n",
    "pred = []\n",
    "for i in s.split('\\n'):\n",
    "    print(i.split())\n",
    "    names_.append(i.split(':')[0].strip())\n",
    "    pred.append(float(i.split(\":\")[1].strip().split()[0]))"
   ]
  },
  {
   "cell_type": "code",
   "execution_count": 68,
   "id": "dbb34635",
   "metadata": {},
   "outputs": [
    {
     "data": {
      "text/plain": [
       "['road',\n",
       " 'sidewalk',\n",
       " 'building',\n",
       " 'wall',\n",
       " 'fence',\n",
       " 'pole',\n",
       " 'traffic light',\n",
       " 'traffic sign',\n",
       " 'vegetation',\n",
       " 'terrain',\n",
       " 'sky',\n",
       " 'person',\n",
       " 'rider',\n",
       " 'car',\n",
       " 'truck',\n",
       " 'bus',\n",
       " 'train',\n",
       " 'motorcycle',\n",
       " 'bicycle']"
      ]
     },
     "execution_count": 68,
     "metadata": {},
     "output_type": "execute_result"
    }
   ],
   "source": [
    "names_"
   ]
  },
  {
   "cell_type": "code",
   "execution_count": 69,
   "id": "79742ed7",
   "metadata": {},
   "outputs": [],
   "source": [
    "new_col = pd.Series([0]*df.shape[0])"
   ]
  },
  {
   "cell_type": "code",
   "execution_count": 70,
   "id": "34f45369",
   "metadata": {},
   "outputs": [],
   "source": [
    "df['preds'] = new_col"
   ]
  },
  {
   "cell_type": "code",
   "execution_count": 76,
   "id": "935e719b",
   "metadata": {},
   "outputs": [
    {
     "name": "stdout",
     "output_type": "stream",
     "text": [
      "[0]\n"
     ]
    },
    {
     "ename": "AttributeError",
     "evalue": "can't set attribute",
     "output_type": "error",
     "traceback": [
      "\u001b[0;31m---------------------------------------------------------------------------\u001b[0m",
      "\u001b[0;31mAttributeError\u001b[0m                            Traceback (most recent call last)",
      "\u001b[0;32m~/miniconda3/envs/ut2/lib/python3.7/site-packages/pandas/core/generic.py\u001b[0m in \u001b[0;36m__setattr__\u001b[0;34m(self, name, value)\u001b[0m\n\u001b[1;32m   5517\u001b[0m                 \u001b[0;32melse\u001b[0m\u001b[0;34m:\u001b[0m\u001b[0;34m\u001b[0m\u001b[0;34m\u001b[0m\u001b[0m\n\u001b[0;32m-> 5518\u001b[0;31m                     \u001b[0mobject\u001b[0m\u001b[0;34m.\u001b[0m\u001b[0m__setattr__\u001b[0m\u001b[0;34m(\u001b[0m\u001b[0mself\u001b[0m\u001b[0;34m,\u001b[0m \u001b[0mname\u001b[0m\u001b[0;34m,\u001b[0m \u001b[0mvalue\u001b[0m\u001b[0;34m)\u001b[0m\u001b[0;34m\u001b[0m\u001b[0;34m\u001b[0m\u001b[0m\n\u001b[0m\u001b[1;32m   5519\u001b[0m             \u001b[0;32mexcept\u001b[0m \u001b[0;34m(\u001b[0m\u001b[0mAttributeError\u001b[0m\u001b[0;34m,\u001b[0m \u001b[0mTypeError\u001b[0m\u001b[0;34m)\u001b[0m\u001b[0;34m:\u001b[0m\u001b[0;34m\u001b[0m\u001b[0;34m\u001b[0m\u001b[0m\n",
      "\u001b[0;31mAttributeError\u001b[0m: can't set attribute",
      "\nDuring handling of the above exception, another exception occurred:\n",
      "\u001b[0;31mAttributeError\u001b[0m                            Traceback (most recent call last)",
      "\u001b[0;32m/tmp/ipykernel_770269/1643758406.py\u001b[0m in \u001b[0;36m<module>\u001b[0;34m\u001b[0m\n\u001b[1;32m      1\u001b[0m \u001b[0;32mfor\u001b[0m \u001b[0mname\u001b[0m\u001b[0;34m,\u001b[0m \u001b[0mp\u001b[0m \u001b[0;32min\u001b[0m \u001b[0mzip\u001b[0m\u001b[0;34m(\u001b[0m\u001b[0mnames_\u001b[0m\u001b[0;34m,\u001b[0m \u001b[0mpred\u001b[0m\u001b[0;34m)\u001b[0m\u001b[0;34m:\u001b[0m\u001b[0;34m\u001b[0m\u001b[0;34m\u001b[0m\u001b[0m\n\u001b[1;32m      2\u001b[0m     \u001b[0mprint\u001b[0m\u001b[0;34m(\u001b[0m\u001b[0mdf\u001b[0m\u001b[0;34m[\u001b[0m\u001b[0mdf\u001b[0m\u001b[0;34m[\u001b[0m\u001b[0;34m'classname'\u001b[0m\u001b[0;34m]\u001b[0m \u001b[0;34m==\u001b[0m \u001b[0mname\u001b[0m\u001b[0;34m]\u001b[0m\u001b[0;34m[\u001b[0m\u001b[0;34m'preds'\u001b[0m\u001b[0;34m]\u001b[0m\u001b[0;34m.\u001b[0m\u001b[0mvalues\u001b[0m\u001b[0;34m)\u001b[0m\u001b[0;34m\u001b[0m\u001b[0;34m\u001b[0m\u001b[0m\n\u001b[0;32m----> 3\u001b[0;31m     \u001b[0mdf\u001b[0m\u001b[0;34m[\u001b[0m\u001b[0mdf\u001b[0m\u001b[0;34m[\u001b[0m\u001b[0;34m'classname'\u001b[0m\u001b[0;34m]\u001b[0m \u001b[0;34m==\u001b[0m \u001b[0mname\u001b[0m\u001b[0;34m]\u001b[0m\u001b[0;34m[\u001b[0m\u001b[0;34m'preds'\u001b[0m\u001b[0;34m]\u001b[0m\u001b[0;34m.\u001b[0m\u001b[0mvalues\u001b[0m \u001b[0;34m=\u001b[0m \u001b[0mp\u001b[0m\u001b[0;34m\u001b[0m\u001b[0;34m\u001b[0m\u001b[0m\n\u001b[0m",
      "\u001b[0;32m~/miniconda3/envs/ut2/lib/python3.7/site-packages/pandas/core/generic.py\u001b[0m in \u001b[0;36m__setattr__\u001b[0;34m(self, name, value)\u001b[0m\n\u001b[1;32m   5526\u001b[0m                         \u001b[0mstacklevel\u001b[0m\u001b[0;34m=\u001b[0m\u001b[0;36m2\u001b[0m\u001b[0;34m,\u001b[0m\u001b[0;34m\u001b[0m\u001b[0;34m\u001b[0m\u001b[0m\n\u001b[1;32m   5527\u001b[0m                     )\n\u001b[0;32m-> 5528\u001b[0;31m                 \u001b[0mobject\u001b[0m\u001b[0;34m.\u001b[0m\u001b[0m__setattr__\u001b[0m\u001b[0;34m(\u001b[0m\u001b[0mself\u001b[0m\u001b[0;34m,\u001b[0m \u001b[0mname\u001b[0m\u001b[0;34m,\u001b[0m \u001b[0mvalue\u001b[0m\u001b[0;34m)\u001b[0m\u001b[0;34m\u001b[0m\u001b[0;34m\u001b[0m\u001b[0m\n\u001b[0m\u001b[1;32m   5529\u001b[0m \u001b[0;34m\u001b[0m\u001b[0m\n\u001b[1;32m   5530\u001b[0m     \u001b[0;34m@\u001b[0m\u001b[0mfinal\u001b[0m\u001b[0;34m\u001b[0m\u001b[0;34m\u001b[0m\u001b[0m\n",
      "\u001b[0;31mAttributeError\u001b[0m: can't set attribute"
     ]
    }
   ],
   "source": [
    "new_col = [0]* \n",
    "for name, p, i in zip(names_, pred, range(len(names_))):\n",
    "    new_"
   ]
  },
  {
   "cell_type": "code",
   "execution_count": 82,
   "id": "74b907a3",
   "metadata": {},
   "outputs": [],
   "source": [
    "df['pixels'] = df['pixels'].apply(lambda x: x / 1000000)"
   ]
  },
  {
   "cell_type": "code",
   "execution_count": 84,
   "id": "b39ed986",
   "metadata": {},
   "outputs": [],
   "source": [
    "x = [1, 2, [1, 2]]\n",
    "t = tuple(x)"
   ]
  },
  {
   "cell_type": "code",
   "execution_count": 89,
   "id": "ca4390c2",
   "metadata": {},
   "outputs": [],
   "source": [
    "t[2][0] = 1"
   ]
  },
  {
   "cell_type": "code",
   "execution_count": 93,
   "id": "5ec6e27c",
   "metadata": {},
   "outputs": [],
   "source": [
    "s = {1, 2, 3, 4, 1, 3, 5}"
   ]
  },
  {
   "cell_type": "code",
   "execution_count": 95,
   "id": "73c0a2db",
   "metadata": {},
   "outputs": [],
   "source": [
    "s |= {7, 8}"
   ]
  },
  {
   "cell_type": "code",
   "execution_count": 16,
   "id": "22af3cfe",
   "metadata": {},
   "outputs": [
    {
     "data": {
      "text/plain": [
       "True"
      ]
     },
     "execution_count": 16,
     "metadata": {},
     "output_type": "execute_result"
    }
   ],
   "source": [
    "t1 = 't11'\n",
    "t2 = 't11'\n",
    "\n",
    "t1 is t2"
   ]
  },
  {
   "cell_type": "code",
   "execution_count": 97,
   "id": "21dbe72e",
   "metadata": {},
   "outputs": [
    {
     "data": {
      "text/plain": [
       "{1, 2, 3, 4, 5, 7, 8}"
      ]
     },
     "execution_count": 97,
     "metadata": {},
     "output_type": "execute_result"
    }
   ],
   "source": [
    "s"
   ]
  },
  {
   "cell_type": "code",
   "execution_count": 17,
   "id": "3f7c8b42",
   "metadata": {},
   "outputs": [
    {
     "ename": "NameError",
     "evalue": "name 'df' is not defined",
     "output_type": "error",
     "traceback": [
      "\u001b[0;31m---------------------------------------------------------------------------\u001b[0m",
      "\u001b[0;31mNameError\u001b[0m                                 Traceback (most recent call last)",
      "Cell \u001b[0;32mIn[17], line 1\u001b[0m\n\u001b[0;32m----> 1\u001b[0m \u001b[43mdf\u001b[49m\n",
      "\u001b[0;31mNameError\u001b[0m: name 'df' is not defined"
     ]
    }
   ],
   "source": [
    "df"
   ]
  },
  {
   "cell_type": "code",
   "execution_count": 18,
   "id": "dbd5498d",
   "metadata": {},
   "outputs": [
    {
     "data": {
      "text/html": [
       "<div>\n",
       "<style scoped>\n",
       "    .dataframe tbody tr th:only-of-type {\n",
       "        vertical-align: middle;\n",
       "    }\n",
       "\n",
       "    .dataframe tbody tr th {\n",
       "        vertical-align: top;\n",
       "    }\n",
       "\n",
       "    .dataframe thead th {\n",
       "        text-align: right;\n",
       "    }\n",
       "</style>\n",
       "<table border=\"1\" class=\"dataframe\">\n",
       "  <thead>\n",
       "    <tr style=\"text-align: right;\">\n",
       "      <th></th>\n",
       "      <th>classname</th>\n",
       "      <th>patches</th>\n",
       "      <th>pixels</th>\n",
       "    </tr>\n",
       "  </thead>\n",
       "  <tbody>\n",
       "    <tr>\n",
       "      <th>0</th>\n",
       "      <td>unlabeled</td>\n",
       "      <td>67404</td>\n",
       "      <td>56374293</td>\n",
       "    </tr>\n",
       "    <tr>\n",
       "      <th>1</th>\n",
       "      <td>ego vehicle</td>\n",
       "      <td>9120</td>\n",
       "      <td>6819936</td>\n",
       "    </tr>\n",
       "    <tr>\n",
       "      <th>2</th>\n",
       "      <td>rectification border</td>\n",
       "      <td>3408</td>\n",
       "      <td>1778352</td>\n",
       "    </tr>\n",
       "    <tr>\n",
       "      <th>3</th>\n",
       "      <td>out of roi</td>\n",
       "      <td>0</td>\n",
       "      <td>2277648</td>\n",
       "    </tr>\n",
       "    <tr>\n",
       "      <th>4</th>\n",
       "      <td>static</td>\n",
       "      <td>2558</td>\n",
       "      <td>2039972</td>\n",
       "    </tr>\n",
       "    <tr>\n",
       "      <th>5</th>\n",
       "      <td>dynamic</td>\n",
       "      <td>340</td>\n",
       "      <td>278635</td>\n",
       "    </tr>\n",
       "    <tr>\n",
       "      <th>6</th>\n",
       "      <td>ground</td>\n",
       "      <td>3164</td>\n",
       "      <td>2562007</td>\n",
       "    </tr>\n",
       "    <tr>\n",
       "      <th>7</th>\n",
       "      <td>road</td>\n",
       "      <td>59688</td>\n",
       "      <td>48378382</td>\n",
       "    </tr>\n",
       "    <tr>\n",
       "      <th>8</th>\n",
       "      <td>sidewalk</td>\n",
       "      <td>11634</td>\n",
       "      <td>9327325</td>\n",
       "    </tr>\n",
       "    <tr>\n",
       "      <th>9</th>\n",
       "      <td>parking</td>\n",
       "      <td>227</td>\n",
       "      <td>184976</td>\n",
       "    </tr>\n",
       "    <tr>\n",
       "      <th>10</th>\n",
       "      <td>rail track</td>\n",
       "      <td>396</td>\n",
       "      <td>318151</td>\n",
       "    </tr>\n",
       "    <tr>\n",
       "      <th>11</th>\n",
       "      <td>building</td>\n",
       "      <td>38945</td>\n",
       "      <td>31215262</td>\n",
       "    </tr>\n",
       "    <tr>\n",
       "      <th>12</th>\n",
       "      <td>wall</td>\n",
       "      <td>1019</td>\n",
       "      <td>803410</td>\n",
       "    </tr>\n",
       "    <tr>\n",
       "      <th>13</th>\n",
       "      <td>fence</td>\n",
       "      <td>1140</td>\n",
       "      <td>923343</td>\n",
       "    </tr>\n",
       "    <tr>\n",
       "      <th>14</th>\n",
       "      <td>guard rail</td>\n",
       "      <td>175</td>\n",
       "      <td>140115</td>\n",
       "    </tr>\n",
       "    <tr>\n",
       "      <th>15</th>\n",
       "      <td>bridge</td>\n",
       "      <td>1332</td>\n",
       "      <td>1052873</td>\n",
       "    </tr>\n",
       "    <tr>\n",
       "      <th>16</th>\n",
       "      <td>tunnel</td>\n",
       "      <td>0</td>\n",
       "      <td>0</td>\n",
       "    </tr>\n",
       "    <tr>\n",
       "      <th>17</th>\n",
       "      <td>pole</td>\n",
       "      <td>2128</td>\n",
       "      <td>1633005</td>\n",
       "    </tr>\n",
       "    <tr>\n",
       "      <th>18</th>\n",
       "      <td>polegroup</td>\n",
       "      <td>12</td>\n",
       "      <td>8073</td>\n",
       "    </tr>\n",
       "    <tr>\n",
       "      <th>19</th>\n",
       "      <td>traffic light</td>\n",
       "      <td>269</td>\n",
       "      <td>228074</td>\n",
       "    </tr>\n",
       "    <tr>\n",
       "      <th>20</th>\n",
       "      <td>traffic sign</td>\n",
       "      <td>990</td>\n",
       "      <td>805882</td>\n",
       "    </tr>\n",
       "    <tr>\n",
       "      <th>21</th>\n",
       "      <td>vegetation</td>\n",
       "      <td>27924</td>\n",
       "      <td>22443545</td>\n",
       "    </tr>\n",
       "    <tr>\n",
       "      <th>22</th>\n",
       "      <td>terrain</td>\n",
       "      <td>3046</td>\n",
       "      <td>2458286</td>\n",
       "    </tr>\n",
       "    <tr>\n",
       "      <th>23</th>\n",
       "      <td>sky</td>\n",
       "      <td>7263</td>\n",
       "      <td>5730903</td>\n",
       "    </tr>\n",
       "    <tr>\n",
       "      <th>24</th>\n",
       "      <td>person</td>\n",
       "      <td>1404</td>\n",
       "      <td>1144637</td>\n",
       "    </tr>\n",
       "    <tr>\n",
       "      <th>25</th>\n",
       "      <td>rider</td>\n",
       "      <td>175</td>\n",
       "      <td>143232</td>\n",
       "    </tr>\n",
       "    <tr>\n",
       "      <th>26</th>\n",
       "      <td>car</td>\n",
       "      <td>8139</td>\n",
       "      <td>6582591</td>\n",
       "    </tr>\n",
       "    <tr>\n",
       "      <th>27</th>\n",
       "      <td>truck</td>\n",
       "      <td>532</td>\n",
       "      <td>431660</td>\n",
       "    </tr>\n",
       "    <tr>\n",
       "      <th>28</th>\n",
       "      <td>bus</td>\n",
       "      <td>404</td>\n",
       "      <td>330512</td>\n",
       "    </tr>\n",
       "    <tr>\n",
       "      <th>29</th>\n",
       "      <td>caravan</td>\n",
       "      <td>63</td>\n",
       "      <td>51781</td>\n",
       "    </tr>\n",
       "    <tr>\n",
       "      <th>30</th>\n",
       "      <td>trailer</td>\n",
       "      <td>10</td>\n",
       "      <td>7083</td>\n",
       "    </tr>\n",
       "    <tr>\n",
       "      <th>31</th>\n",
       "      <td>train</td>\n",
       "      <td>432</td>\n",
       "      <td>344037</td>\n",
       "    </tr>\n",
       "    <tr>\n",
       "      <th>32</th>\n",
       "      <td>motorcycle</td>\n",
       "      <td>51</td>\n",
       "      <td>41661</td>\n",
       "    </tr>\n",
       "    <tr>\n",
       "      <th>33</th>\n",
       "      <td>bicycle</td>\n",
       "      <td>624</td>\n",
       "      <td>500358</td>\n",
       "    </tr>\n",
       "    <tr>\n",
       "      <th>34</th>\n",
       "      <td>license plate</td>\n",
       "      <td>0</td>\n",
       "      <td>0</td>\n",
       "    </tr>\n",
       "  </tbody>\n",
       "</table>\n",
       "</div>"
      ],
      "text/plain": [
       "               classname patches    pixels\n",
       "0              unlabeled   67404  56374293\n",
       "1            ego vehicle    9120   6819936\n",
       "2   rectification border    3408   1778352\n",
       "3             out of roi       0   2277648\n",
       "4                 static    2558   2039972\n",
       "5                dynamic     340    278635\n",
       "6                 ground    3164   2562007\n",
       "7                   road   59688  48378382\n",
       "8               sidewalk   11634   9327325\n",
       "9                parking     227    184976\n",
       "10            rail track     396    318151\n",
       "11              building   38945  31215262\n",
       "12                  wall    1019    803410\n",
       "13                 fence    1140    923343\n",
       "14            guard rail     175    140115\n",
       "15                bridge    1332   1052873\n",
       "16                tunnel       0         0\n",
       "17                  pole    2128   1633005\n",
       "18             polegroup      12      8073\n",
       "19         traffic light     269    228074\n",
       "20          traffic sign     990    805882\n",
       "21            vegetation   27924  22443545\n",
       "22               terrain    3046   2458286\n",
       "23                   sky    7263   5730903\n",
       "24                person    1404   1144637\n",
       "25                 rider     175    143232\n",
       "26                   car    8139   6582591\n",
       "27                 truck     532    431660\n",
       "28                   bus     404    330512\n",
       "29               caravan      63     51781\n",
       "30               trailer      10      7083\n",
       "31                 train     432    344037\n",
       "32            motorcycle      51     41661\n",
       "33               bicycle     624    500358\n",
       "34         license plate       0         0"
      ]
     },
     "execution_count": 18,
     "metadata": {},
     "output_type": "execute_result"
    }
   ],
   "source": [
    "df = pd.DataFrame([names, train_patch_stats.values(), train_mask_stats.values()])\n",
    "df = df.T\n",
    "df.columns=['classname', 'patches', 'pixels']\n",
    "df"
   ]
  },
  {
   "cell_type": "code",
   "execution_count": 32,
   "id": "04b89dcb",
   "metadata": {},
   "outputs": [],
   "source": [
    "df = pd.DataFrame([names, train_patch_stats.values(), train_mask_stats.values()])\n",
    "df = df.T\n",
    "df.columns=['classname', 'patches', 'pixels']"
   ]
  },
  {
   "cell_type": "code",
   "execution_count": 33,
   "id": "bd71468c",
   "metadata": {},
   "outputs": [
    {
     "data": {
      "text/html": [
       "<div>\n",
       "<style scoped>\n",
       "    .dataframe tbody tr th:only-of-type {\n",
       "        vertical-align: middle;\n",
       "    }\n",
       "\n",
       "    .dataframe tbody tr th {\n",
       "        vertical-align: top;\n",
       "    }\n",
       "\n",
       "    .dataframe thead th {\n",
       "        text-align: right;\n",
       "    }\n",
       "</style>\n",
       "<table border=\"1\" class=\"dataframe\">\n",
       "  <thead>\n",
       "    <tr style=\"text-align: right;\">\n",
       "      <th></th>\n",
       "      <th>classname</th>\n",
       "      <th>patches</th>\n",
       "      <th>pixels</th>\n",
       "    </tr>\n",
       "  </thead>\n",
       "  <tbody>\n",
       "    <tr>\n",
       "      <th>0</th>\n",
       "      <td>sky</td>\n",
       "      <td>190129</td>\n",
       "      <td>39093684</td>\n",
       "    </tr>\n",
       "    <tr>\n",
       "      <th>1</th>\n",
       "      <td>road</td>\n",
       "      <td>28658</td>\n",
       "      <td>5696372</td>\n",
       "    </tr>\n",
       "    <tr>\n",
       "      <th>2</th>\n",
       "      <td>sidewalk</td>\n",
       "      <td>236391</td>\n",
       "      <td>48247970</td>\n",
       "    </tr>\n",
       "    <tr>\n",
       "      <th>3</th>\n",
       "      <td>building</td>\n",
       "      <td>45884</td>\n",
       "      <td>9337576</td>\n",
       "    </tr>\n",
       "    <tr>\n",
       "      <th>4</th>\n",
       "      <td>vegetation</td>\n",
       "      <td>154313</td>\n",
       "      <td>31143929</td>\n",
       "    </tr>\n",
       "    <tr>\n",
       "      <th>5</th>\n",
       "      <td>pole</td>\n",
       "      <td>111236</td>\n",
       "      <td>22429876</td>\n",
       "    </tr>\n",
       "    <tr>\n",
       "      <th>6</th>\n",
       "      <td>static</td>\n",
       "      <td>8107</td>\n",
       "      <td>1638940</td>\n",
       "    </tr>\n",
       "    <tr>\n",
       "      <th>7</th>\n",
       "      <td>traffic light</td>\n",
       "      <td>10084</td>\n",
       "      <td>2058436</td>\n",
       "    </tr>\n",
       "    <tr>\n",
       "      <th>8</th>\n",
       "      <td>bus</td>\n",
       "      <td>1127</td>\n",
       "      <td>231089</td>\n",
       "    </tr>\n",
       "    <tr>\n",
       "      <th>9</th>\n",
       "      <td>traffic sign</td>\n",
       "      <td>1623</td>\n",
       "      <td>330770</td>\n",
       "    </tr>\n",
       "    <tr>\n",
       "      <th>10</th>\n",
       "      <td>car</td>\n",
       "      <td>4016</td>\n",
       "      <td>815104</td>\n",
       "    </tr>\n",
       "    <tr>\n",
       "      <th>11</th>\n",
       "      <td>cargroup</td>\n",
       "      <td>31871</td>\n",
       "      <td>6483885</td>\n",
       "    </tr>\n",
       "    <tr>\n",
       "      <th>12</th>\n",
       "      <td>fence</td>\n",
       "      <td>263</td>\n",
       "      <td>52457</td>\n",
       "    </tr>\n",
       "    <tr>\n",
       "      <th>13</th>\n",
       "      <td>dynamic</td>\n",
       "      <td>4610</td>\n",
       "      <td>928941</td>\n",
       "    </tr>\n",
       "    <tr>\n",
       "      <th>14</th>\n",
       "      <td>person</td>\n",
       "      <td>1393</td>\n",
       "      <td>281765</td>\n",
       "    </tr>\n",
       "    <tr>\n",
       "      <th>15</th>\n",
       "      <td>rider</td>\n",
       "      <td>5538</td>\n",
       "      <td>1123289</td>\n",
       "    </tr>\n",
       "    <tr>\n",
       "      <th>16</th>\n",
       "      <td>bicycle</td>\n",
       "      <td>706</td>\n",
       "      <td>143554</td>\n",
       "    </tr>\n",
       "    <tr>\n",
       "      <th>17</th>\n",
       "      <td>ego vehicle</td>\n",
       "      <td>1360</td>\n",
       "      <td>281819</td>\n",
       "    </tr>\n",
       "    <tr>\n",
       "      <th>18</th>\n",
       "      <td>rectification border</td>\n",
       "      <td>32088</td>\n",
       "      <td>6816552</td>\n",
       "    </tr>\n",
       "    <tr>\n",
       "      <th>19</th>\n",
       "      <td>out of roi</td>\n",
       "      <td>8640</td>\n",
       "      <td>1777224</td>\n",
       "    </tr>\n",
       "    <tr>\n",
       "      <th>20</th>\n",
       "      <td>persongroup</td>\n",
       "      <td>10296</td>\n",
       "      <td>2424312</td>\n",
       "    </tr>\n",
       "    <tr>\n",
       "      <th>21</th>\n",
       "      <td>motorcycle</td>\n",
       "      <td>120</td>\n",
       "      <td>23410</td>\n",
       "    </tr>\n",
       "    <tr>\n",
       "      <th>22</th>\n",
       "      <td>wall</td>\n",
       "      <td>206</td>\n",
       "      <td>40392</td>\n",
       "    </tr>\n",
       "    <tr>\n",
       "      <th>23</th>\n",
       "      <td>terrain</td>\n",
       "      <td>3972</td>\n",
       "      <td>806847</td>\n",
       "    </tr>\n",
       "    <tr>\n",
       "      <th>24</th>\n",
       "      <td>license plate</td>\n",
       "      <td>12157</td>\n",
       "      <td>2468593</td>\n",
       "    </tr>\n",
       "    <tr>\n",
       "      <th>25</th>\n",
       "      <td>rail track</td>\n",
       "      <td>376</td>\n",
       "      <td>76356</td>\n",
       "    </tr>\n",
       "    <tr>\n",
       "      <th>26</th>\n",
       "      <td>train</td>\n",
       "      <td>1571</td>\n",
       "      <td>319983</td>\n",
       "    </tr>\n",
       "    <tr>\n",
       "      <th>27</th>\n",
       "      <td>ground</td>\n",
       "      <td>1694</td>\n",
       "      <td>345372</td>\n",
       "    </tr>\n",
       "    <tr>\n",
       "      <th>28</th>\n",
       "      <td>parking</td>\n",
       "      <td>12561</td>\n",
       "      <td>2561473</td>\n",
       "    </tr>\n",
       "    <tr>\n",
       "      <th>29</th>\n",
       "      <td>bicyclegroup</td>\n",
       "      <td>915</td>\n",
       "      <td>184987</td>\n",
       "    </tr>\n",
       "    <tr>\n",
       "      <th>30</th>\n",
       "      <td>bridge</td>\n",
       "      <td>1088</td>\n",
       "      <td>220915</td>\n",
       "    </tr>\n",
       "    <tr>\n",
       "      <th>31</th>\n",
       "      <td>polegroup</td>\n",
       "      <td>5248</td>\n",
       "      <td>1053296</td>\n",
       "    </tr>\n",
       "    <tr>\n",
       "      <th>32</th>\n",
       "      <td>truck</td>\n",
       "      <td>38</td>\n",
       "      <td>8216</td>\n",
       "    </tr>\n",
       "    <tr>\n",
       "      <th>33</th>\n",
       "      <td>caravan</td>\n",
       "      <td>None</td>\n",
       "      <td>None</td>\n",
       "    </tr>\n",
       "    <tr>\n",
       "      <th>34</th>\n",
       "      <td>trailer</td>\n",
       "      <td>None</td>\n",
       "      <td>None</td>\n",
       "    </tr>\n",
       "    <tr>\n",
       "      <th>35</th>\n",
       "      <td>guard rail</td>\n",
       "      <td>None</td>\n",
       "      <td>None</td>\n",
       "    </tr>\n",
       "    <tr>\n",
       "      <th>36</th>\n",
       "      <td>motorcyclegroup</td>\n",
       "      <td>None</td>\n",
       "      <td>None</td>\n",
       "    </tr>\n",
       "  </tbody>\n",
       "</table>\n",
       "</div>"
      ],
      "text/plain": [
       "               classname patches    pixels\n",
       "0                    sky  190129  39093684\n",
       "1                   road   28658   5696372\n",
       "2               sidewalk  236391  48247970\n",
       "3               building   45884   9337576\n",
       "4             vegetation  154313  31143929\n",
       "5                   pole  111236  22429876\n",
       "6                 static    8107   1638940\n",
       "7          traffic light   10084   2058436\n",
       "8                    bus    1127    231089\n",
       "9           traffic sign    1623    330770\n",
       "10                   car    4016    815104\n",
       "11              cargroup   31871   6483885\n",
       "12                 fence     263     52457\n",
       "13               dynamic    4610    928941\n",
       "14                person    1393    281765\n",
       "15                 rider    5538   1123289\n",
       "16               bicycle     706    143554\n",
       "17           ego vehicle    1360    281819\n",
       "18  rectification border   32088   6816552\n",
       "19            out of roi    8640   1777224\n",
       "20           persongroup   10296   2424312\n",
       "21            motorcycle     120     23410\n",
       "22                  wall     206     40392\n",
       "23               terrain    3972    806847\n",
       "24         license plate   12157   2468593\n",
       "25            rail track     376     76356\n",
       "26                 train    1571    319983\n",
       "27                ground    1694    345372\n",
       "28               parking   12561   2561473\n",
       "29          bicyclegroup     915    184987\n",
       "30                bridge    1088    220915\n",
       "31             polegroup    5248   1053296\n",
       "32                 truck      38      8216\n",
       "33               caravan    None      None\n",
       "34               trailer    None      None\n",
       "35            guard rail    None      None\n",
       "36       motorcyclegroup    None      None"
      ]
     },
     "execution_count": 33,
     "metadata": {},
     "output_type": "execute_result"
    }
   ],
   "source": [
    "df"
   ]
  },
  {
   "cell_type": "code",
   "execution_count": 68,
   "id": "40c27039",
   "metadata": {},
   "outputs": [],
   "source": [
    "idx = 16"
   ]
  },
  {
   "cell_type": "code",
   "execution_count": 69,
   "id": "db4a41a5",
   "metadata": {},
   "outputs": [
    {
     "data": {
      "text/plain": [
       "(1400, 1050)"
      ]
     },
     "execution_count": 69,
     "metadata": {},
     "output_type": "execute_result"
    }
   ],
   "source": [
    "train['images'][idx]['width'], train['images'][idx]['height']"
   ]
  },
  {
   "cell_type": "code",
   "execution_count": 70,
   "id": "c4a44b48",
   "metadata": {},
   "outputs": [
    {
     "data": {
      "text/plain": [
       "array([ 0.,  4.,  5., 10.])"
      ]
     },
     "execution_count": 70,
     "metadata": {},
     "output_type": "execute_result"
    }
   ],
   "source": [
    "np.unique(train['images'][idx]['black_image'])"
   ]
  },
  {
   "cell_type": "code",
   "execution_count": 71,
   "id": "87ac074c",
   "metadata": {},
   "outputs": [
    {
     "data": {
      "image/png": "[encoded data removed]",
      "text/plain": [
       "<Figure size 640x480 with 1 Axes>"
      ]
     },
     "metadata": {},
     "output_type": "display_data"
    }
   ],
   "source": [
    "plt.figure()\n",
    "plt.imshow(cv2.resize(train['images'][idx]['black_image'], (224,224)), vmin=0, vmax=n_class, cmap='nipy_spectral');"
   ]
  },
  {
   "cell_type": "code",
   "execution_count": 72,
   "id": "89c2c914",
   "metadata": {},
   "outputs": [
    {
     "data": {
      "image/png": "[encoded data removed]",
      "text/plain": [
       "<Figure size 640x480 with 1 Axes>"
      ]
     },
     "metadata": {},
     "output_type": "display_data"
    }
   ],
   "source": [
    "plt.figure()\n",
    "plt.imshow(cv2.resize(\n",
    "    train['images'][idx]['black_image'], ((14,14)), interpolation=cv2.INTER_NEAREST_EXACT\n",
    "          ), vmin=0, vmax=n_class, cmap='nipy_spectral');"
   ]
  },
  {
   "cell_type": "code",
   "execution_count": 73,
   "id": "1ee31ab4",
   "metadata": {},
   "outputs": [
    {
     "data": {
      "image/png": "[encoded data removed]",
      "text/plain": [
       "<Figure size 640x480 with 1 Axes>"
      ]
     },
     "metadata": {},
     "output_type": "display_data"
    }
   ],
   "source": [
    "plt.figure()\n",
    "plt.imshow(np.array(train['images'][idx]['patch_labels']).reshape((14,14)), vmin=0, vmax=n_class, cmap='nipy_spectral');"
   ]
  },
  {
   "cell_type": "code",
   "execution_count": null,
   "id": "993e3d63",
   "metadata": {},
   "outputs": [],
   "source": []
  }
 ],
 "metadata": {
  "kernelspec": {
   "display_name": "Python 3 (ipykernel)",
   "language": "python",
   "name": "python3"
  },
  "language_info": {
   "codemirror_mode": {
    "name": "ipython",
    "version": 3
   },
   "file_extension": ".py",
   "mimetype": "text/x-python",
   "name": "python",
   "nbconvert_exporter": "python",
   "pygments_lexer": "ipython3",
   "version": "3.10.9"
  }
 },
 "nbformat": 4,
 "nbformat_minor": 5
}
